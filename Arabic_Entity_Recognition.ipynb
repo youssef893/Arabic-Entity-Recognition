{
  "cells": [
    {
      "cell_type": "markdown",
      "metadata": {
        "id": "view-in-github",
        "colab_type": "text"
      },
      "source": [
        "<a href=\"https://colab.research.google.com/github/youssef893/Arabic-Entity-Recognition/blob/main/Arabic_Entity_Recognition.ipynb\" target=\"_parent\"><img src=\"https://colab.research.google.com/assets/colab-badge.svg\" alt=\"Open In Colab\"/></a>"
      ]
    },
    {
      "cell_type": "markdown",
      "source": [
        "# Import all needed libraries"
      ],
      "metadata": {
        "id": "JC__rv0wR1hh"
      }
    },
    {
      "cell_type": "code",
      "source": [
        "import nltk\n",
        "nltk.download('stopwords')\n",
        "import tensorflow as tf"
      ],
      "metadata": {
        "id": "ANcth6NXyRd5",
        "colab": {
          "base_uri": "https://localhost:8080/"
        },
        "outputId": "136cdf25-0a86-4494-9f73-36e964bc164f"
      },
      "execution_count": 197,
      "outputs": [
        {
          "output_type": "stream",
          "name": "stdout",
          "text": [
            "[nltk_data] Downloading package stopwords to /root/nltk_data...\n",
            "[nltk_data]   Package stopwords is already up-to-date!\n"
          ]
        }
      ]
    },
    {
      "cell_type": "code",
      "execution_count": 198,
      "metadata": {
        "id": "ySwDuQzCoSub"
      },
      "outputs": [],
      "source": [
        "import os\n",
        "import numpy as np\n",
        "import matplotlib.pyplot as plt\n",
        "import seaborn as sns\n",
        "import pandas as pd"
      ]
    },
    {
      "cell_type": "code",
      "source": [
        "import re\n",
        "from nltk.corpus import stopwords\n",
        "from nltk.stem.isri import ISRIStemmer"
      ],
      "metadata": {
        "id": "sczWd4zmMwh6"
      },
      "execution_count": 199,
      "outputs": []
    },
    {
      "cell_type": "code",
      "source": [
        "import gensim\n",
        "from gensim.models import KeyedVectors\n",
        "from gensim.models import word2vec"
      ],
      "metadata": {
        "id": "O5VrTYV9MqE3"
      },
      "execution_count": 200,
      "outputs": []
    },
    {
      "cell_type": "code",
      "source": [
        "from sklearn.model_selection import train_test_split\n",
        "from sklearn.preprocessing import LabelEncoder, OneHotEncoder\n",
        "from keras.preprocessing.text import Tokenizer\n",
        "from keras.preprocessing.sequence import pad_sequences"
      ],
      "metadata": {
        "id": "i77UVQZQMhu-"
      },
      "execution_count": 201,
      "outputs": []
    },
    {
      "cell_type": "code",
      "source": [
        "from keras.layers import Dense, LSTM, Embedding, Bidirectional\n",
        "from keras import Input\n",
        "from keras.models import Model"
      ],
      "metadata": {
        "id": "6W_jm4KKMdy2"
      },
      "execution_count": 202,
      "outputs": []
    },
    {
      "cell_type": "code",
      "source": [
        "arabic_stop_word = stopwords.words('arabic')\n",
        "stemmer = ISRIStemmer()"
      ],
      "metadata": {
        "id": "fz5XRFTw4q8U"
      },
      "execution_count": 203,
      "outputs": []
    },
    {
      "cell_type": "markdown",
      "source": [
        "# Utilz"
      ],
      "metadata": {
        "id": "nVVQIxH13-3V"
      }
    },
    {
      "cell_type": "code",
      "source": [
        "def token_preprocessing(token):\n",
        "  \"\"\"\n",
        "  parameter: \n",
        "    token: string contain word\n",
        "\n",
        "    return: \n",
        "      token: the word after removing preffix and suffix (get the original word)\n",
        "      true: if it is not a stop word\n",
        "  \"\"\"\n",
        "  is_arabic = bool(re.match('^[ا-ى][أ-ي]', token))\n",
        "  if token not in arabic_stop_word and is_arabic:\n",
        "    token = stemmer.stem(token)\n",
        "    return token, False\n",
        "  \n",
        "  return token, True\n",
        "  "
      ],
      "metadata": {
        "id": "ynwIAeVq5SaN"
      },
      "execution_count": 204,
      "outputs": []
    },
    {
      "cell_type": "code",
      "source": [
        "def is_txt(file):\n",
        "  \"\"\"\n",
        "    return true if this file extention\n",
        "\n",
        "    parameters:\n",
        "      file: string contains the full name of this file \n",
        "  \"\"\"\n",
        "  return file.split('.')[-1] == \"txt\""
      ],
      "metadata": {
        "id": "VsUmWGMJ3-ao"
      },
      "execution_count": 205,
      "outputs": []
    },
    {
      "cell_type": "code",
      "source": [
        "def get_sentences(file):\n",
        "    \"\"\"\n",
        "    Parameters:\n",
        "      file: string contains the full name of this file \n",
        "\n",
        "\n",
        "    Returns:\n",
        "      sentences: array contains all sentences exist in this txt file\n",
        "    \"\"\"\n",
        "  \n",
        "\n",
        "    sentences = []\n",
        "\n",
        "    with open(file) as f:\n",
        "      lines = f.readlines()\n",
        "\n",
        "    sentence = \"\"\n",
        "    for line in lines:\n",
        "      line = line.replace('.', '').split()\n",
        "      if len(line) == 0: # then current line contains '.' or ','\n",
        "        sentences.append(sentence)\n",
        "        sentence = \"\" \n",
        "      else :\n",
        "        sentence += f'{line[0]} '\n",
        "\n",
        "    return sentences\n",
        "\n",
        "    \n"
      ],
      "metadata": {
        "id": "q3NVwpv54Imd"
      },
      "execution_count": 206,
      "outputs": []
    },
    {
      "cell_type": "code",
      "source": [
        "def get_tokens_labels(file):\n",
        "    \"\"\"\n",
        "    Parameters:\n",
        "      file: string contains the full name of this file \n",
        "\n",
        "\n",
        "    Returns:\n",
        "      tokens: array contains all tokens exist in this txt file\n",
        "      labels: array contains all labels exist in this txt file\n",
        "\n",
        "    \"\"\"\n",
        "  \n",
        "    # الاحسن هنا كبرفورمنس نشتغل ديكشنرى وهتتعدل بعدين بس نشوف الدنيا بالمنظر ده تبسيطا مش اكتر\n",
        "    \n",
        "    tokens = [] \n",
        "    labels = []\n",
        "\n",
        "    with open(file) as f:\n",
        "      lines = f.readlines()\n",
        "\n",
        "    sentence = \"\"\n",
        "    for line in lines:\n",
        "\n",
        "      if len( line.split() ) == 0: # then current line is \\n\n",
        "        continue\n",
        "      \n",
        "      token , label = line.split()\n",
        "      token, is_stopword = token_preprocessing(token)\n",
        "\n",
        "      if not is_stopword: # to avoid duplicated tokens\n",
        "          tokens.append(token)\n",
        "          labels.append(label)\n",
        "\n",
        "    return tokens,labels\n",
        "\n",
        "    \n"
      ],
      "metadata": {
        "id": "y9KX8GhN1Kqo"
      },
      "execution_count": 207,
      "outputs": []
    },
    {
      "cell_type": "markdown",
      "source": [
        "## Loading Data"
      ],
      "metadata": {
        "id": "60SSTtZd3uHC"
      }
    },
    {
      "cell_type": "code",
      "source": [
        "from zipfile import ZipFile\n",
        "\n",
        "with ZipFile('/content/AQMAR_Arabic_NER_corpus-1.0.zip', 'r') as zipObj:\n",
        "   # Extract all the contents of zip file in different directory\n",
        "   zipObj.extractall('AQMAR')\n",
        "   print('File is unzipped in AQMAR folder') "
      ],
      "metadata": {
        "colab": {
          "base_uri": "https://localhost:8080/"
        },
        "id": "nFpbJ6HW2yFH",
        "outputId": "d9f70593-a320-4447-f585-d75b12716cd1"
      },
      "execution_count": 208,
      "outputs": [
        {
          "output_type": "stream",
          "name": "stdout",
          "text": [
            "File is unzipped in AQMAR folder\n"
          ]
        }
      ]
    },
    {
      "cell_type": "code",
      "source": [
        "data_folder = \"/content/AQMAR\"\n",
        "files = sorted(os.listdir(data_folder))"
      ],
      "metadata": {
        "id": "LLzraYd23mDA"
      },
      "execution_count": 209,
      "outputs": []
    },
    {
      "cell_type": "code",
      "source": [
        "for i , file in enumerate(files):\n",
        "    print(f'i = {i+1} | File = {file}')\n",
        "    \n",
        "print(f'\\nExample For A Full Path {data_folder}/{file}')"
      ],
      "metadata": {
        "colab": {
          "base_uri": "https://localhost:8080/"
        },
        "id": "OXLPIbFm3r3G",
        "outputId": "ab5c6629-64d7-4544-a802-ba357eaa7e99"
      },
      "execution_count": 210,
      "outputs": [
        {
          "output_type": "stream",
          "name": "stdout",
          "text": [
            "i = 1 | File = Atom.txt\n",
            "i = 2 | File = Christiano_Ronaldo.txt\n",
            "i = 3 | File = Computer.txt\n",
            "i = 4 | File = Computer_Software.txt\n",
            "i = 5 | File = Crusades.txt\n",
            "i = 6 | File = Damascus.txt\n",
            "i = 7 | File = Enrico_Fermi.txt\n",
            "i = 8 | File = Football.txt\n",
            "i = 9 | File = Ibn_Tolun_Mosque.txt\n",
            "i = 10 | File = Imam_Hussein_Shrine.txt\n",
            "i = 11 | File = Internet.txt\n",
            "i = 12 | File = Islamic_Golden_Age.txt\n",
            "i = 13 | File = Islamic_History.txt\n",
            "i = 14 | File = LICENSE\n",
            "i = 15 | File = Light.txt\n",
            "i = 16 | File = Linux.txt\n",
            "i = 17 | File = Nuclear_Power.txt\n",
            "i = 18 | File = Periodic_Table.txt\n",
            "i = 19 | File = Physics.txt\n",
            "i = 20 | File = Portugal_football_team.txt\n",
            "i = 21 | File = README\n",
            "i = 22 | File = Raul_Gonzales.txt\n",
            "i = 23 | File = Razi.txt\n",
            "i = 24 | File = Real_Madrid.txt\n",
            "i = 25 | File = Richard_Stallman.txt\n",
            "i = 26 | File = Soccer_Worldcup.txt\n",
            "i = 27 | File = Solaris.txt\n",
            "i = 28 | File = Summer_Olympics2004.txt\n",
            "i = 29 | File = Ummaya_Mosque.txt\n",
            "i = 30 | File = VERSION\n",
            "i = 31 | File = X_window_system.txt\n",
            "i = 32 | File = featureFiles\n",
            "\n",
            "Example For A Full Path /content/AQMAR/featureFiles\n"
          ]
        }
      ]
    },
    {
      "cell_type": "code",
      "source": [
        "txt_files = []\n",
        "for i , file in enumerate(files):\n",
        "    if is_txt(file):\n",
        "      txt_files.append(f'{data_folder}/{file}')"
      ],
      "metadata": {
        "id": "0WxpQ7Ea4YTc"
      },
      "execution_count": 211,
      "outputs": []
    },
    {
      "cell_type": "code",
      "source": [
        "txt_files"
      ],
      "metadata": {
        "colab": {
          "base_uri": "https://localhost:8080/"
        },
        "id": "-jdOkLV539ih",
        "outputId": "78f73307-193a-4d14-f3eb-97bfce5f952b"
      },
      "execution_count": 212,
      "outputs": [
        {
          "output_type": "execute_result",
          "data": {
            "text/plain": [
              "['/content/AQMAR/Atom.txt',\n",
              " '/content/AQMAR/Christiano_Ronaldo.txt',\n",
              " '/content/AQMAR/Computer.txt',\n",
              " '/content/AQMAR/Computer_Software.txt',\n",
              " '/content/AQMAR/Crusades.txt',\n",
              " '/content/AQMAR/Damascus.txt',\n",
              " '/content/AQMAR/Enrico_Fermi.txt',\n",
              " '/content/AQMAR/Football.txt',\n",
              " '/content/AQMAR/Ibn_Tolun_Mosque.txt',\n",
              " '/content/AQMAR/Imam_Hussein_Shrine.txt',\n",
              " '/content/AQMAR/Internet.txt',\n",
              " '/content/AQMAR/Islamic_Golden_Age.txt',\n",
              " '/content/AQMAR/Islamic_History.txt',\n",
              " '/content/AQMAR/Light.txt',\n",
              " '/content/AQMAR/Linux.txt',\n",
              " '/content/AQMAR/Nuclear_Power.txt',\n",
              " '/content/AQMAR/Periodic_Table.txt',\n",
              " '/content/AQMAR/Physics.txt',\n",
              " '/content/AQMAR/Portugal_football_team.txt',\n",
              " '/content/AQMAR/Raul_Gonzales.txt',\n",
              " '/content/AQMAR/Razi.txt',\n",
              " '/content/AQMAR/Real_Madrid.txt',\n",
              " '/content/AQMAR/Richard_Stallman.txt',\n",
              " '/content/AQMAR/Soccer_Worldcup.txt',\n",
              " '/content/AQMAR/Solaris.txt',\n",
              " '/content/AQMAR/Summer_Olympics2004.txt',\n",
              " '/content/AQMAR/Ummaya_Mosque.txt',\n",
              " '/content/AQMAR/X_window_system.txt']"
            ]
          },
          "metadata": {},
          "execution_count": 212
        }
      ]
    },
    {
      "cell_type": "code",
      "source": [
        "# train_X = [get_sentences(txt_file) for txt_file in txt_files]"
      ],
      "metadata": {
        "id": "-3ux8VG8EEtG"
      },
      "execution_count": 213,
      "outputs": []
    },
    {
      "cell_type": "code",
      "source": [
        "# len(train_X)"
      ],
      "metadata": {
        "id": "YPvnHAKpOcyO"
      },
      "execution_count": 214,
      "outputs": []
    },
    {
      "cell_type": "code",
      "source": [
        "# train_X[0]"
      ],
      "metadata": {
        "id": "m94lV0CkOl7l"
      },
      "execution_count": 215,
      "outputs": []
    },
    {
      "cell_type": "code",
      "source": [
        "tokens , labels = get_tokens_labels(txt_files[0])"
      ],
      "metadata": {
        "id": "3xUgQG9y2UFo"
      },
      "execution_count": 216,
      "outputs": []
    },
    {
      "cell_type": "code",
      "source": [
        "word = pd.DataFrame(labels)\n",
        "word.value_counts()"
      ],
      "metadata": {
        "colab": {
          "base_uri": "https://localhost:8080/"
        },
        "id": "eY-EeOOFT0vc",
        "outputId": "f4b20b97-bce5-4937-f715-5acd1b4dc2b1"
      },
      "execution_count": 217,
      "outputs": [
        {
          "output_type": "execute_result",
          "data": {
            "text/plain": [
              "O         1214\n",
              "B-MIS1      75\n",
              "B-MIS3      29\n",
              "I-MIS2      17\n",
              "B-PER       15\n",
              "B-MIS2      12\n",
              "B-MIS0       5\n",
              "I-MIS0       4\n",
              "B-MIS        1\n",
              "I-MIS1       1\n",
              "I-PER        1\n",
              "dtype: int64"
            ]
          },
          "metadata": {},
          "execution_count": 217
        }
      ]
    },
    {
      "cell_type": "code",
      "source": [
        "print(f'First Token is {tokens[0]} And Its label is {labels[0]}')\n",
        "len(tokens) == len(labels)\n",
        "output_length = len(set(labels))\n",
        "output_length"
      ],
      "metadata": {
        "colab": {
          "base_uri": "https://localhost:8080/"
        },
        "id": "4CNbMy282lPr",
        "outputId": "616488a5-0cf3-461c-85cc-8115e029b618"
      },
      "execution_count": 218,
      "outputs": [
        {
          "output_type": "stream",
          "name": "stdout",
          "text": [
            "First Token is ذرة And Its label is O\n"
          ]
        },
        {
          "output_type": "execute_result",
          "data": {
            "text/plain": [
              "11"
            ]
          },
          "metadata": {},
          "execution_count": 218
        }
      ]
    },
    {
      "cell_type": "code",
      "source": [
        "set(labels)"
      ],
      "metadata": {
        "colab": {
          "base_uri": "https://localhost:8080/"
        },
        "id": "ossvh48VWsh0",
        "outputId": "23e43e09-05c5-4024-c8e6-2f48ad7cf2ce"
      },
      "execution_count": 219,
      "outputs": [
        {
          "output_type": "execute_result",
          "data": {
            "text/plain": [
              "{'B-MIS',\n",
              " 'B-MIS0',\n",
              " 'B-MIS1',\n",
              " 'B-MIS2',\n",
              " 'B-MIS3',\n",
              " 'B-PER',\n",
              " 'I-MIS0',\n",
              " 'I-MIS1',\n",
              " 'I-MIS2',\n",
              " 'I-PER',\n",
              " 'O'}"
            ]
          },
          "metadata": {},
          "execution_count": 219
        }
      ]
    },
    {
      "cell_type": "markdown",
      "source": [
        "# **PREPARING DATA**"
      ],
      "metadata": {
        "id": "tpUNdueEPrw3"
      }
    },
    {
      "cell_type": "markdown",
      "source": [
        "Prepare data to model by encoding it into integers and one hot encoding then makes sequence from text \n"
      ],
      "metadata": {
        "id": "mF5m7_sBPZCv"
      }
    },
    {
      "cell_type": "code",
      "source": [
        "def encode_text(tokens):\n",
        "  \"\"\"\n",
        "    Parameters:\n",
        "      tokens: it is the all word\n",
        "\n",
        "    Return:\n",
        "      tokens: after encoding it using one hot encoder\n",
        "  \"\"\"\n",
        "  tokens = np.array(tokens)\n",
        "  onehot_encoder = OneHotEncoder(sparse=False)\n",
        "  tokens = tokens.reshape(-1, 1)\n",
        "  tokens = onehot_encoder.fit_transform(tokens)\n",
        "  return tokens"
      ],
      "metadata": {
        "id": "3mSbLbxRIKYx"
      },
      "execution_count": 220,
      "outputs": []
    },
    {
      "cell_type": "code",
      "source": [
        "tokenizer = Tokenizer()\n",
        "tokenizer.fit_on_texts(tokens)"
      ],
      "metadata": {
        "id": "z2ZeseEShibA"
      },
      "execution_count": 221,
      "outputs": []
    },
    {
      "cell_type": "code",
      "source": [
        "tokens = encode_text(tokens)\n",
        "labels = encode_text(labels)"
      ],
      "metadata": {
        "id": "_PAzWxR87I9D"
      },
      "execution_count": 222,
      "outputs": []
    },
    {
      "cell_type": "code",
      "source": [
        "pad_tokens = pad_sequences(tokens, maxlen=10, padding='post')"
      ],
      "metadata": {
        "id": "3vrg3FSBhx6v"
      },
      "execution_count": 223,
      "outputs": []
    },
    {
      "cell_type": "code",
      "source": [
        "len(pad_tokens)"
      ],
      "metadata": {
        "colab": {
          "base_uri": "https://localhost:8080/"
        },
        "id": "WW_vcT-KihE8",
        "outputId": "224225ab-02a6-486b-cb27-ca0f796e1b78"
      },
      "execution_count": 224,
      "outputs": [
        {
          "output_type": "execute_result",
          "data": {
            "text/plain": [
              "1374"
            ]
          },
          "metadata": {},
          "execution_count": 224
        }
      ]
    },
    {
      "cell_type": "code",
      "source": [
        "labels"
      ],
      "metadata": {
        "colab": {
          "base_uri": "https://localhost:8080/"
        },
        "id": "FeG3IAtB18Kn",
        "outputId": "adbd8360-1b13-4800-d735-4dfc11c2c129"
      },
      "execution_count": 225,
      "outputs": [
        {
          "output_type": "execute_result",
          "data": {
            "text/plain": [
              "array([[0., 0., 0., ..., 0., 0., 1.],\n",
              "       [0., 0., 0., ..., 0., 0., 1.],\n",
              "       [0., 0., 0., ..., 0., 0., 1.],\n",
              "       ...,\n",
              "       [0., 0., 0., ..., 0., 0., 1.],\n",
              "       [0., 0., 0., ..., 0., 0., 1.],\n",
              "       [0., 0., 0., ..., 0., 0., 1.]])"
            ]
          },
          "metadata": {},
          "execution_count": 225
        }
      ]
    },
    {
      "cell_type": "markdown",
      "source": [
        "Splite data into train, validation and test"
      ],
      "metadata": {
        "id": "ITsQ-fqXQARb"
      }
    },
    {
      "cell_type": "code",
      "source": [
        "x_train, x_test, y_train, y_test = train_test_split(pad_tokens, labels, test_size=0.2, random_state=42)\n",
        "x_train, x_valid, y_train, y_valid = train_test_split(x_train, y_train, test_size=0.2, random_state=42)"
      ],
      "metadata": {
        "id": "44C20gGK1W_N"
      },
      "execution_count": 226,
      "outputs": []
    },
    {
      "cell_type": "markdown",
      "source": [
        "# Recognition Model"
      ],
      "metadata": {
        "id": "MoWaJ8DHQZ0U"
      }
    },
    {
      "cell_type": "markdown",
      "source": [
        "Download pretrained word2vec model for arabic ===> aravec model"
      ],
      "metadata": {
        "id": "-PXzyHPYQGvW"
      }
    },
    {
      "cell_type": "code",
      "source": [
        "\"\"\" Both of them give same accuracy \"\"\"\n",
        "# !wget https://archive.org/download/aravec2.0/tweet_cbow_300.zip  # This is model which train on 132,750,000 documents\n",
        "# !wget https://archive.org/download/aravec2.0/www_cbow_300.zip  # This is model which train on 66,900,000 documents "
      ],
      "metadata": {
        "id": "NPFmZmo-rRaJ",
        "colab": {
          "base_uri": "https://localhost:8080/"
        },
        "outputId": "05b1a9f8-0b5f-461f-c4a4-d90993d24657"
      },
      "execution_count": 227,
      "outputs": [
        {
          "output_type": "stream",
          "name": "stdout",
          "text": [
            "--2022-05-12 17:49:08--  https://archive.org/download/aravec2.0/www_cbow_300.zip\n",
            "Resolving archive.org (archive.org)... 207.241.224.2\n",
            "Connecting to archive.org (archive.org)|207.241.224.2|:443... connected.\n",
            "HTTP request sent, awaiting response... 302 Found\n",
            "Location: https://ia803107.us.archive.org/0/items/aravec2.0/www_cbow_300.zip [following]\n",
            "--2022-05-12 17:49:09--  https://ia803107.us.archive.org/0/items/aravec2.0/www_cbow_300.zip\n",
            "Resolving ia803107.us.archive.org (ia803107.us.archive.org)... 207.241.232.157\n",
            "Connecting to ia803107.us.archive.org (ia803107.us.archive.org)|207.241.232.157|:443... connected.\n",
            "HTTP request sent, awaiting response... 200 OK\n",
            "Length: 528559409 (504M) [application/zip]\n",
            "Saving to: ‘www_cbow_300.zip’\n",
            "\n",
            "www_cbow_300.zip    100%[===================>] 504.07M  1.30MB/s    in 5m 27s  \n",
            "\n",
            "2022-05-12 17:54:35 (1.54 MB/s) - ‘www_cbow_300.zip’ saved [528559409/528559409]\n",
            "\n"
          ]
        }
      ]
    },
    {
      "cell_type": "code",
      "source": [
        "# !unzip -q www_cbow_300  \n",
        "# !unzip -q tweet_cbow_300  "
      ],
      "metadata": {
        "id": "yyFPwrzXVxJR"
      },
      "execution_count": 244,
      "outputs": []
    },
    {
      "cell_type": "code",
      "source": [
        "aravec_embeddings_index = {}\n",
        "TOTAL_EMBEDDING_DIM = 300\n",
        "embeddings_model_path = '/content/www_cbow_300'\n",
        "\n",
        "aravec_model = KeyedVectors.load(embeddings_model_path)  # load word2vec model\n",
        "# loop to getting values of words\n",
        "for word in aravec_model.wv.vocab:\n",
        "   aravec_embeddings_index[word] = aravec_model[word]\n",
        "\n",
        "print('Loaded %s word vectors.'% len(aravec_embeddings_index))"
      ],
      "metadata": {
        "colab": {
          "base_uri": "https://localhost:8080/"
        },
        "id": "0LVg00wwijGP",
        "outputId": "ad5d97c6-6fb3-4f8f-9643-4eaf938dab12"
      },
      "execution_count": 229,
      "outputs": [
        {
          "output_type": "stream",
          "name": "stderr",
          "text": [
            "/usr/local/lib/python3.7/dist-packages/ipykernel_launcher.py:8: DeprecationWarning: Call to deprecated `__getitem__` (Method will be removed in 4.0.0, use self.wv.__getitem__() instead).\n",
            "  \n"
          ]
        },
        {
          "output_type": "stream",
          "name": "stdout",
          "text": [
            "Loaded 234961 word vectors.\n"
          ]
        }
      ]
    },
    {
      "cell_type": "code",
      "source": [
        "# create a weight matrix for words in training docs\n",
        "vocab_size = len(tokenizer.word_index) + 1\n",
        "embedding_matrix = np.zeros((vocab_size, TOTAL_EMBEDDING_DIM))\n",
        "print(tokenizer.word_index.items(), tokenizer.word_index)\n",
        "for word, i in tokenizer.word_index.items():\n",
        "    embedding_vector = aravec_embeddings_index.get(word)\n",
        "    if embedding_vector is not None:\n",
        "        embedding_matrix[i] = embedding_vector\n",
        "\n",
        "print('Embedding Matrix shape:', embedding_matrix.shape)"
      ],
      "metadata": {
        "colab": {
          "base_uri": "https://localhost:8080/"
        },
        "id": "WM4k6kliltxq",
        "outputId": "5bb12ae8-d56b-4536-9844-315750159a2f"
      },
      "execution_count": 230,
      "outputs": [
        {
          "output_type": "stream",
          "name": "stdout",
          "text": [
            "dict_items([('ذرة', 1), ('عدد', 2), ('كترو', 3), ('غلف', 4), ('عنصر', 5), ('ذرت', 6), ('نظر', 7), ('كتل', 8), ('دار', 9), ('طقة', 10), ('وجد', 11), ('روتو', 12), ('نوة', 13), ('حدد', 14), ('كتر', 15), ('جسم', 16), ('جمع', 17), ('شحن', 18), ('لكم', 19), ('طرق', 20), ('وجب', 21), ('ركب', 22), ('علم', 23), ('ربط', 24), ('أثر', 25), ('ورو', 26), ('كون', 27), ('كشف', 28), ('شغل', 29), ('تم', 30), ('تتك', 31), ('وحد', 32), ('درس', 33), ('قسم', 34), ('سمى', 35), ('قرن', 36), ('ملئ', 37), ('خرج', 38), ('عند', 39), ('شكل', 40), ('حجم', 41), ('قرب', 42), ('كيميائ', 43), ('قبل', 44), ('صغر', 45), ('ادة', 46), ('مثل', 47), ('خلف', 48), ('جدد', 49), ('وهذا', 50), ('ثني', 51), ('ويم', 52), ('كفؤ', 53), ('كمم', 54), ('لأن', 55), ('ذري', 56), ('عرف', 57), ('جزء', 58), ('كيميائية', 59), ('برت', 60), ('صنع', 61), ('نفس', 62), ('قدر', 63), ('علماء', 64), ('عبر', 65), ('هيدروج', 66), ('عام', 67), ('حسب', 68), ('هكذ', 69), ('نين', 70), ('رقم', 71), ('طيف', 72), ('حلة', 73), ('طبق', 74), ('ستي', 75), ('تكون', 76), ('خدم', 77), ('كلم', 78), ('سلب', 79), ('فرق', 80), ('ثلا', 81), ('حمل', 82), ('فرع', 83), ('بدأ', 84), ('طبع', 85), ('فرض', 86), ('فسر', 87), ('وجة', 88), ('حدث', 89), ('ميكانيكا', 90), ('رئس', 91), ('غزل', 92), ('عمد', 93), ('هيليوم', 94), ('تما', 95), ('صوديوم', 96), ('كبر', 97), ('وقد', 98), ('كثر', 99), ('سلك', 100), ('دور', 101), ('فإن', 102), ('بصر', 103), ('غرق', 104), ('جدا', 105), ('صور', 106), ('فعل', 107), ('ظهر', 108), ('تنص', 109), ('واد', 110), ('عدة', 111), ('تصر', 112), ('هيئ', 113), ('نهي', 114), ('عقد', 115), ('جرب', 116), ('بعد', 117), ('ريض', 118), ('خلل', 119), ('علق', 120), ('أعل', 121), ('خمل', 122), ('وله', 123), ('اول', 124), ('نشط', 125), ('جال', 126), ('زيم', 127), ('دخل', 128), ('كسب', 129), ('تغر', 130), ('عمل', 131), ('على', 132), ('تقم', 133), ('جدل', 134), ('حوي', 135), ('سوي', 136), ('نوي', 137), ('لكل', 138), ('فقد', 139), ('تحل', 140), ('عين', 141), ('سهم', 142), ('ديموقراطس', 143), ('خصص', 144), ('عادل', 145), ('بقة', 146), ('عناصر؛', 147), ('وزع', 148), ('ظل', 149), ('زيد', 150), ('بدء', 151), ('أكد', 152), ('دلت', 153), ('تضم', 154), ('دقق', 155), ('وهر', 156), ('حتي', 157), ('سئد', 158), ('حلي', 159), ('بنء', 160), ('بكر', 161), ('الم', 162), ('هيزنبرج', 163), ('ساو', 164), ('شرودنجر', 165), ('وأم', 166), ('ثلث', 167), ('ولى', 168), ('نجد', 169), ('مغناطيسي', 170), ('قيم', 171), ('خطط', 172), ('نشق', 173), ('كهربائ', 174), ('شتر', 175), ('بول', 176), ('وبالتالى', 177), ('ستى', 178), ('بدر', 179), ('نسب', 180), ('بلر', 181), ('صلب', 182), ('جاور', 183), ('تقن', 184), ('نوت', 185), ('رجع', 186), ('عنى', 187), ('غير', 188), ('تشر', 189), ('يتم', 190), ('ريب', 191), ('كتب', 192), ('طلق', 193), ('ويك', 194), ('حرة', 195), ('ضمن', 196), ('تحد', 197), ('كسج', 198), ('ولك', 199), ('خارجى', 200), ('وتك', 201), ('جزئ', 202), ('غية', 203), ('وأض', 204), ('وكل', 205), ('خوص', 206), ('إثب', 207), ('كانت', 208), ('لذلك', 209), ('وتع', 210), ('قسم؛', 211), ('سحب', 212), ('تحم', 213), ('حول', 214), ('وسط', 215), ('غصن', 216), ('نلق', 217), ('بنى', 218), ('خصائص؛', 219), ('بروتونات', 220), ('سمة', 221), ('خوض', 222), ('بلغ', 223), ('زال', 224), ('عها', 225), ('بدئ', 226), ('خصة', 227), ('عدم', 228), ('لثق', 229), ('رور', 230), ('كبرى', 231), ('نهء', 232), ('وار', 233), ('فئق', 234), ('هتم', 235), ('لقت', 236), ('بني', 237), ('اخذ', 238), ('طور', 239), ('دلة', 240), ('طول', 241), ('وجي', 242), ('الكترونى', 243), ('يمن', 244), ('صف', 245), ('وضح', 246), ('حرف', 247), ('تسع', 248), ('بأن', 249), ('وباكتشاف', 250), ('جيز', 251), ('ومس', 252), ('شهر', 253), ('نقط', 254), ('زيت', 255), ('فتح', 256), ('طاع', 257), ('فك', 258), ('كرس', 259), ('همم', 260), ('بحت', 261), ('وان', 262), ('تأ', 263), ('خذ', 264), ('خصي', 265), ('عوم', 266), ('نجح', 267), ('حدة', 268), ('صفف', 269), ('وسم', 270), ('ربع', 271), ('درج', 272), ('ثيم', 273), ('ريليوم', 274), ('بور', 275), ('لحظ', 276), ('تمز', 277), ('أغلف', 278), ('سر', 279), ('تلي', 280), ('عشر', 281), ('ضبط', 282), ('لهذ', 283), ('وإلكترونه', 284), ('ضطر', 285), ('هولند', 286), ('كشق', 287), ('بسم', 288), ('بذل', 289), ('وطق', 290), ('أربع', 291), ('بدق', 292), ('كمل', 293), ('صغه', 294), ('جنج', 295), ('كرو', 296), ('تخذ', 297), ('دره', 298), ('طرد', 299), ('فوت', 300), ('شعع', 301), ('ردد', 302), ('علي', 303), ('فلى', 304), ('سهل', 305), ('الكترونية', 306), ('ثبت', 307), ('ساف', 308), ('نوا', 309), ('جذب', 310), ('نحي', 311), ('خصا', 312), ('حال', 313), ('فكن', 314), ('ثقة', 315), ('اقل', 316), ('صفت', 317), ('فيزيائية', 318), ('تبع', 319), ('واع', 320), ('فهم', 321), ('بسط', 322), ('ذرة؛', 323), ('فهي', 324), ('ضئل', 325), ('همل', 326), ('تقس', 327), ('وتر', 328), ('بهذا', 329), ('بإم', 330), ('نيوكليون', 331), ('الي', 332), ('لكن', 333), ('تفو', 334), ('بين', 335), ('ميز', 336), ('اسم', 337), ('متبوعامن', 338), ('ديتيريوم', 339), ('حوه', 340), ('تفق', 341), ('بذا', 342), ('باستثناء', 343), ('سوء', 344), ('فذر', 345), ('هوء', 346), ('ماء', 347), ('اصل', 348), ('توقع', 349), ('تقع', 350), ('والتي', 351), ('لعب', 352), ('ثنى', 353), ('صعد', 354), ('ونع', 355), ('كثف', 356), ('لأى', 357), ('عدل', 358), ('تقو', 359), ('اخر', 360), ('لإن', 361), ('داخلى', 362), ('نقل', 363), ('سرع', 364), ('دخى', 365), ('يقم', 366), ('إخراج', 367), ('ساى', 368), ('حكم', 369), ('ولذ', 370), ('وضع', 371), ('حوى', 372), ('كقعد', 373), ('قلت', 374), ('زاد', 375), ('فلز', 376), ('أكثر', 377), ('روبديوم', 378), ('رنسيوم', 379), ('استقرارا', 380), ('وصل', 381), ('لهذا', 382), ('اتي', 383), ('تزل', 384), ('خرى', 385), ('حرك', 386), ('جعل', 387), ('معا', 388), ('وعن', 389), ('ايي', 390), ('ضخم', 391), ('بصف', 392), ('خضع', 393), ('لير', 394), ('سنة', 395), ('ضوئ', 396), ('همي', 397), ('ظلت', 398), ('محل', 399), ('ركز', 400), ('وكان', 401), ('زيء', 402), ('كيمياء', 403), ('ايم', 404), ('تمت', 405), ('بدن', 406), ('قصد', 407), ('بشر', 408), ('وفى', 409), ('سنن', 410), ('أدق', 411), ('فعن', 412), ('ميكروسكوب', 413), ('فرد', 414), ('جي', 415), ('سي', 416), ('كروماتوجرافى', 417), ('غاز', 418), ('كريستالوجرافى', 419), ('ليسيوبوس', 420), ('لسف', 421), ('خمس', 422), ('يلد', 423), ('قدم', 424), ('حصو', 425), ('وقم', 426), ('شيئ', 427), ('ضاد', 428), ('هائ', 429), ('دائ', 430), ('وقت', 431), ('لحق', 432), ('وتم', 433), ('طومسونوكانت', 434), ('راذرفورد', 435), ('وأن', 436), ('أخذ', 437), ('منذ', 438), ('عهد', 439), ('قرح', 440), ('وبن', 441), ('خطأ', 442), ('بنة', 443), ('شبه', 444), ('هزز', 445), ('وهذ', 446), ('فكر', 447), ('حتى', 448), ('عرض', 449), ('وغر', 450)]) {'ذرة': 1, 'عدد': 2, 'كترو': 3, 'غلف': 4, 'عنصر': 5, 'ذرت': 6, 'نظر': 7, 'كتل': 8, 'دار': 9, 'طقة': 10, 'وجد': 11, 'روتو': 12, 'نوة': 13, 'حدد': 14, 'كتر': 15, 'جسم': 16, 'جمع': 17, 'شحن': 18, 'لكم': 19, 'طرق': 20, 'وجب': 21, 'ركب': 22, 'علم': 23, 'ربط': 24, 'أثر': 25, 'ورو': 26, 'كون': 27, 'كشف': 28, 'شغل': 29, 'تم': 30, 'تتك': 31, 'وحد': 32, 'درس': 33, 'قسم': 34, 'سمى': 35, 'قرن': 36, 'ملئ': 37, 'خرج': 38, 'عند': 39, 'شكل': 40, 'حجم': 41, 'قرب': 42, 'كيميائ': 43, 'قبل': 44, 'صغر': 45, 'ادة': 46, 'مثل': 47, 'خلف': 48, 'جدد': 49, 'وهذا': 50, 'ثني': 51, 'ويم': 52, 'كفؤ': 53, 'كمم': 54, 'لأن': 55, 'ذري': 56, 'عرف': 57, 'جزء': 58, 'كيميائية': 59, 'برت': 60, 'صنع': 61, 'نفس': 62, 'قدر': 63, 'علماء': 64, 'عبر': 65, 'هيدروج': 66, 'عام': 67, 'حسب': 68, 'هكذ': 69, 'نين': 70, 'رقم': 71, 'طيف': 72, 'حلة': 73, 'طبق': 74, 'ستي': 75, 'تكون': 76, 'خدم': 77, 'كلم': 78, 'سلب': 79, 'فرق': 80, 'ثلا': 81, 'حمل': 82, 'فرع': 83, 'بدأ': 84, 'طبع': 85, 'فرض': 86, 'فسر': 87, 'وجة': 88, 'حدث': 89, 'ميكانيكا': 90, 'رئس': 91, 'غزل': 92, 'عمد': 93, 'هيليوم': 94, 'تما': 95, 'صوديوم': 96, 'كبر': 97, 'وقد': 98, 'كثر': 99, 'سلك': 100, 'دور': 101, 'فإن': 102, 'بصر': 103, 'غرق': 104, 'جدا': 105, 'صور': 106, 'فعل': 107, 'ظهر': 108, 'تنص': 109, 'واد': 110, 'عدة': 111, 'تصر': 112, 'هيئ': 113, 'نهي': 114, 'عقد': 115, 'جرب': 116, 'بعد': 117, 'ريض': 118, 'خلل': 119, 'علق': 120, 'أعل': 121, 'خمل': 122, 'وله': 123, 'اول': 124, 'نشط': 125, 'جال': 126, 'زيم': 127, 'دخل': 128, 'كسب': 129, 'تغر': 130, 'عمل': 131, 'على': 132, 'تقم': 133, 'جدل': 134, 'حوي': 135, 'سوي': 136, 'نوي': 137, 'لكل': 138, 'فقد': 139, 'تحل': 140, 'عين': 141, 'سهم': 142, 'ديموقراطس': 143, 'خصص': 144, 'عادل': 145, 'بقة': 146, 'عناصر؛': 147, 'وزع': 148, 'ظل': 149, 'زيد': 150, 'بدء': 151, 'أكد': 152, 'دلت': 153, 'تضم': 154, 'دقق': 155, 'وهر': 156, 'حتي': 157, 'سئد': 158, 'حلي': 159, 'بنء': 160, 'بكر': 161, 'الم': 162, 'هيزنبرج': 163, 'ساو': 164, 'شرودنجر': 165, 'وأم': 166, 'ثلث': 167, 'ولى': 168, 'نجد': 169, 'مغناطيسي': 170, 'قيم': 171, 'خطط': 172, 'نشق': 173, 'كهربائ': 174, 'شتر': 175, 'بول': 176, 'وبالتالى': 177, 'ستى': 178, 'بدر': 179, 'نسب': 180, 'بلر': 181, 'صلب': 182, 'جاور': 183, 'تقن': 184, 'نوت': 185, 'رجع': 186, 'عنى': 187, 'غير': 188, 'تشر': 189, 'يتم': 190, 'ريب': 191, 'كتب': 192, 'طلق': 193, 'ويك': 194, 'حرة': 195, 'ضمن': 196, 'تحد': 197, 'كسج': 198, 'ولك': 199, 'خارجى': 200, 'وتك': 201, 'جزئ': 202, 'غية': 203, 'وأض': 204, 'وكل': 205, 'خوص': 206, 'إثب': 207, 'كانت': 208, 'لذلك': 209, 'وتع': 210, 'قسم؛': 211, 'سحب': 212, 'تحم': 213, 'حول': 214, 'وسط': 215, 'غصن': 216, 'نلق': 217, 'بنى': 218, 'خصائص؛': 219, 'بروتونات': 220, 'سمة': 221, 'خوض': 222, 'بلغ': 223, 'زال': 224, 'عها': 225, 'بدئ': 226, 'خصة': 227, 'عدم': 228, 'لثق': 229, 'رور': 230, 'كبرى': 231, 'نهء': 232, 'وار': 233, 'فئق': 234, 'هتم': 235, 'لقت': 236, 'بني': 237, 'اخذ': 238, 'طور': 239, 'دلة': 240, 'طول': 241, 'وجي': 242, 'الكترونى': 243, 'يمن': 244, 'صف': 245, 'وضح': 246, 'حرف': 247, 'تسع': 248, 'بأن': 249, 'وباكتشاف': 250, 'جيز': 251, 'ومس': 252, 'شهر': 253, 'نقط': 254, 'زيت': 255, 'فتح': 256, 'طاع': 257, 'فك': 258, 'كرس': 259, 'همم': 260, 'بحت': 261, 'وان': 262, 'تأ': 263, 'خذ': 264, 'خصي': 265, 'عوم': 266, 'نجح': 267, 'حدة': 268, 'صفف': 269, 'وسم': 270, 'ربع': 271, 'درج': 272, 'ثيم': 273, 'ريليوم': 274, 'بور': 275, 'لحظ': 276, 'تمز': 277, 'أغلف': 278, 'سر': 279, 'تلي': 280, 'عشر': 281, 'ضبط': 282, 'لهذ': 283, 'وإلكترونه': 284, 'ضطر': 285, 'هولند': 286, 'كشق': 287, 'بسم': 288, 'بذل': 289, 'وطق': 290, 'أربع': 291, 'بدق': 292, 'كمل': 293, 'صغه': 294, 'جنج': 295, 'كرو': 296, 'تخذ': 297, 'دره': 298, 'طرد': 299, 'فوت': 300, 'شعع': 301, 'ردد': 302, 'علي': 303, 'فلى': 304, 'سهل': 305, 'الكترونية': 306, 'ثبت': 307, 'ساف': 308, 'نوا': 309, 'جذب': 310, 'نحي': 311, 'خصا': 312, 'حال': 313, 'فكن': 314, 'ثقة': 315, 'اقل': 316, 'صفت': 317, 'فيزيائية': 318, 'تبع': 319, 'واع': 320, 'فهم': 321, 'بسط': 322, 'ذرة؛': 323, 'فهي': 324, 'ضئل': 325, 'همل': 326, 'تقس': 327, 'وتر': 328, 'بهذا': 329, 'بإم': 330, 'نيوكليون': 331, 'الي': 332, 'لكن': 333, 'تفو': 334, 'بين': 335, 'ميز': 336, 'اسم': 337, 'متبوعامن': 338, 'ديتيريوم': 339, 'حوه': 340, 'تفق': 341, 'بذا': 342, 'باستثناء': 343, 'سوء': 344, 'فذر': 345, 'هوء': 346, 'ماء': 347, 'اصل': 348, 'توقع': 349, 'تقع': 350, 'والتي': 351, 'لعب': 352, 'ثنى': 353, 'صعد': 354, 'ونع': 355, 'كثف': 356, 'لأى': 357, 'عدل': 358, 'تقو': 359, 'اخر': 360, 'لإن': 361, 'داخلى': 362, 'نقل': 363, 'سرع': 364, 'دخى': 365, 'يقم': 366, 'إخراج': 367, 'ساى': 368, 'حكم': 369, 'ولذ': 370, 'وضع': 371, 'حوى': 372, 'كقعد': 373, 'قلت': 374, 'زاد': 375, 'فلز': 376, 'أكثر': 377, 'روبديوم': 378, 'رنسيوم': 379, 'استقرارا': 380, 'وصل': 381, 'لهذا': 382, 'اتي': 383, 'تزل': 384, 'خرى': 385, 'حرك': 386, 'جعل': 387, 'معا': 388, 'وعن': 389, 'ايي': 390, 'ضخم': 391, 'بصف': 392, 'خضع': 393, 'لير': 394, 'سنة': 395, 'ضوئ': 396, 'همي': 397, 'ظلت': 398, 'محل': 399, 'ركز': 400, 'وكان': 401, 'زيء': 402, 'كيمياء': 403, 'ايم': 404, 'تمت': 405, 'بدن': 406, 'قصد': 407, 'بشر': 408, 'وفى': 409, 'سنن': 410, 'أدق': 411, 'فعن': 412, 'ميكروسكوب': 413, 'فرد': 414, 'جي': 415, 'سي': 416, 'كروماتوجرافى': 417, 'غاز': 418, 'كريستالوجرافى': 419, 'ليسيوبوس': 420, 'لسف': 421, 'خمس': 422, 'يلد': 423, 'قدم': 424, 'حصو': 425, 'وقم': 426, 'شيئ': 427, 'ضاد': 428, 'هائ': 429, 'دائ': 430, 'وقت': 431, 'لحق': 432, 'وتم': 433, 'طومسونوكانت': 434, 'راذرفورد': 435, 'وأن': 436, 'أخذ': 437, 'منذ': 438, 'عهد': 439, 'قرح': 440, 'وبن': 441, 'خطأ': 442, 'بنة': 443, 'شبه': 444, 'هزز': 445, 'وهذ': 446, 'فكر': 447, 'حتى': 448, 'عرض': 449, 'وغر': 450}\n",
            "Embedding Matrix shape: (451, 300)\n"
          ]
        }
      ]
    },
    {
      "cell_type": "code",
      "source": [
        "# load embedding layer and set it's weights\n",
        "embedding_layer = Embedding(vocab_size, TOTAL_EMBEDDING_DIM, weights=[embedding_matrix], input_length=10, trainable=False)"
      ],
      "metadata": {
        "id": "O3UVeK58zsXj"
      },
      "execution_count": 231,
      "outputs": []
    },
    {
      "cell_type": "code",
      "source": [
        "# define model\n",
        "input_placeholder = Input(shape=(10,))\n",
        "input_embedding = embedding_layer(input_placeholder)\n",
        "hidden_layer = Dense(100, activation='relu', name = 'layer1')(input_embedding)\n",
        "lstm = LSTM(units=50, activation='tanh', name='lstm1')(hidden_layer)\n",
        "output = Dense(output_length, activation='sigmoid', name = 'activation')(lstm)\n",
        "model = Model(inputs=input_placeholder, outputs=output)"
      ],
      "metadata": {
        "id": "qP8rqe7H0Ghq"
      },
      "execution_count": 232,
      "outputs": []
    },
    {
      "cell_type": "code",
      "source": [
        "# compile the model\n",
        "model.compile(loss='binary_crossentropy', optimizer=tf.keras.optimizers.Adamax(lr=0.001), metrics=['accuracy'])\n",
        "# summarize the model\n",
        "print(model.summary())"
      ],
      "metadata": {
        "colab": {
          "base_uri": "https://localhost:8080/"
        },
        "id": "myEIJFllRREY",
        "outputId": "906b2aae-a2be-48ca-9c30-c38617eec455"
      },
      "execution_count": 233,
      "outputs": [
        {
          "output_type": "stream",
          "name": "stdout",
          "text": [
            "Model: \"model_2\"\n",
            "_________________________________________________________________\n",
            " Layer (type)                Output Shape              Param #   \n",
            "=================================================================\n",
            " input_3 (InputLayer)        [(None, 10)]              0         \n",
            "                                                                 \n",
            " embedding_2 (Embedding)     (None, 10, 300)           135300    \n",
            "                                                                 \n",
            " layer1 (Dense)              (None, 10, 100)           30100     \n",
            "                                                                 \n",
            " lstm1 (LSTM)                (None, 50)                30200     \n",
            "                                                                 \n",
            " activation (Dense)          (None, 11)                561       \n",
            "                                                                 \n",
            "=================================================================\n",
            "Total params: 196,161\n",
            "Trainable params: 60,861\n",
            "Non-trainable params: 135,300\n",
            "_________________________________________________________________\n",
            "None\n"
          ]
        },
        {
          "output_type": "stream",
          "name": "stderr",
          "text": [
            "/usr/local/lib/python3.7/dist-packages/keras/optimizer_v2/adamax.py:90: UserWarning: The `lr` argument is deprecated, use `learning_rate` instead.\n",
            "  super(Adamax, self).__init__(name, **kwargs)\n"
          ]
        }
      ]
    },
    {
      "cell_type": "code",
      "source": [
        "history = model.fit(x_train, y_train, validation_data=(x_valid, y_valid), epochs=50, verbose=1)"
      ],
      "metadata": {
        "colab": {
          "base_uri": "https://localhost:8080/"
        },
        "id": "a4Ud6YHg0OPU",
        "outputId": "712bacc1-2d0a-4062-e811-b6c4041e3954"
      },
      "execution_count": 234,
      "outputs": [
        {
          "output_type": "stream",
          "name": "stdout",
          "text": [
            "Epoch 1/50\n",
            "28/28 [==============================] - 4s 31ms/step - loss: 0.6672 - accuracy: 0.8453 - val_loss: 0.6211 - val_accuracy: 0.8773\n",
            "Epoch 2/50\n",
            "28/28 [==============================] - 1s 22ms/step - loss: 0.5003 - accuracy: 0.8783 - val_loss: 0.2845 - val_accuracy: 0.8773\n",
            "Epoch 3/50\n",
            "28/28 [==============================] - 1s 19ms/step - loss: 0.1658 - accuracy: 0.8783 - val_loss: 0.1182 - val_accuracy: 0.8773\n",
            "Epoch 4/50\n",
            "28/28 [==============================] - 0s 12ms/step - loss: 0.1061 - accuracy: 0.8783 - val_loss: 0.1023 - val_accuracy: 0.8773\n",
            "Epoch 5/50\n",
            "28/28 [==============================] - 0s 12ms/step - loss: 0.0955 - accuracy: 0.8783 - val_loss: 0.0965 - val_accuracy: 0.8773\n",
            "Epoch 6/50\n",
            "28/28 [==============================] - 0s 12ms/step - loss: 0.0913 - accuracy: 0.8783 - val_loss: 0.0940 - val_accuracy: 0.8773\n",
            "Epoch 7/50\n",
            "28/28 [==============================] - 0s 12ms/step - loss: 0.0891 - accuracy: 0.8783 - val_loss: 0.0928 - val_accuracy: 0.8773\n",
            "Epoch 8/50\n",
            "28/28 [==============================] - 0s 14ms/step - loss: 0.0879 - accuracy: 0.8783 - val_loss: 0.0922 - val_accuracy: 0.8773\n",
            "Epoch 9/50\n",
            "28/28 [==============================] - 0s 14ms/step - loss: 0.0872 - accuracy: 0.8783 - val_loss: 0.0918 - val_accuracy: 0.8773\n",
            "Epoch 10/50\n",
            "28/28 [==============================] - 0s 12ms/step - loss: 0.0866 - accuracy: 0.8783 - val_loss: 0.0915 - val_accuracy: 0.8773\n",
            "Epoch 11/50\n",
            "28/28 [==============================] - 0s 12ms/step - loss: 0.0862 - accuracy: 0.8783 - val_loss: 0.0913 - val_accuracy: 0.8773\n",
            "Epoch 12/50\n",
            "28/28 [==============================] - 0s 12ms/step - loss: 0.0859 - accuracy: 0.8783 - val_loss: 0.0913 - val_accuracy: 0.8773\n",
            "Epoch 13/50\n",
            "28/28 [==============================] - 0s 12ms/step - loss: 0.0857 - accuracy: 0.8783 - val_loss: 0.0911 - val_accuracy: 0.8773\n",
            "Epoch 14/50\n",
            "28/28 [==============================] - 0s 13ms/step - loss: 0.0856 - accuracy: 0.8783 - val_loss: 0.0912 - val_accuracy: 0.8773\n",
            "Epoch 15/50\n",
            "28/28 [==============================] - 0s 12ms/step - loss: 0.0854 - accuracy: 0.8783 - val_loss: 0.0911 - val_accuracy: 0.8773\n",
            "Epoch 16/50\n",
            "28/28 [==============================] - 0s 12ms/step - loss: 0.0854 - accuracy: 0.8783 - val_loss: 0.0911 - val_accuracy: 0.8773\n",
            "Epoch 17/50\n",
            "28/28 [==============================] - 0s 12ms/step - loss: 0.0852 - accuracy: 0.8783 - val_loss: 0.0911 - val_accuracy: 0.8773\n",
            "Epoch 18/50\n",
            "28/28 [==============================] - 0s 13ms/step - loss: 0.0851 - accuracy: 0.8783 - val_loss: 0.0910 - val_accuracy: 0.8773\n",
            "Epoch 19/50\n",
            "28/28 [==============================] - 0s 12ms/step - loss: 0.0851 - accuracy: 0.8783 - val_loss: 0.0911 - val_accuracy: 0.8773\n",
            "Epoch 20/50\n",
            "28/28 [==============================] - 0s 12ms/step - loss: 0.0850 - accuracy: 0.8783 - val_loss: 0.0911 - val_accuracy: 0.8773\n",
            "Epoch 21/50\n",
            "28/28 [==============================] - 0s 12ms/step - loss: 0.0850 - accuracy: 0.8783 - val_loss: 0.0911 - val_accuracy: 0.8773\n",
            "Epoch 22/50\n",
            "28/28 [==============================] - 0s 13ms/step - loss: 0.0849 - accuracy: 0.8783 - val_loss: 0.0912 - val_accuracy: 0.8773\n",
            "Epoch 23/50\n",
            "28/28 [==============================] - 0s 13ms/step - loss: 0.0850 - accuracy: 0.8783 - val_loss: 0.0913 - val_accuracy: 0.8773\n",
            "Epoch 24/50\n",
            "28/28 [==============================] - 0s 12ms/step - loss: 0.0849 - accuracy: 0.8783 - val_loss: 0.0912 - val_accuracy: 0.8773\n",
            "Epoch 25/50\n",
            "28/28 [==============================] - 0s 12ms/step - loss: 0.0849 - accuracy: 0.8783 - val_loss: 0.0913 - val_accuracy: 0.8773\n",
            "Epoch 26/50\n",
            "28/28 [==============================] - 0s 11ms/step - loss: 0.0849 - accuracy: 0.8783 - val_loss: 0.0913 - val_accuracy: 0.8773\n",
            "Epoch 27/50\n",
            "28/28 [==============================] - 0s 12ms/step - loss: 0.0848 - accuracy: 0.8783 - val_loss: 0.0913 - val_accuracy: 0.8773\n",
            "Epoch 28/50\n",
            "28/28 [==============================] - 0s 12ms/step - loss: 0.0849 - accuracy: 0.8783 - val_loss: 0.0914 - val_accuracy: 0.8773\n",
            "Epoch 29/50\n",
            "28/28 [==============================] - 0s 13ms/step - loss: 0.0848 - accuracy: 0.8783 - val_loss: 0.0915 - val_accuracy: 0.8773\n",
            "Epoch 30/50\n",
            "28/28 [==============================] - 0s 14ms/step - loss: 0.0848 - accuracy: 0.8783 - val_loss: 0.0915 - val_accuracy: 0.8773\n",
            "Epoch 31/50\n",
            "28/28 [==============================] - 0s 12ms/step - loss: 0.0847 - accuracy: 0.8783 - val_loss: 0.0914 - val_accuracy: 0.8773\n",
            "Epoch 32/50\n",
            "28/28 [==============================] - 0s 13ms/step - loss: 0.0848 - accuracy: 0.8783 - val_loss: 0.0915 - val_accuracy: 0.8773\n",
            "Epoch 33/50\n",
            "28/28 [==============================] - 0s 13ms/step - loss: 0.0847 - accuracy: 0.8783 - val_loss: 0.0916 - val_accuracy: 0.8773\n",
            "Epoch 34/50\n",
            "28/28 [==============================] - 0s 13ms/step - loss: 0.0847 - accuracy: 0.8783 - val_loss: 0.0916 - val_accuracy: 0.8773\n",
            "Epoch 35/50\n",
            "28/28 [==============================] - 0s 12ms/step - loss: 0.0847 - accuracy: 0.8783 - val_loss: 0.0917 - val_accuracy: 0.8773\n",
            "Epoch 36/50\n",
            "28/28 [==============================] - 0s 12ms/step - loss: 0.0848 - accuracy: 0.8783 - val_loss: 0.0917 - val_accuracy: 0.8773\n",
            "Epoch 37/50\n",
            "28/28 [==============================] - 0s 12ms/step - loss: 0.0847 - accuracy: 0.8783 - val_loss: 0.0917 - val_accuracy: 0.8773\n",
            "Epoch 38/50\n",
            "28/28 [==============================] - 0s 13ms/step - loss: 0.0847 - accuracy: 0.8783 - val_loss: 0.0918 - val_accuracy: 0.8773\n",
            "Epoch 39/50\n",
            "28/28 [==============================] - 0s 12ms/step - loss: 0.0847 - accuracy: 0.8783 - val_loss: 0.0918 - val_accuracy: 0.8773\n",
            "Epoch 40/50\n",
            "28/28 [==============================] - 0s 12ms/step - loss: 0.0847 - accuracy: 0.8783 - val_loss: 0.0918 - val_accuracy: 0.8773\n",
            "Epoch 41/50\n",
            "28/28 [==============================] - 0s 13ms/step - loss: 0.0847 - accuracy: 0.8783 - val_loss: 0.0919 - val_accuracy: 0.8773\n",
            "Epoch 42/50\n",
            "28/28 [==============================] - 0s 12ms/step - loss: 0.0847 - accuracy: 0.8783 - val_loss: 0.0918 - val_accuracy: 0.8773\n",
            "Epoch 43/50\n",
            "28/28 [==============================] - 0s 12ms/step - loss: 0.0847 - accuracy: 0.8783 - val_loss: 0.0920 - val_accuracy: 0.8773\n",
            "Epoch 44/50\n",
            "28/28 [==============================] - 0s 13ms/step - loss: 0.0847 - accuracy: 0.8783 - val_loss: 0.0921 - val_accuracy: 0.8773\n",
            "Epoch 45/50\n",
            "28/28 [==============================] - 0s 12ms/step - loss: 0.0846 - accuracy: 0.8783 - val_loss: 0.0920 - val_accuracy: 0.8773\n",
            "Epoch 46/50\n",
            "28/28 [==============================] - 0s 12ms/step - loss: 0.0846 - accuracy: 0.8783 - val_loss: 0.0922 - val_accuracy: 0.8773\n",
            "Epoch 47/50\n",
            "28/28 [==============================] - 0s 14ms/step - loss: 0.0847 - accuracy: 0.8783 - val_loss: 0.0921 - val_accuracy: 0.8773\n",
            "Epoch 48/50\n",
            "28/28 [==============================] - 0s 12ms/step - loss: 0.0846 - accuracy: 0.8783 - val_loss: 0.0922 - val_accuracy: 0.8773\n",
            "Epoch 49/50\n",
            "28/28 [==============================] - 0s 12ms/step - loss: 0.0847 - accuracy: 0.8783 - val_loss: 0.0922 - val_accuracy: 0.8773\n",
            "Epoch 50/50\n",
            "28/28 [==============================] - 0s 13ms/step - loss: 0.0846 - accuracy: 0.8783 - val_loss: 0.0923 - val_accuracy: 0.8773\n"
          ]
        }
      ]
    },
    {
      "cell_type": "code",
      "source": [
        "loss, accuracy = model.evaluate(x_test, y_test, verbose=0)\n",
        "prediction = model.predict(x_test)\n",
        "print('Accuracy: %f' % (accuracy*100), loss)"
      ],
      "metadata": {
        "colab": {
          "base_uri": "https://localhost:8080/"
        },
        "id": "6eadmiFk0kAX",
        "outputId": "092d1034-d045-41ff-e81c-193b4ea0d321"
      },
      "execution_count": 235,
      "outputs": [
        {
          "output_type": "stream",
          "name": "stdout",
          "text": [
            "Accuracy: 90.545452 0.07122404128313065\n"
          ]
        }
      ]
    },
    {
      "cell_type": "code",
      "source": [
        "x, y = [], []\n",
        "for i, j in zip(prediction, y_test):\n",
        "  x.append(np.argmax(i))\n",
        "  y.append(np.argmax(j))"
      ],
      "metadata": {
        "id": "U1lNPc-Mbzrf"
      },
      "execution_count": 236,
      "outputs": []
    },
    {
      "cell_type": "code",
      "source": [
        "from sklearn.metrics import accuracy_score, confusion_matrix\n",
        "cf_matrix = confusion_matrix(x, y)"
      ],
      "metadata": {
        "id": "Fdq-6X1Ra5bj"
      },
      "execution_count": 237,
      "outputs": []
    },
    {
      "cell_type": "code",
      "source": [
        "ax = sns.heatmap(cf_matrix, annot=True, cmap='Blues')\n",
        "\n",
        "ax.set_title(f'Seaborn Confusion Matrix with labels\\n\\n')\n",
        "ax.set_xlabel('\\nPredicted Entity')\n",
        "ax.set_ylabel('Actual Entity')\n",
        "# Ticket labels - List must be in alphabetical order\n",
        "ax.xaxis.set_ticklabels(['B-MIS0', 'B-MIS1', 'B-MIS3', 'B-PER', 'I-MIS0', 'I-MIS2', 'O'])\n",
        "ax.yaxis.set_ticklabels(['B-MIS0', 'B-MIS1', 'B-MIS3', 'B-PER', 'I-MIS0', 'I-MIS2', 'O'])\n",
        "# Display the visualization of the Confusion Matrix.\n",
        "plt.show()"
      ],
      "metadata": {
        "colab": {
          "base_uri": "https://localhost:8080/",
          "height": 337
        },
        "id": "9G_NlG-vcFag",
        "outputId": "8b7fe3e4-853c-4001-e201-d82442299e36"
      },
      "execution_count": 238,
      "outputs": [
        {
          "output_type": "display_data",
          "data": {
            "text/plain": [
              "<Figure size 432x288 with 2 Axes>"
            ],
            "image/png": "[encoded data removed]"
          },
          "metadata": {
            "needs_background": "light"
          }
        }
      ]
    },
    {
      "cell_type": "markdown",
      "source": [
        "# Plot Fitting"
      ],
      "metadata": {
        "id": "pIqJVRBtRbKQ"
      }
    },
    {
      "cell_type": "code",
      "source": [
        "plt.plot(history.history['accuracy'])\n",
        "plt.plot(history.history['val_accuracy'])\n",
        "plt.title('model accuracy')\n",
        "plt.ylabel('accuracy')\n",
        "plt.xlabel('epoch')\n",
        "plt.legend(['train', 'validation'], loc='lower right')\n",
        "plt.show()"
      ],
      "metadata": {
        "colab": {
          "base_uri": "https://localhost:8080/",
          "height": 295
        },
        "id": "y-ZiQ8tUAQOe",
        "outputId": "3d5209bb-c08a-46c0-fe69-53f41075fef1"
      },
      "execution_count": 239,
      "outputs": [
        {
          "output_type": "display_data",
          "data": {
            "text/plain": [
              "<Figure size 432x288 with 1 Axes>"
            ],
            "image/png": "[encoded data removed]"
          },
          "metadata": {
            "needs_background": "light"
          }
        }
      ]
    },
    {
      "cell_type": "code",
      "source": [
        "plt.plot(history.history['loss'])\n",
        "plt.plot(history.history['val_loss'])\n",
        "plt.title('model loss')\n",
        "plt.ylabel('loss')\n",
        "plt.xlabel('epoch')\n",
        "plt.legend(['train', 'validation'], loc='upper right')\n",
        "plt.show()"
      ],
      "metadata": {
        "colab": {
          "base_uri": "https://localhost:8080/",
          "height": 295
        },
        "id": "zF43SOZKBErC",
        "outputId": "a48ab742-829b-48e8-fa9c-339cce6b6870"
      },
      "execution_count": 240,
      "outputs": [
        {
          "output_type": "display_data",
          "data": {
            "text/plain": [
              "<Figure size 432x288 with 1 Axes>"
            ],
            "image/png": "[encoded data removed]"
          },
          "metadata": {
            "needs_background": "light"
          }
        }
      ]
    },
    {
      "cell_type": "code",
      "source": [
        "labels = ['B-MIS',\n",
        " 'B-MIS0',\n",
        " 'B-MIS1',\n",
        " 'B-MIS2',\n",
        " 'B-MIS3',\n",
        " 'B-PER',\n",
        " 'I-MIS0',\n",
        " 'I-MIS1',\n",
        " 'I-MIS2',\n",
        " 'I-PER',\n",
        " 'O']"
      ],
      "metadata": {
        "id": "-CvywjfhTm5a"
      },
      "execution_count": 241,
      "outputs": []
    },
    {
      "cell_type": "code",
      "source": [
        "word = 'أتوموس'\n",
        "word, _ = token_preprocessing(word)\n",
        "word = encode_text(word)\n",
        "word = pad_sequences(word, maxlen=10, padding='post')\n",
        "prediction = model.predict(word)\n",
        "index = prediction.argmax()\n",
        "labels[index]"
      ],
      "metadata": {
        "colab": {
          "base_uri": "https://localhost:8080/",
          "height": 36
        },
        "id": "meKuMuqUD4Nm",
        "outputId": "7c76b804-0e97-4095-e3fc-ece61c628c1b"
      },
      "execution_count": 242,
      "outputs": [
        {
          "output_type": "execute_result",
          "data": {
            "text/plain": [
              "'O'"
            ],
            "application/vnd.google.colaboratory.intrinsic+json": {
              "type": "string"
            }
          },
          "metadata": {},
          "execution_count": 242
        }
      ]
    },
    {
      "cell_type": "markdown",
      "source": [
        "# Conculsion\n",
        "After plotting the confusion matrix we can conclude that:\n",
        "  The data is unbalance 'O' label has very large number of points is 403 from   405 so the model is biased to this label so the model calssify all entity as 'O' one of ways to resolve this problem increasing data by collecting new data or make copy of it to increase small classes by using below code but it not work well with this model gives 15% for validation\n",
        "\n",
        " "
      ],
      "metadata": {
        "id": "cLT0AhMvarP4"
      }
    },
    {
      "cell_type": "code",
      "source": [
        "# from imblearn.over_sampling import RandomOverSampler\n",
        "\n",
        "# ros = RandomOverSampler()\n",
        "# tokens, labels = ros.fit_resample(np.array(tokens).reshape(-1, 1), labels)\n",
        "\n",
        "# check distribution after applying over sampling \n",
        "# word = pd.DataFrame(labels)\n",
        "# tokens = tokens.tolist()\n",
        "# word.value_counts()"
      ],
      "metadata": {
        "id": "hBq0xMtWmdN4"
      },
      "execution_count": 243,
      "outputs": []
    }
  ],
  "metadata": {
    "colab": {
      "name": "Arabic Entity Recognition.ipynb",
      "provenance": [],
      "collapsed_sections": [],
      "include_colab_link": true
    },
    "kernelspec": {
      "display_name": "Python 3",
      "name": "python3"
    },
    "language_info": {
      "name": "python"
    }
  },
  "nbformat": 4,
  "nbformat_minor": 0
}