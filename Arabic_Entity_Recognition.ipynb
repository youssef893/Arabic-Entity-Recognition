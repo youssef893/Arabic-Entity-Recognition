{
  "cells": [
    {
      "cell_type": "markdown",
      "metadata": {
        "id": "view-in-github",
        "colab_type": "text"
      },
      "source": [
        "<a href=\"https://colab.research.google.com/github/youssef893/Arabic-Entity-Recognition/blob/main/Arabic_Entity_Recognition.ipynb\" target=\"_parent\"><img src=\"https://colab.research.google.com/assets/colab-badge.svg\" alt=\"Open In Colab\"/></a>"
      ]
    },
    {
      "cell_type": "markdown",
      "source": [
        "# Import all needed libraries"
      ],
      "metadata": {
        "id": "JC__rv0wR1hh"
      }
    },
    {
      "cell_type": "code",
      "execution_count": null,
      "metadata": {
        "id": "ySwDuQzCoSub"
      },
      "outputs": [],
      "source": [
        "import os\n",
        "import numpy as np\n",
        "import matplotlib.pyplot as plt\n",
        "import seaborn as sns\n",
        "import pandas as pd"
      ]
    },
    {
      "cell_type": "code",
      "source": [
        "import re\n",
        "from nltk.corpus import stopwords\n",
        "from nltk.stem.isri import ISRIStemmer"
      ],
      "metadata": {
        "id": "sczWd4zmMwh6"
      },
      "execution_count": null,
      "outputs": []
    },
    {
      "cell_type": "code",
      "source": [
        "import gensim\n",
        "from gensim.models import KeyedVectors\n",
        "from gensim.models import word2vec"
      ],
      "metadata": {
        "id": "O5VrTYV9MqE3"
      },
      "execution_count": null,
      "outputs": []
    },
    {
      "cell_type": "code",
      "source": [
        "from sklearn.model_selection import train_test_split\n",
        "from sklearn.preprocessing import LabelEncoder, OneHotEncoder\n",
        "from keras.preprocessing.text import Tokenizer\n",
        "from keras.preprocessing.sequence import pad_sequences"
      ],
      "metadata": {
        "id": "i77UVQZQMhu-"
      },
      "execution_count": null,
      "outputs": []
    },
    {
      "cell_type": "code",
      "source": [
        "from keras.layers import Dense, LSTM, Embedding, Bidirectional\n",
        "from keras import Input\n",
        "from keras.models import Model"
      ],
      "metadata": {
        "id": "6W_jm4KKMdy2"
      },
      "execution_count": null,
      "outputs": []
    },
    {
      "cell_type": "code",
      "source": [
        "import nltk\n",
        "nltk.download('stopwords')\n",
        "import tensorflow as tf"
      ],
      "metadata": {
        "id": "ANcth6NXyRd5",
        "colab": {
          "base_uri": "https://localhost:8080/"
        },
        "outputId": "3546ca8b-1b9b-4361-ba12-e0142066b2e4"
      },
      "execution_count": null,
      "outputs": [
        {
          "output_type": "stream",
          "name": "stdout",
          "text": [
            "[nltk_data] Downloading package stopwords to /root/nltk_data...\n",
            "[nltk_data]   Package stopwords is already up-to-date!\n"
          ]
        }
      ]
    },
    {
      "cell_type": "code",
      "source": [
        "arabic_stop_word = stopwords.words('arabic')\n",
        "stemmer = ISRIStemmer()"
      ],
      "metadata": {
        "id": "fz5XRFTw4q8U"
      },
      "execution_count": null,
      "outputs": []
    },
    {
      "cell_type": "markdown",
      "source": [
        "# Utilz"
      ],
      "metadata": {
        "id": "nVVQIxH13-3V"
      }
    },
    {
      "cell_type": "code",
      "source": [
        "def token_preprocessing(token):\n",
        "  \"\"\"\n",
        "  parameter: \n",
        "    token: string contain word\n",
        "\n",
        "    return: \n",
        "      token: the word after removing preffix and suffix (get the original word)\n",
        "      true: if it is not a stop word\n",
        "  \"\"\"\n",
        "  is_arabic = bool(re.match('^[ا-ى][أ-ي]', token))\n",
        "  if token not in arabic_stop_word and is_arabic:\n",
        "    token = stemmer.stem(token)\n",
        "    return token, False\n",
        "  \n",
        "  return token, True\n",
        "  "
      ],
      "metadata": {
        "id": "ynwIAeVq5SaN"
      },
      "execution_count": null,
      "outputs": []
    },
    {
      "cell_type": "code",
      "source": [
        "def is_txt(file):\n",
        "  \"\"\"\n",
        "    return true if this file extention\n",
        "\n",
        "    parameters:\n",
        "      file: string contains the full name of this file \n",
        "  \"\"\"\n",
        "  return file.split('.')[-1] == \"txt\""
      ],
      "metadata": {
        "id": "VsUmWGMJ3-ao"
      },
      "execution_count": null,
      "outputs": []
    },
    {
      "cell_type": "code",
      "source": [
        "def get_sentences(file):\n",
        "    \"\"\"\n",
        "    Parameters:\n",
        "      file: string contains the full name of this file \n",
        "\n",
        "\n",
        "    Returns:\n",
        "      sentences: array contains all sentences exist in this txt file\n",
        "    \"\"\"\n",
        "  \n",
        "\n",
        "    sentences = []\n",
        "\n",
        "    with open(file) as f:\n",
        "      lines = f.readlines()\n",
        "\n",
        "    sentence = \"\"\n",
        "    for line in lines:\n",
        "      line = line.replace('.', '').split()\n",
        "      if len(line) == 0: # then current line contains '.' or ','\n",
        "        sentences.append(sentence)\n",
        "        sentence = \"\" \n",
        "      else :\n",
        "        sentence += f'{line[0]} '\n",
        "\n",
        "    return sentences\n",
        "\n",
        "    \n"
      ],
      "metadata": {
        "id": "q3NVwpv54Imd"
      },
      "execution_count": null,
      "outputs": []
    },
    {
      "cell_type": "code",
      "source": [
        "def get_tokens_labels_dict(file , old_dict):\n",
        "\n",
        "    \"\"\"\n",
        "    adds new tokens and its labels to current train dictionary \n",
        "\n",
        "    Parameters:\n",
        "      file: string contains the full name of this file \n",
        "      old_dict: dictionary contains token : label\n",
        "\n",
        "\n",
        "    Returns:\n",
        "      new_dict: dictionary contains cumulative tokens : labels \n",
        "    \"\"\"\n",
        "\n",
        "    new_dict = old_dict.copy()  \n",
        "\n",
        "    with open(file) as f:\n",
        "      lines = f.readlines()\n",
        "\n",
        "    for line in lines:\n",
        "\n",
        "      if len( line.split() ) == 0: # then current line is \\n\n",
        "        continue\n",
        "      \n",
        "      token , label = line.split()\n",
        "      token, is_stopword = token_preprocessing(token)\n",
        "\n",
        "      if is_stopword:\n",
        "        continue\n",
        "      \n",
        "      if token not in new_dict.keys():\n",
        "        new_dict[token] = label\n",
        "\n",
        "\n",
        "    return new_dict\n"
      ],
      "metadata": {
        "id": "y9KX8GhN1Kqo"
      },
      "execution_count": null,
      "outputs": []
    },
    {
      "cell_type": "markdown",
      "source": [
        "## Loading Data"
      ],
      "metadata": {
        "id": "60SSTtZd3uHC"
      }
    },
    {
      "cell_type": "code",
      "source": [
        "from zipfile import ZipFile\n",
        "\n",
        "with ZipFile('/content/AQMAR_Arabic_NER_corpus-1.0.zip', 'r') as zipObj:\n",
        "   # Extract all the contents of zip file in different directory\n",
        "   zipObj.extractall('AQMAR')\n",
        "   print('File is unzipped in AQMAR folder') "
      ],
      "metadata": {
        "colab": {
          "base_uri": "https://localhost:8080/"
        },
        "id": "nFpbJ6HW2yFH",
        "outputId": "1a8d8ed0-6cca-4a20-f2d8-8e03e0857d0d"
      },
      "execution_count": null,
      "outputs": [
        {
          "output_type": "stream",
          "name": "stdout",
          "text": [
            "File is unzipped in AQMAR folder\n"
          ]
        }
      ]
    },
    {
      "cell_type": "code",
      "source": [
        "data_folder = \"/content/AQMAR\"\n",
        "files = sorted(os.listdir(data_folder))"
      ],
      "metadata": {
        "id": "LLzraYd23mDA"
      },
      "execution_count": null,
      "outputs": []
    },
    {
      "cell_type": "code",
      "source": [
        "for i , file in enumerate(files):\n",
        "    print(f'i = {i+1} | File = {file}')\n",
        "    \n",
        "print(f'\\nExample For A Full Path {data_folder}/{file}')"
      ],
      "metadata": {
        "colab": {
          "base_uri": "https://localhost:8080/"
        },
        "id": "OXLPIbFm3r3G",
        "outputId": "92c3184b-f50e-48f7-a543-0c1ecd2ebef4"
      },
      "execution_count": null,
      "outputs": [
        {
          "output_type": "stream",
          "name": "stdout",
          "text": [
            "i = 1 | File = Atom.txt\n",
            "i = 2 | File = Christiano_Ronaldo.txt\n",
            "i = 3 | File = Computer.txt\n",
            "i = 4 | File = Computer_Software.txt\n",
            "i = 5 | File = Crusades.txt\n",
            "i = 6 | File = Damascus.txt\n",
            "i = 7 | File = Enrico_Fermi.txt\n",
            "i = 8 | File = Football.txt\n",
            "i = 9 | File = Ibn_Tolun_Mosque.txt\n",
            "i = 10 | File = Imam_Hussein_Shrine.txt\n",
            "i = 11 | File = Internet.txt\n",
            "i = 12 | File = Islamic_Golden_Age.txt\n",
            "i = 13 | File = Islamic_History.txt\n",
            "i = 14 | File = LICENSE\n",
            "i = 15 | File = Light.txt\n",
            "i = 16 | File = Linux.txt\n",
            "i = 17 | File = Nuclear_Power.txt\n",
            "i = 18 | File = Periodic_Table.txt\n",
            "i = 19 | File = Physics.txt\n",
            "i = 20 | File = Portugal_football_team.txt\n",
            "i = 21 | File = README\n",
            "i = 22 | File = Raul_Gonzales.txt\n",
            "i = 23 | File = Razi.txt\n",
            "i = 24 | File = Real_Madrid.txt\n",
            "i = 25 | File = Richard_Stallman.txt\n",
            "i = 26 | File = Soccer_Worldcup.txt\n",
            "i = 27 | File = Solaris.txt\n",
            "i = 28 | File = Summer_Olympics2004.txt\n",
            "i = 29 | File = Ummaya_Mosque.txt\n",
            "i = 30 | File = VERSION\n",
            "i = 31 | File = X_window_system.txt\n",
            "i = 32 | File = featureFiles\n",
            "\n",
            "Example For A Full Path /content/AQMAR/featureFiles\n"
          ]
        }
      ]
    },
    {
      "cell_type": "code",
      "source": [
        "txt_files = []\n",
        "for i , file in enumerate(files):\n",
        "    if is_txt(file):\n",
        "      txt_files.append(f'{data_folder}/{file}')"
      ],
      "metadata": {
        "id": "0WxpQ7Ea4YTc"
      },
      "execution_count": null,
      "outputs": []
    },
    {
      "cell_type": "code",
      "source": [
        "txt_files"
      ],
      "metadata": {
        "colab": {
          "base_uri": "https://localhost:8080/"
        },
        "id": "-jdOkLV539ih",
        "outputId": "4414598e-14f2-4df8-8497-cc6e3e0777b1"
      },
      "execution_count": null,
      "outputs": [
        {
          "output_type": "execute_result",
          "data": {
            "text/plain": [
              "['/content/AQMAR/Atom.txt',\n",
              " '/content/AQMAR/Christiano_Ronaldo.txt',\n",
              " '/content/AQMAR/Computer.txt',\n",
              " '/content/AQMAR/Computer_Software.txt',\n",
              " '/content/AQMAR/Crusades.txt',\n",
              " '/content/AQMAR/Damascus.txt',\n",
              " '/content/AQMAR/Enrico_Fermi.txt',\n",
              " '/content/AQMAR/Football.txt',\n",
              " '/content/AQMAR/Ibn_Tolun_Mosque.txt',\n",
              " '/content/AQMAR/Imam_Hussein_Shrine.txt',\n",
              " '/content/AQMAR/Internet.txt',\n",
              " '/content/AQMAR/Islamic_Golden_Age.txt',\n",
              " '/content/AQMAR/Islamic_History.txt',\n",
              " '/content/AQMAR/Light.txt',\n",
              " '/content/AQMAR/Linux.txt',\n",
              " '/content/AQMAR/Nuclear_Power.txt',\n",
              " '/content/AQMAR/Periodic_Table.txt',\n",
              " '/content/AQMAR/Physics.txt',\n",
              " '/content/AQMAR/Portugal_football_team.txt',\n",
              " '/content/AQMAR/Raul_Gonzales.txt',\n",
              " '/content/AQMAR/Razi.txt',\n",
              " '/content/AQMAR/Real_Madrid.txt',\n",
              " '/content/AQMAR/Richard_Stallman.txt',\n",
              " '/content/AQMAR/Soccer_Worldcup.txt',\n",
              " '/content/AQMAR/Solaris.txt',\n",
              " '/content/AQMAR/Summer_Olympics2004.txt',\n",
              " '/content/AQMAR/Ummaya_Mosque.txt',\n",
              " '/content/AQMAR/X_window_system.txt']"
            ]
          },
          "metadata": {},
          "execution_count": 172
        }
      ]
    },
    {
      "cell_type": "code",
      "source": [
        "# train_X = [get_sentences(txt_file) for txt_file in txt_files]"
      ],
      "metadata": {
        "id": "-3ux8VG8EEtG"
      },
      "execution_count": null,
      "outputs": []
    },
    {
      "cell_type": "code",
      "source": [
        "# len(train_X)"
      ],
      "metadata": {
        "id": "YPvnHAKpOcyO"
      },
      "execution_count": null,
      "outputs": []
    },
    {
      "cell_type": "code",
      "source": [
        "train_data = {}\n",
        "\n",
        "for txt_file in txt_files:\n",
        "    train_data = get_tokens_labels_dict(txt_file , train_data)"
      ],
      "metadata": {
        "id": "m94lV0CkOl7l"
      },
      "execution_count": null,
      "outputs": []
    },
    {
      "cell_type": "code",
      "source": [
        "len(train_data)"
      ],
      "metadata": {
        "colab": {
          "base_uri": "https://localhost:8080/"
        },
        "id": "JzrsLBSqHeMH",
        "outputId": "7c3b7aff-a666-46ac-8639-73e93c8a97ce"
      },
      "execution_count": null,
      "outputs": [
        {
          "output_type": "execute_result",
          "data": {
            "text/plain": [
              "4747"
            ]
          },
          "metadata": {},
          "execution_count": 176
        }
      ]
    },
    {
      "cell_type": "code",
      "source": [
        "tokens , labels = list(train_data.keys()) , list(train_data.values())"
      ],
      "metadata": {
        "id": "3xUgQG9y2UFo"
      },
      "execution_count": null,
      "outputs": []
    },
    {
      "cell_type": "code",
      "source": [
        "word = pd.DataFrame(labels)\n",
        "word.value_counts()"
      ],
      "metadata": {
        "colab": {
          "base_uri": "https://localhost:8080/"
        },
        "id": "eY-EeOOFT0vc",
        "outputId": "2b5426eb-80b9-4589-f6c7-1e29457ba3c9"
      },
      "execution_count": null,
      "outputs": [
        {
          "output_type": "execute_result",
          "data": {
            "text/plain": [
              "O         3661\n",
              "B-PER      273\n",
              "I-PER      215\n",
              "B-LOC      196\n",
              "B-MIS1      93\n",
              "I-LOC       90\n",
              "I-ORG       47\n",
              "B-ORG       41\n",
              "I-MIS1      30\n",
              "B-MIS2      25\n",
              "B-MIS3      22\n",
              "I-MIS2      21\n",
              "B-MIS0      15\n",
              "I-MIS0      13\n",
              "I-MIS3       5\n",
              "dtype: int64"
            ]
          },
          "metadata": {},
          "execution_count": 178
        }
      ]
    },
    {
      "cell_type": "code",
      "source": [
        "print(f'First Token is {tokens[0]} And Its label is {labels[0]}')\n",
        "len(tokens) == len(labels)\n",
        "output_length = len(set(labels))\n",
        "output_length"
      ],
      "metadata": {
        "colab": {
          "base_uri": "https://localhost:8080/"
        },
        "id": "4CNbMy282lPr",
        "outputId": "65729491-cdb2-46e0-c9e5-39d4705e4122"
      },
      "execution_count": null,
      "outputs": [
        {
          "output_type": "stream",
          "name": "stdout",
          "text": [
            "First Token is ذرة And Its label is O\n"
          ]
        },
        {
          "output_type": "execute_result",
          "data": {
            "text/plain": [
              "15"
            ]
          },
          "metadata": {},
          "execution_count": 179
        }
      ]
    },
    {
      "cell_type": "code",
      "source": [
        "set(labels)"
      ],
      "metadata": {
        "colab": {
          "base_uri": "https://localhost:8080/"
        },
        "id": "ossvh48VWsh0",
        "outputId": "a5868ddc-90fc-450d-f4e2-8219d52f267b"
      },
      "execution_count": null,
      "outputs": [
        {
          "output_type": "execute_result",
          "data": {
            "text/plain": [
              "{'B-LOC',\n",
              " 'B-MIS0',\n",
              " 'B-MIS1',\n",
              " 'B-MIS2',\n",
              " 'B-MIS3',\n",
              " 'B-ORG',\n",
              " 'B-PER',\n",
              " 'I-LOC',\n",
              " 'I-MIS0',\n",
              " 'I-MIS1',\n",
              " 'I-MIS2',\n",
              " 'I-MIS3',\n",
              " 'I-ORG',\n",
              " 'I-PER',\n",
              " 'O'}"
            ]
          },
          "metadata": {},
          "execution_count": 180
        }
      ]
    },
    {
      "cell_type": "markdown",
      "source": [
        ""
      ],
      "metadata": {
        "id": "BYuCZxBqbON6"
      }
    },
    {
      "cell_type": "markdown",
      "source": [
        "# **PREPARING DATA**"
      ],
      "metadata": {
        "id": "tpUNdueEPrw3"
      }
    },
    {
      "cell_type": "markdown",
      "source": [
        "Prepare data to model by encoding it into integers and one hot encoding then makes sequence from text \n"
      ],
      "metadata": {
        "id": "mF5m7_sBPZCv"
      }
    },
    {
      "cell_type": "code",
      "source": [
        "def encode_text(tokens):\n",
        "  \"\"\"\n",
        "    Parameters:\n",
        "      tokens: it is the all word\n",
        "\n",
        "    Return:\n",
        "      tokens: after encoding it using one hot encoder\n",
        "  \"\"\"\n",
        "  tokens = np.array(tokens)\n",
        "  onehot_encoder = OneHotEncoder(sparse=False)\n",
        "  tokens = tokens.reshape(-1, 1)\n",
        "  tokens = onehot_encoder.fit_transform(tokens)\n",
        "  return tokens"
      ],
      "metadata": {
        "id": "3mSbLbxRIKYx"
      },
      "execution_count": null,
      "outputs": []
    },
    {
      "cell_type": "code",
      "source": [
        "tokenizer = Tokenizer()\n",
        "tokenizer.fit_on_texts(tokens)"
      ],
      "metadata": {
        "id": "z2ZeseEShibA"
      },
      "execution_count": null,
      "outputs": []
    },
    {
      "cell_type": "code",
      "source": [
        "tokens = encode_text(tokens)\n",
        "labels = encode_text(labels)"
      ],
      "metadata": {
        "id": "_PAzWxR87I9D"
      },
      "execution_count": null,
      "outputs": []
    },
    {
      "cell_type": "code",
      "source": [
        "pad_tokens = pad_sequences(tokens, maxlen=10, padding='post')"
      ],
      "metadata": {
        "id": "3vrg3FSBhx6v"
      },
      "execution_count": null,
      "outputs": []
    },
    {
      "cell_type": "code",
      "source": [
        "len(pad_tokens)"
      ],
      "metadata": {
        "colab": {
          "base_uri": "https://localhost:8080/"
        },
        "id": "WW_vcT-KihE8",
        "outputId": "d182fa10-b2ee-4434-9329-23496b3590cd"
      },
      "execution_count": null,
      "outputs": [
        {
          "output_type": "execute_result",
          "data": {
            "text/plain": [
              "4747"
            ]
          },
          "metadata": {},
          "execution_count": 185
        }
      ]
    },
    {
      "cell_type": "code",
      "source": [
        "labels"
      ],
      "metadata": {
        "colab": {
          "base_uri": "https://localhost:8080/"
        },
        "id": "FeG3IAtB18Kn",
        "outputId": "c8a33bf7-4644-40c2-8472-e5484b081480"
      },
      "execution_count": null,
      "outputs": [
        {
          "output_type": "execute_result",
          "data": {
            "text/plain": [
              "array([[0., 0., 0., ..., 0., 0., 1.],\n",
              "       [0., 0., 0., ..., 0., 0., 1.],\n",
              "       [0., 0., 0., ..., 0., 0., 1.],\n",
              "       ...,\n",
              "       [0., 0., 0., ..., 0., 0., 1.],\n",
              "       [0., 0., 0., ..., 0., 0., 1.],\n",
              "       [0., 0., 0., ..., 0., 0., 1.]])"
            ]
          },
          "metadata": {},
          "execution_count": 186
        }
      ]
    },
    {
      "cell_type": "markdown",
      "source": [
        "Splite data into train, validation and test"
      ],
      "metadata": {
        "id": "ITsQ-fqXQARb"
      }
    },
    {
      "cell_type": "code",
      "source": [
        "x_train, x_test, y_train, y_test = train_test_split(pad_tokens, labels, test_size=0.2, random_state=42)\n",
        "x_train, x_valid, y_train, y_valid = train_test_split(x_train, y_train, test_size=0.2, random_state=42)"
      ],
      "metadata": {
        "id": "44C20gGK1W_N"
      },
      "execution_count": null,
      "outputs": []
    },
    {
      "cell_type": "markdown",
      "source": [
        "# Recognition Model"
      ],
      "metadata": {
        "id": "MoWaJ8DHQZ0U"
      }
    },
    {
      "cell_type": "markdown",
      "source": [
        "Download pretrained word2vec model for arabic ===> aravec model"
      ],
      "metadata": {
        "id": "-PXzyHPYQGvW"
      }
    },
    {
      "cell_type": "code",
      "source": [
        "\"\"\" Both of them give same accuracy \"\"\"\n",
        "# !wget https://archive.org/download/aravec2.0/tweet_cbow_300.zip  # This is model which train on 132,750,000 documents\n",
        "# !wget https://archive.org/download/aravec2.0/www_cbow_300.zip  # This is model which train on 66,900,000 documents "
      ],
      "metadata": {
        "id": "NPFmZmo-rRaJ",
        "colab": {
          "base_uri": "https://localhost:8080/",
          "height": 36
        },
        "outputId": "1af1d1c2-15df-466f-a950-742c9f0308e1"
      },
      "execution_count": null,
      "outputs": [
        {
          "output_type": "execute_result",
          "data": {
            "text/plain": [
              "' Both of them give same accuracy '"
            ],
            "application/vnd.google.colaboratory.intrinsic+json": {
              "type": "string"
            }
          },
          "metadata": {},
          "execution_count": 188
        }
      ]
    },
    {
      "cell_type": "code",
      "source": [
        "# !unzip -q tweet_cbow_300  \n",
        "\n",
        "# !unzip -q www_cbow_300  \n"
      ],
      "metadata": {
        "id": "yyFPwrzXVxJR"
      },
      "execution_count": null,
      "outputs": []
    },
    {
      "cell_type": "code",
      "source": [
        "aravec_embeddings_index = {}\n",
        "TOTAL_EMBEDDING_DIM = 300\n",
        "embeddings_model_path = '/content/tweets_cbow_300'\n",
        "\n",
        "aravec_model = KeyedVectors.load(embeddings_model_path)  # load word2vec model\n",
        "# loop to getting values of words\n",
        "for word in aravec_model.wv.vocab:\n",
        "   aravec_embeddings_index[word] = aravec_model[word]\n",
        "\n",
        "print('Loaded %s word vectors.'% len(aravec_embeddings_index))"
      ],
      "metadata": {
        "id": "0LVg00wwijGP",
        "colab": {
          "base_uri": "https://localhost:8080/"
        },
        "outputId": "9023a7d9-a344-472c-db65-7197efaa4a3a"
      },
      "execution_count": null,
      "outputs": [
        {
          "output_type": "stream",
          "name": "stderr",
          "text": [
            "/usr/local/lib/python3.7/dist-packages/ipykernel_launcher.py:8: DeprecationWarning: Call to deprecated `__getitem__` (Method will be removed in 4.0.0, use self.wv.__getitem__() instead).\n",
            "  \n"
          ]
        },
        {
          "output_type": "stream",
          "name": "stdout",
          "text": [
            "Loaded 331679 word vectors.\n"
          ]
        }
      ]
    },
    {
      "cell_type": "code",
      "source": [
        "# create a weight matrix for words in training docs\n",
        "vocab_size = len(tokenizer.word_index) + 1\n",
        "embedding_matrix = np.zeros((vocab_size, TOTAL_EMBEDDING_DIM))\n",
        "print(tokenizer.word_index.items(), tokenizer.word_index)\n",
        "for word, i in tokenizer.word_index.items():\n",
        "    embedding_vector = aravec_embeddings_index.get(word)\n",
        "    if embedding_vector is not None:\n",
        "        embedding_matrix[i] = embedding_vector\n",
        "\n",
        "print('Embedding Matrix shape:', embedding_matrix.shape)"
      ],
      "metadata": {
        "colab": {
          "base_uri": "https://localhost:8080/"
        },
        "id": "WM4k6kliltxq",
        "outputId": "89ac250a-79f8-4813-ef70-0119859341d2"
      },
      "execution_count": null,
      "outputs": [
        {
          "output_type": "stream",
          "name": "stdout",
          "text": [
            "dict_items([('ذرة', 1), ('جزء', 2), ('عنصر', 3), ('كيميائ', 4), ('خصص', 5), ('كيميائية', 6), ('لذلك', 7), ('كلم', 8), ('غرق', 9), ('وتع', 10), ('قبل', 11), ('قسم؛', 12), ('تتك', 13), ('سحب', 14), ('شحن', 15), ('سلب', 16), ('كترو', 17), ('تحم', 18), ('حول', 19), ('نوة', 20), ('وجب', 21), ('صغر', 22), ('جدا', 23), ('وسط', 24), ('روتو', 25), ('ورو', 26), ('عادل', 27), ('بقة', 28), ('عناصر؛', 29), ('غصن', 30), ('ادة', 31), ('نلق', 32), ('بنى', 33), ('فرق', 34), ('مثل', 35), ('برت', 36), ('حدد', 37), ('ثلا', 38), ('حمل', 39), ('خصائص؛', 40), ('عدد', 41), ('بروتونات', 42), ('كتل', 43), ('وزع', 44), ('صنع', 45), ('خلف', 46), ('صور', 47), ('نفس', 48), ('سمة', 49), ('نظر', 50), ('كون', 51), ('قدر', 52), ('خوض', 53), ('فعل', 54), ('ظل', 55), ('ركب', 56), ('علم', 57), ('بلغ', 58), ('زال', 59), ('علماء', 60), ('كشف', 61), ('زيد', 62), ('ظهر', 63), ('فرع', 64), ('جدد', 65), ('عها', 66), ('بدئ', 67), ('خصة', 68), ('بدء', 69), ('بدأ', 70), ('عدم', 71), ('أكد', 72), ('لثق', 73), ('رور', 74), ('وحد', 75), ('كبرى', 76), ('نهء', 77), ('وار', 78), ('فئق', 79), ('هتم', 80), ('درس', 81), ('طبع', 82), ('تنص', 83), ('واد', 84), ('ذرت', 85), ('دلت', 86), ('تضم', 87), ('عدة', 88), ('فرض', 89), ('دقق', 90), ('قسم', 91), ('سمى', 92), ('لقت', 93), ('فسر', 94), ('وجة', 95), ('كتر', 96), ('وهذا', 97), ('تصر', 98), ('بني', 99), ('وهر', 100), ('اخذ', 101), ('عبر', 102), ('حدث', 103), ('طور', 104), ('ميكانيكا', 105), ('لكم', 106), ('دلة', 107), ('طول', 108), ('وجي', 109), ('دار', 110), ('الكترونى', 111), ('هيدروج', 112), ('رئس', 113), ('يمن', 114), ('صف', 115), ('غزل', 116), ('وضح', 117), ('وجد', 118), ('هيئ', 119), ('حرف', 120), ('عمد', 121), ('حتي', 122), ('نهي', 123), ('قرن', 124), ('تسع', 125), ('عقد', 126), ('سئد', 127), ('بأن', 128), ('جسم', 129), ('وباكتشاف', 130), ('جيز', 131), ('ومس', 132), ('عام', 133), ('طرق', 134), ('جرب', 135), ('شهر', 136), ('نقط', 137), ('زيت', 138), ('فتح', 139), ('طاع', 140), ('فك', 141), ('حلي', 142), ('بعد', 143), ('كرس', 144), ('همم', 145), ('بنء', 146), ('ريض', 147), ('بحت', 148), ('بكر', 149), ('وان', 150), ('تأ', 151), ('خذ', 152), ('خصي', 153), ('ثني', 154), ('خلل', 155), ('عوم', 156), ('نجح', 157), ('الم', 158), ('هيزنبرج', 159), ('ساو', 160), ('شرودنجر', 161), ('حدة', 162), ('حسب', 163), ('صفف', 164), ('وأم', 165), ('وسم', 166), ('غلف', 167), ('هكذ', 168), ('ربط', 169), ('علق', 170), ('ويم', 171), ('أعل', 172), ('ثلث', 173), ('ربع', 174), ('درج', 175), ('شغل', 176), ('هيليوم', 177), ('ثيم', 178), ('ريليوم', 179), ('بور', 180), ('نين', 181), ('لحظ', 182), ('خمل', 183), ('تمز', 184), ('أغلف', 185), ('ملئ', 186), ('تما', 187), ('وله', 188), ('اول', 189), ('سر', 190), ('تلي', 191), ('صوديوم', 192), ('عشر', 193), ('ولى', 194), ('ضبط', 195), ('رقم', 196), ('لهذ', 197), ('نجد', 198), ('نشط', 199), ('كبر', 200), ('وإلكترونه', 201), ('كفؤ', 202), ('مغناطيسي', 203), ('قيم', 204), ('وقد', 205), ('ضطر', 206), ('كمم', 207), ('خطط', 208), ('طيف', 209), ('أثر', 210), ('جال', 211), ('خرج', 212), ('زيم', 213), ('هولند', 214), ('نشق', 215), ('كهربائ', 216), ('كشق', 217), ('شتر', 218), ('بسم', 219), ('بذل', 220), ('حلة', 221), ('وطق', 222), ('أربع', 223), ('بدق', 224), ('كمل', 225), ('طبق', 226), ('بول', 227), ('صغه', 228), ('جنج', 229), ('كرو', 230), ('طقة', 231), ('تخذ', 232), ('دره', 233), ('دخل', 234), ('عند', 235), ('طرد', 236), ('كسب', 237), ('فوت', 238), ('شعع', 239), ('ردد', 240), ('وبالتالى', 241), ('ستى', 242), ('علي', 243), ('ستي', 244), ('فلى', 245), ('شكل', 246), ('حجم', 247), ('سهل', 248), ('الكترونية', 249), ('ثبت', 250), ('تغر', 251), ('بدر', 252), ('نسب', 253), ('تكون', 254), ('بلر', 255), ('صلب', 256), ('ساف', 257), ('نوا', 258), ('جاور', 259), ('عمل', 260), ('خدم', 261), ('تقن', 262), ('تم', 263), ('قرب', 264), ('على', 265), ('نوت', 266), ('رجع', 267), ('لأن', 268), ('تقم', 269), ('جذب', 270), ('نحي', 271), ('عنى', 272), ('خصا', 273), ('ذري', 274), ('غير', 275), ('حال', 276), ('فكن', 277), ('ثقة', 278), ('اقل', 279), ('تشر', 280), ('صفت', 281), ('فيزيائية', 282), ('كثر', 283), ('تبع', 284), ('سلك', 285), ('يتم', 286), ('ريب', 287), ('واع', 288), ('جدل', 289), ('دور', 290), ('فهم', 291), ('بسط', 292), ('جمع', 293), ('حوي', 294), ('ذرة؛', 295), ('فهي', 296), ('ضئل', 297), ('فإن', 298), ('همل', 299), ('عرف', 300), ('تقس', 301), ('سوي', 302), ('وتر', 303), ('بهذا', 304), ('بإم', 305), ('نوي', 306), ('نيوكليون', 307), ('كتب', 308), ('الي', 309), ('بصر', 310), ('لكل', 311), ('لكن', 312), ('تفو', 313), ('طلق', 314), ('بين', 315), ('ميز', 316), ('اسم', 317), ('متبوعامن', 318), ('ويك', 319), ('ديتيريوم', 320), ('حوه', 321), ('فقد', 322), ('تحل', 323), ('تفق', 324), ('بذا', 325), ('حرة', 326), ('باستثناء', 327), ('ضمن', 328), ('تحد', 329), ('سوء', 330), ('فذر', 331), ('كسج', 332), ('هوء', 333), ('ماء', 334), ('اصل', 335), ('توقع', 336), ('تقع', 337), ('عين', 338), ('والتي', 339), ('لعب', 340), ('ولك', 341), ('ثنى', 342), ('صعد', 343), ('ونع', 344), ('كثف', 345), ('لأى', 346), ('عدل', 347), ('تقو', 348), ('اخر', 349), ('لإن', 350), ('داخلى', 351), ('خارجى', 352), ('نقل', 353), ('سرع', 354), ('دخى', 355), ('يقم', 356), ('إخراج', 357), ('ساى', 358), ('حكم', 359), ('ولذ', 360), ('وضع', 361), ('وتك', 362), ('حوى', 363), ('كقعد', 364), ('قلت', 365), ('زاد', 366), ('فلز', 367), ('أكثر', 368), ('روبديوم', 369), ('رنسيوم', 370), ('استقرارا', 371), ('وصل', 372), ('لهذا', 373), ('اتي', 374), ('سهم', 375), ('تزل', 376), ('خرى', 377), ('حرك', 378), ('جعل', 379), ('معا', 380), ('وعن', 381), ('جزئ', 382), ('ايي', 383), ('ضخم', 384), ('بصف', 385), ('خضع', 386), ('لير', 387), ('سنة', 388), ('ضوئ', 389), ('غية', 390), ('همي', 391), ('وأض', 392), ('ظلت', 393), ('محل', 394), ('ركز', 395), ('وكان', 396), ('زيء', 397), ('وكل', 398), ('كيمياء', 399), ('ايم', 400), ('تمت', 401), ('بدن', 402), ('قصد', 403), ('بشر', 404), ('وفى', 405), ('سنن', 406), ('أدق', 407), ('فعن', 408), ('ميكروسكوب', 409), ('فرد', 410), ('جي', 411), ('سي', 412), ('كروماتوجرافى', 413), ('غاز', 414), ('كريستالوجرافى', 415), ('ديموقراطس', 416), ('ليسيوبوس', 417), ('لسف', 418), ('خمس', 419), ('يلد', 420), ('قدم', 421), ('حصو', 422), ('خوص', 423), ('وقم', 424), ('إثب', 425), ('شيئ', 426), ('ضاد', 427), ('هائ', 428), ('كانت', 429), ('دائ', 430), ('وقت', 431), ('لحق', 432), ('وتم', 433), ('طومسونوكانت', 434), ('راذرفورد', 435), ('وأن', 436), ('أخذ', 437), ('منذ', 438), ('عهد', 439), ('قرح', 440), ('وبن', 441), ('خطأ', 442), ('بنة', 443), ('شبه', 444), ('هزز', 445), ('وهذ', 446), ('فكر', 447), ('حتى', 448), ('عرض', 449), ('وغر', 450), ('كرستيانو', 451), ('رونالدو', 452), ('رتغال', 453), ('نخب', 454), ('لكر', 455), ('حصل', 456), ('ناس', 457), ('صفة', 458), ('ندي', 459), ('مانشستر', 460), ('سبق', 461), ('درد', 462), ('كرة', 463), ('سن', 464), ('شغف', 465), ('رحل', 466), ('ابتدائية', 467), ('هوة', 468), ('عمر', 469), ('سنو', 470), ('فقط', 471), ('ولد', 472), ('كمصلح', 473), ('ادو', 474), ('حلل', 475), ('جزر', 476), ('ادر', 477), ('ضم', 478), ('نشئ', 479), ('فيف', 480), ('كأحس', 481), ('لعم', 482), ('وفق', 483), ('ملي', 484), ('وهي', 485), ('صفق', 486), ('ارخ', 487), ('برتغالية', 488), ('كريستيانو', 489), ('رونادو', 490), ('كره', 491), ('حرز', 492), ('هدف', 493), ('فنن', 494), ('وكريستانو', 495), ('عده', 496), ('ذهب', 497), ('لكي', 498), ('اسب', 499), ('رغم', 500), ('رتو', 501), ('بوافيستا', 502), ('كنا', 503), ('ضمه', 504), ('رفض', 505), ('شبا', 506), ('معه', 507), ('وهب', 508), ('ضفة', 509), ('نضج', 510), ('عقل', 511), ('تهر', 512), ('مرة', 513), ('ضد', 514), ('مورييرينس', 515), ('سجل', 516), ('حقق', 517), ('حلم', 518), ('شجع', 519), ('شعر', 520), ('جماهير', 521), ('لقب', 522), ('جوب', 523), ('شرط', 524), ('بريطانية', 525), ('بشأ', 526), ('تهم', 527), ('غصب', 528), ('شبة', 529), ('ندق', 530), ('لند', 531), ('ادع', 532), ('بشق', 533), ('فخر', 534), ('برا', 535), ('لهم', 536), ('جهز', 537), ('دعء', 538), ('كفي', 539), ('لتج', 540), ('اعب', 541), ('صحف', 542), ('شئع', 543), ('رشلو', 544), ('فاض', 545), ('حين', 546), ('رجل', 547), ('سعد', 548), ('نصر', 549), ('بلي', 550), ('عضو', 551), ('شرف', 552), ('لكرستيانو', 553), ('وقع', 554), ('زمل', 555), ('جلز', 556), ('وين', 557), ('رون', 558), ('لقه', 559), ('كأس', 560), ('وجه', 561), ('سبب', 562), ('وبخ', 563), ('سخر', 564), ('انجليزية', 565), ('بدي', 566), ('كري', 567), ('بإنجلترا', 568), ('بدا', 569), ('وكأ', 570), ('داس', 571), ('ريكاردو', 572), ('كارفاليو', 573), ('صحب', 574), ('بطق', 575), ('حمراء', 576), ('غطي', 577), ('وسع', 578), ('نشر', 579), ('خبر', 580), ('غضب', 581), ('شدد', 582), ('اليوم', 583), ('وقل', 584), ('زملائ', 585), ('غرف', 586), ('نول', 587), ('طعم', 588), ('قطع', 589), ('صفع', 590), ('حطم', 591), ('رأس', 592), ('ولن', 593), ('نضم', 594), ('ال', 595), ('شبب', 596), ('رتنغ', 597), ('شبو', 598), ('دين', 599), ('كوش', 600), ('جار', 601), ('قرا', 602), ('لأل', 603), ('سقط', 604), ('عئل', 605), ('لقى', 606), ('درب', 607), ('ونه', 608), ('دعم', 609), ('قرر', 610), ('دته', 611), ('رسم', 612), ('موريرينس', 613), ('ل17', 614), ('بطل', 615), ('نظم', 616), ('ورب', 617), ('حضي', 618), ('رقب', 619), ('نطق', 620), ('روقب', 621), ('بعن', 622), ('عظم', 623), ('ومن', 624), ('ربل', 625), ('هار', 626), ('دير', 627), ('فني', 628), ('جيرار', 629), ('اوي', 630), ('درة', 631), ('ان', 632), ('شاب', 633), ('حاج', 634), ('كلعب', 635), ('قمة', 636), ('خاض', 637), ('لمد', 638), ('رسنال', 639), ('صيف', 640), ('لسبورتنج', 641), ('رغس', 642), ('فاز', 643), ('سبورتينغ', 644), ('ودة', 645), ('دول', 646), ('الد', 647), ('مانشتر', 648), ('جنح', 649), ('عبو', 650), ('شرئ', 651), ('وشك', 652), ('شره', 653), ('لذا', 654), ('لبس', 655), ('قمص', 656), ('حمر', 657), ('دفع', 658), ('رلند', 659), ('جون', 660), ('اوش', 661), ('ثرا', 662), ('لان', 663), ('روغ', 664), ('يقد', 665), ('فوز', 666), ('رجس', 667), ('امر', 668), ('عجب', 669), ('نجم', 670), ('قول', 671), ('حجة', 672), ('كهم', 673), ('رتغالى', 674), ('كيروش', 675), ('عقب', 676), ('ريالمدريد', 677), ('شرء', 678), ('بقى', 679), ('توف', 680), ('دينيس', 681), ('يرو', 682), ('ساع', 683), ('تلق', 684), ('نبأ', 685), ('تصف', 686), ('روس', 687), ('نحه', 688), ('سمح', 689), ('عود', 690), ('شرك', 691), ('مراسيم', 692), ('عزء', 693), ('وغب', 694), ('ديرب', 695), ('ريل', 696), ('عدء', 697), ('جنس', 698), ('عنه', 699), ('ادل', 700), ('زعم', 701), ('عطف', 702), ('لرونالدو', 703), ('ذيع', 704), ('تلفزيونية', 705), ('يرش', 706), ('روميرو', 707), ('جنب', 708), ('نفي', 709), ('إختار', 710), ('حيت', 711), ('شخص', 712), ('عزل', 713), ('ضجج', 714), ('سفر', 715), ('زير', 716), ('تضرر', 717), ('ونم', 718), ('ضحا', 719), ('زلزال', 720), ('حيط', 721), ('هند', 722), ('نئب', 723), ('دنس', 724), ('كلا', 725), ('يمر', 726), ('شرق', 727), ('شنا', 728), ('غوسماو', 729), ('وسا', 730), ('برع', 731), ('علن', 732), ('مصاريف', 733), ('طفل', 734), ('حضر', 735), ('بري', 736), ('زلا', 737), ('لاي', 738), ('ضحي', 739), ('بعه', 740), ('نزل', 741), ('الى', 742), ('مانتشتر', 743), ('مانتشستر', 744), ('ديفيد', 745), ('لمانشستر', 746), ('بدل', 747), ('لحد', 748), ('دررز', 749), ('وكانت', 750), ('نتج', 751), ('لتل', 752), ('صلح', 753), ('سعة', 754), ('استقبلته', 755), ('رحب', 756), ('رافورد', 757), ('شد', 758), ('ضرب', 759), ('عرقل', 760), ('قنن', 761), ('رود', 762), ('فان', 763), ('لرو', 764), ('حرس', 765), ('رمى', 766), ('تمك', 767), ('صد', 768), ('نهت', 769), ('بفز', 770), ('عنو', 771), ('سمء', 772), ('سبع', 773), ('شيط', 774), ('جورج', 775), ('بيس', 776), ('سؤل', 777), ('لنه', 778), ('ردى', 779), ('فنل', 780), ('بست', 781), ('روبس', 782), ('رنس', 783), ('ارك', 784), ('كانتو', 785), ('زجه', 786), ('حاد', 787), ('احي', 788), ('سيت', 789), ('حرم', 790), ('اتحادالاوربي', 791), ('صبع', 792), ('سطى', 793), ('بنف', 794), ('كوسيل', 795), ('لإه', 796), ('لوكسمبورغ', 797), ('صفراء', 798), ('كرد', 799), ('1000', 800), ('كلز', 801), ('متز', 802), ('سنت', 803), ('امم', 804), ('يون', 805), ('هزم', 806), ('هجم', 807), ('رتد', 808), ('خط', 809), ('خير', 810), ('لمب', 811), ('فشل', 812), ('ضوء', 813), ('سلط', 814), ('تبن', 815), ('عملق', 816), ('بأث', 817), ('عرق', 818), ('أثناء', 819), ('بار', 820), ('كفى', 821), ('إنذار', 822), ('حمد', 823), ('كوع', 824), ('أحدث', 825), ('جرح', 826), ('وفي', 827), ('شوط', 828), ('كازاخس', 829), ('خسر', 830), ('افتتاحية', 831), ('نصف', 832), ('جمهور', 833), ('مصر', 834), ('عرب', 835), ('كسك', 836), ('أهل', 837), ('صاب', 838), ('حام', 839), ('خلد', 840), ('شيء', 841), ('ركل', 842), ('تريجيحية', 843), ('بلد', 844), ('لمت', 845), ('صرف', 846), ('حدئ', 847), ('ركض', 848), ('ترا', 849), ('يصل', 850), ('حتج', 851), ('طلب', 852), ('ارض', 853), ('وكس', 854), ('بودولسكي', 855), ('اكوادوري', 856), ('لوس', 857), ('لنس', 858), ('جئز', 859), ('ربح', 860), ('رأت', 861), ('لجن', 862), ('ختر', 863), ('جئر', 864), ('قال', 865), ('بعض', 866), ('انه', 867), ('فضل', 868), ('ضرف', 869), ('لئم', 870), ('بقء', 871), ('تعد', 872), ('خطة', 873), ('ؤجل', 874), ('لأ', 875), ('نه', 876), ('ازل', 877), ('أحد', 878), ('وسف', 879), ('تسر', 880), ('لفز', 881), ('قنع', 882), ('فأن', 883), ('عيش', 884), ('كان', 885), ('يحب', 886), ('رغب', 887), ('أسب', 888), ('مدد', 889), ('ذكر', 890), ('ذعة', 891), ('نرن', 892), ('حفظ', 893), ('وصف', 894), ('صن', 895), ('صبح', 896), ('سها', 897), ('سدد', 898), ('وال', 899), ('بقم', 900), ('ونو', 901), ('دي', 902), ('نتل', 903), ('اودينيزي', 904), ('قده', 905), ('رمج', 906), ('حواسيب', 907), ('بضع', 908), ('ئات', 909), ('مكن', 910), ('طقت', 911), ('بطر', 912), ('نقل؛', 913), ('رمز', 914), ('عصر', 915), ('معلومات؛', 916), ('خدا', 917), ('سبل', 918), ('ثال', 919), ('تجد', 920), ('روح', 921), ('طئر', 922), ('قتل', 923), ('خرع', 924), ('بحد', 925), ('ذته', 926), ('تنع', 927), ('علج', 928), ('حد', 929), ('هام', 930), ('بأي', 931), ('صمم', 932), ('ماثل', 933), ('وظف', 934), ('فضي', 935), ('طير', 936), ('تطر', 937), ('تقا', 938), ('جبر', 939), ('جيل', 940), ('شرح', 941), ('بقن', 942), ('مور', 943), ('سلف', 944), ('وئل', 945), ('لعد', 946), ('ككب', 947), ('أرخ', 948), ('شهد', 949), ('هندس', 950), ('هلم', 951), ('شيكارد', 952), ('ميكانيكية', 953), ('تدو', 954), ('وذل', 955), ('الة', 956), ('اضي', 957), ('جوزيف', 958), ('اري', 959), ('جاكار', 960), ('تحس', 961), ('تتل', 962), ('ورق', 963), ('ثقب', 964), ('كأن', 965), ('رنمج', 966), ('نسج', 967), ('همة', 968), ('شارلز', 969), ('ابج', 970), ('برمج', 971), ('قني', 972), ('حل', 973), ('جيد', 974), ('فئد', 975), ('حوسب', 976), ('بنه', 977), ('باستخدام', 978), ('هيرم', 979), ('هولليريث', 980), ('قوة', 981), ('ريح', 982), ('أضف', 983), ('اليكتروني', 984), ('كلد', 985), ('شان', 986), ('سلس', 987), ('شور', 988), ('صعب', 989), ('جاز', 990), ('سسي', 991), ('غرض', 992), ('قاد', 993), ('برط', 994), ('سري', 995), ('الف', 996), ('وثق', 997), ('اسس', 998), ('بنت', 999), ('اليكتروميكانيكي', 1000), ('يزة', 1001), ('اوتوماتيكي', 1002), ('عيب', 1003), ('جاء', 1004), ('روع', 1005), ('ببن', 1006), ('خزن', 1007), ('قعد', 1008), ('مشاريع', 1009), ('هولاء', 1010), ('ربم', 1011), ('نسخ', 1012), ('أنبوب', 1013), ('قيد', 1014), ('ترانزستورية', 1015), ('جري', 1016), ('ستن', 1017), ('كنولوج', 1018), ('دئر', 1019), ('كامل', 1020), ('كلف', 1021), ('قلل', 1022), ('متل', 1023), ('ثير', 1024), ('اليكترونية', 1025), ('تعدد', 1026), ('عليها', 1027), ('صطلح', 1028), ('تصل', 1029), ('حزم', 1030), ('سار', 1031), ('ساق', 1032), ('مؤق', 1033), ('تطع', 1034), ('تقد', 1035), ('رؤة', 1036), ('قئم', 1037), ('خلا', 1038), ('خلة', 1039), ('تخز', 1040), ('كمة', 1041), ('ومر', 1042), ('عمو', 1043), ('قلب', 1044), ('نفذ', 1045), ('نوع', 1046), ('طرح', 1047), ('سوا', 1048), ('عوض', 1049), ('إدخال', 1050), ('وسل', 1051), ('عدي', 1052), ('لوح', 1053), ('مفاتيح', 1054), ('فأر', 1055), ('شاش', 1056), ('كأجهز', 1057), ('قرء', 1058), ('شفر', 1059), ('تغذ', 1060), ('صحح', 1061), ('الحالي', 1062), ('زدد', 1063), ('تكرر', 1064), ('ثمن', 1065), ('عتد', 1066), ('مايكروبروسيسور', 1067), ('زمن', 1068), ('جلب', 1069), ('جرء', 1070), ('تتم', 1071), ('وقف', 1072), ('لنع', 1073), ('عدا', 1074), ('بحث', 1075), ('معي', 1076), ('لغة', 1077), ('سوق', 1078), ('جرة', 1079), ('ضرر', 1080), ('زود', 1081), ('لغت', 1082), ('برز', 1083), ('غلب', 1084), ('ملك', 1085), ('أغراض', 1086), ('تخصص', 1087), ('خصر', 1088), ('رسل', 1089), ('سال', 1090), ('لتح', 1091), ('سآل', 1092), ('ذات', 1093), ('مدى', 1094), ('قرئ', 1095), ('كرت', 1096), ('مر', 1097), ('ششة', 1098), ('إعد', 1099), ('سمع', 1100), ('كامير', 1101), ('رئة', 1102), ('قرص', 1103), ('سطو', 1104), ('بطء', 1105), ('سعت', 1106), ('لاستعادت', 1107), ('بشب', 1108), ('مدي', 1109), ('شبك', 1110), ('لمل', 1111), ('تؤد', 1112), ('جدول', 1113), ('وذج', 1114), ('حرى', 1115), ('رتب', 1116), ('بهذ', 1117), ('ملة', 1118), ('تمل', 1119), ('ناج', 1120), ('راد', 1121), ('باسكالpascal', 1122), ('جفا', 1123), ('رجم', 1124), ('كومبايلر', 1125), ('خرط', 1126), ('خفض', 1127), ('رولوج', 1128), ('جرد', 1129), ('فصل', 1130), ('مهم', 1131), ('وفر', 1132), ('حيج', 1133), ('هلك', 1134), ('حرب', 1135), ('لمس', 1136), ('شمل', 1137), ('أدء', 1138), ('يدو', 1139), ('اصو', 1140), ('بيئ', 1141), ('تخل', 1142), ('عبة', 1143), ('كبي', 1144), ('أمر', 1145), ('ندز', 1146), ('سطر', 1147), ('إنشائ', 1148), ('أصغر', 1149), ('زلت', 1150), ('بطئ', 1151), ('نبؤ', 1152), ('جود', 1153), ('فتر', 1154), ('وجز', 1155), ('مختلفة؛', 1156), ('قدي', 1157), ('تاح', 1158), ('لمن', 1159), ('لشئ', 1160), ('استخدامه', 1161), ('إنجاز', 1162), ('ؤسس', 1163), ('تحا', 1164), ('لتق', 1165), ('شغيل؛', 1166), ('خاص', 1167), ('بكل', 1168), ('قصر', 1169), ('نهم', 1170), ('منع', 1171), ('صدف', 1172), ('دد؛', 1173), ('صلب؛', 1174), ('ملف', 1175), ('جلد', 1176), ('دئم', 1177), ('تحكم', 1178), ('امن', 1179), ('لمستخدمي', 1180), ('لدي', 1181), ('صرح', 1182), ('تزد', 1183), ('بجه', 1184), ('عير', 1185), ('بقي', 1186), ('لبع', 1187), ('صلي', 1188), ('فيد', 1189), ('ضيفو', 1190), ('ماك', 1191), ('حرر', 1192), ('مايكروكمبيوتر', 1193), ('دمج', 1194), ('كلة', 1195), ('متح', 1196), ('رقق', 1197), ('chip', 1198), ('ترد', 1199), ('محي', 1200), ('شكر', 1201), ('وهن', 1202), ('لآف', 1203), ('شرل', 1204), ('لفظ', 1205), ('مكو', 1206), ('أشكال', 1207), ('كمبيوتر', 1208), ('سوف', 1209), ('وير', 1210), ('أدل', 1211), ('فنة', 1212), ('ويب', 1213), ('ألعاب', 1214), ('كود', 1215), ('سيق', 1216), ('فلم', 1217), ('حاسوب؛', 1218), ('تكنولوجية', 1219), ('نصص', 1220), ('ميكروكود', 1221), ('تأت', 1222), ('سطح', 1223), ('مايكروسوفت', 1224), ('ورد', 1225), ('وعد', 1226), ('حوء', 1227), ('أجهز', 1228), ('عملاء', 1229), ('سير', 1230), ('تليفزيون', 1231), ('حمص', 1232), ('خبز', 1233), ('كهربائية', 1234), ('سمت', 1235), ('هرد', 1236), ('لزم', 1237), ('دنى', 1238), ('بروسيسور', 1239), ('وتت', 1240), ('حلت', 1241), ('لسل', 1242), ('انس', 1243), ('كفء', 1244), ('جمل', 1245), ('للغ', 1246), ('هجي', 1247), ('يجب', 1248), ('لدر', 1249), ('توك', 1250), ('رينج', 1251), ('قله', 1252), ('ايك', 1253), ('هلي', 1254), ('فئت', 1255), ('صنف', 1256), ('عبط', 1257), ('هاردوير', 1258), ('ولح', 1259), ('صدر', 1260), ('وزم', 1261), ('وثب', 1262), ('تعلق', 1263), ('مستخدمو', 1264), ('فالأشخاص', 1265), ('عمة', 1266), ('دلل', 1267), ('وكف', 1268), ('وخص', 1269), ('وشب', 1270), ('كيف', 1271), ('حتو', 1272), ('قيس', 1273), ('عشوائ', 1274), ('مرر', 1275), ('دفق', 1276), ('بكم', 1277), ('ؤشر', 1278), ('لبي', 1279), ('ببي', 1280), ('كذل', 1281), ('عطل', 1282), ('خطء', 1283), ('جدر', 1284), ('خلص', 1285), ('ومع', 1286), ('ندر', 1287), ('يقل', 1288), ('قان', 1289), ('لوبارسكي', 1290), ('وفل', 1291), ('مايكروسيستمز', 1292), ('وضم', 1293), ('شيوعا؛', 1294), ('نسا', 1295), ('صرم', 1296), ('كوك', 1297), ('فضء', 1298), ('أكمل', 1299), ('فدح', 1300), ('رخص', 1301), ('وتأ', 1302), ('شرؤ', 1303), ('مجا', 1304), ('منح', 1305), ('حق', 1306), ('جني', 1307), ('برء', 1308), ('برمجيات؛', 1309), ('ارء', 1310), ('تبي', 1311), ('ثار', 1312), ('لكة', 1313), ('حذر', 1314), ('قئل', 1315), ('حفز', 1316), ('قوا', 1317), ('إنشاء', 1318), ('بيع', 1319), ('مال', 1320), ('ؤيد', 1321), ('ناول', 1322), ('لمح', 1323), ('قون', 1324), ('ومستخدمي', 1325), ('اذج', 1326), ('بدع', 1327), ('لكا', 1328), ('فاد', 1329), ('وباستخدام', 1330), ('مفاهيم', 1331), ('بتع', 1332), ('ولي', 1333), ('تلف', 1334), ('فبإمكانه', 1335), ('واستدعاء', 1336), ('إغلاق', 1337), ('ضفي', 1338), ('ودن', 1339), ('اقتصادية', 1340), ('سلع', 1341), ('ويت', 1342), ('أشخاص', 1343), ('إنتاج', 1344), ('واستكشاف', 1345), ('جلا', 1346), ('بيل', 1347), ('جيتس', 1348), ('لري', 1349), ('ؤسسس', 1350), ('معايير', 1351), ('حدي', 1352), ('فرس', 1353), ('أسم', 1354), ('تور', 1355), ('ردء', 1356), ('سيح', 1357), ('يلء', 1358), ('نبع', 1359), ('ثرو', 1360), ('لذل', 1361), ('كتف', 1362), ('قمش', 1363), ('زنط', 1364), ('دمر', 1365), ('ارة', 1366), ('قسطنطينية', 1367), ('عصم', 1368), ('امبراطورية', 1369), ('نحو', 1370), ('صرع', 1371), ('عسكر', 1372), ('خضه', 1373), ('هدد', 1374), ('سلم', 1375), ('وثن', 1376), ('ارثوذكسية', 1377), ('غول', 1378), ('سيس', 1379), ('ابو', 1380), ('قدس', 1381), ('رضي', 1382), ('جاب', 1383), ('دعو', 1384), ('امبراطوريه', 1385), ('ارثوذكسيه', 1386), ('لجق', 1387), ('نضل', 1388), ('سدس', 1389), ('قاليم', 1390), ('شام', 1391), ('زندق', 1392), ('شعب', 1393), ('حظر', 1394), ('زيج', 1395), ('نحر', 1396), ('ادى', 1397), ('حلف', 1398), ('خصم', 1399), ('روم', 1400), ('اجتماعية', 1401), ('سمر', 1402), ('اوق', 1403), ('قوى', 1404), ('بعث', 1405), ('كيس', 1406), ('قسطنطينيه', 1407), ('برك', 1408), ('ببا', 1409), ('رسء', 1410), ('سمي', 1411), ('رنج', 1412), ('اما', 1413), ('غرب', 1414), ('تسم', 1415), ('كمؤم', 1416), ('طرس', 1417), ('جند', 1418), ('رأى', 1419), ('حجج', 1420), ('سلح', 1421), ('أصبح', 1422), ('طوف', 1423), ('تجب', 1424), ('ؤرخ', 1425), ('بلط', 1426), ('مبر', 1427), ('لسط', 1428), ('ولم', 1429), ('لحج', 1430), ('طئف', 1431), ('ودل', 1432), ('هما', 1433), ('تلت', 1434), ('غزو', 1435), ('عدئ', 1436), ('لغر', 1437), ('كنكز', 1438), ('جيش', 1439), ('ضغط', 1440), ('زايد', 1441), ('ازء', 1442), ('جءت', 1443), ('فطم', 1444), ('الل', 1445), ('كنس', 1446), ('تكم', 1447), ('دهر', 1448), ('حله', 1449), ('ركي', 1450), ('هير', 1451), ('كارولانجيه', 1452), ('وخر', 1453), ('مجر', 1454), ('نجت', 1455), ('طاق', 1456), ('رهب', 1457), ('سكن', 1458), ('كبح', 1459), ('عنف', 1460), ('هدن', 1461), ('سعى', 1462), ('فذا', 1463), ('فرص', 1464), ('قلم', 1465), ('بلء', 1466), ('ثنء', 1467), ('سبن', 1468), ('رزق', 1469), ('كفح', 1470), ('يبر', 1471), ('لمخالفيه', 1472), ('لكى', 1473), ('هرطق', 1474), ('البيجنسي', 1475), ('حدى', 1476), ('قام', 1477), ('يطر', 1478), ('شئن', 1479), ('حية', 1480), ('ذعت', 1481), ('ورى', 1482), ('نهج', 1483), ('سان', 1484), ('رنر', 1485), ('دجل', 1486), ('بإد', 1487), ('سقف', 1488), ('ورث', 1489), ('وحز', 1490), ('عصب', 1491), ('دعى', 1492), ('كارتار', 1493), ('طهر', 1494), ('ولز', 1495), ('مدن', 1496), ('ثرياء', 1497), ('روفانس', 1498), ('البيجانسية', 1499), ('عاطف', 1500), ('قدت', 1501), ('ترى', 1502), ('البيجنسية', 1503), ('سرط', 1504), ('جسد', 1505), ('سيحى', 1506), ('استئصاله', 1507), ('ريموند', 1508), ('حمس', 1509), ('قضت', 1510), ('مرء', 1511), ('جلو', 1512), ('ورم', 1513), ('لأيرلندا', 1514), ('نمط', 1515), ('كثل', 1516), ('عنق', 1517), ('كينج', 1518), ('بلا', 1519), ('عدو', 1520), ('رعب', 1521), ('سرق', 1522), ('فكان', 1523), ('خفف', 1524), ('وضى', 1525), ('فسح', 1526), ('لتف', 1527), ('كنج', 1528), ('جغراف', 1529), ('استردادية', 1530), ('دلس', 1531), ('تكو', 1532), ('دعة', 1533), ('كليرم', 1534), ('فرن', 1535), ('برر', 1536), ('ردة', 1537), ('لرب', 1538), ('كفر', 1539), ('خطا', 1540), ('تري', 1541), ('ضطهاد', 1542), ('ارث', 1543), ('ابن', 1544), ('عقر', 1545), ('عبد', 1546), ('وته', 1547), ('نشأ', 1548), ('سيد', 1549), ('فشع', 1550), ('قاب', 1551), ('لكت', 1552), ('بضم', 1553), ('لحا', 1554), ('ننس', 1555), ('سحل', 1556), ('سفن', 1557), ('فسد', 1558), ('طمأ', 1559), ('جبل', 1560), ('بير', 1561), ('تخم', 1562), ('صقل', 1563), ('حمي', 1564), ('ظلل', 1565), ('ضؤل', 1566), ('اقن', 1567), ('غنم', 1568), ('غدر', 1569), ('بئس', 1570), ('توج', 1571), ('نسك', 1572), ('يزط', 1573), ('ورء', 1574), ('خرب', 1575), ('نهب', 1576), ('مجروالصرب', 1577), ('سحق', 1578), ('قوت', 1579), ('ترك', 1580), ('تحر', 1581), ('غسطس', 1582), ('لور', 1583), ('طوابير', 1584), ('جودفر', 1585), ('بوب', 1586), ('وخه', 1587), ('لدو', 1588), ('ودو', 1589), ('ورغ', 1590), ('عم', 1591), ('غودفر', 1592), ('ينو', 1593), ('رينو', 1594), ('تول', 1595), ('اثر', 1596), ('مشت', 1597), ('رين', 1598), ('دنب', 1599), ('سرت', 1600), ('فلح', 1601), ('لتي', 1602), ('رها', 1603), ('ادس', 1604), ('إمر', 1605), ('طاك', 1606), ('طرابلس', 1607), ('قهر', 1608), ('بنق', 1609), ('وبء', 1610), ('كمحاول', 1611), ('وزر', 1612), ('عسقل', 1613), ('شمي', 1614), ('فلسطينية', 1615), ('ونت', 1616), ('هدء', 1617), ('دعا', 1618), ('رنرد', 1619), ('كليرفو', 1620), ('كونراد', 1621), ('هوهنشتاوفن', 1622), ('جرم', 1623), ('لوك', 1624), ('جحفل', 1625), ('جوع', 1626), ('مرض', 1627), ('خيل', 1628), ('ابع', 1629), ('جور', 1630), ('ضورليوم', 1631), ('نيت', 1632), ('خطر', 1633), ('خون', 1634), ('بغر', 1635), ('واصل', 1636), ('وصة', 1637), ('عرش', 1638), ('ميليساندا', 1639), ('اعي', 1640), ('ومض', 1641), ('حصر', 1642), ('دمشق', 1643), ('حصن', 1644), ('دام', 1645), ('وبر', 1646), ('طبر', 1647), ('نار', 1648), ('لعل', 1649), ('رشو', 1650), ('نور', 1651), ('ودر', 1652), ('وبين', 1653), ('عرك', 1654), ('أسس', 1655), ('سول', 1656), ('وتج', 1657), ('وبه', 1658), ('بيت', 1659), ('أمم', 1660), ('دخلو', 1661), ('أقم', 1662), ('ذبح', 1663), ('قضا', 1664), ('نسء', 1665), ('أطفال', 1666), ('كهل', 1667), ('باح', 1668), ('سحة', 1669), ('قصى', 1670), ('قئد', 1671), ('حتل', 1672), ('عرة', 1673), ('نعم', 1674), ('أشعل', 1675), ('حلب', 1676), ('لقد', 1677), ('باستعادة', 1678), ('نهر', 1679), ('فرت', 1680), ('ضيق', 1681), ('متد', 1682), ('ارد', 1683), ('تتج', 1684), ('خلج', 1685), ('وها', 1686), ('كله', 1687), ('فرح', 1688), ('عدت', 1689), ('كأشد', 1690), ('حطن', 1691), ('حور', 1692), ('ايب', 1693), ('غريغوريوس', 1694), ('ردا', 1695), ('يلب', 1696), ('وغس', 1697), ('وريتشارد', 1698), ('اسد', 1699), ('ومل', 1700), ('ريدر', 1701), ('برباروسا', 1702), ('شرد', 1703), ('قته', 1704), ('ريتشارد', 1705), ('ضعف', 1706), ('عكا', 1707), ('عئد', 1708), ('وجر', 1709), ('وتح', 1710), ('محاولاته', 1711), ('بءت', 1712), ('تجر', 1713), ('اينوقنتيوس', 1714), ('لخص', 1715), ('شن', 1716), ('بتج', 1717), ('غذء', 1718), ('جهو', 1719), ('ثقف', 1720), ('حطط', 1721), ('بحج', 1722), ('هيا', 1723), ('لقل', 1724), ('ساء', 1725), ('كاستعارة', 1726), ('تكن', 1727), ('بكن', 1728), ('وهم', 1729), ('يرى', 1730), ('مات', 1731), ('ظرف', 1732), ('قسي', 1733), ('ايد', 1734), ('وبع', 1735), ('كعبيد', 1736), ('نخس', 1737), ('اينوشنتيوس', 1738), ('وعظ', 1739), ('دمت', 1740), ('درش', 1741), ('وقو', 1742), ('ضمت', 1743), ('وهولندية', 1744), ('فتج', 1745), ('دمياط', 1746), ('نيل', 1747), ('حاح', 1748), ('اونوريوس', 1749), ('بيلاجيوس', 1750), ('است', 1751), ('فيض', 1752), ('صري', 1753), ('لسد', 1754), ('بما', 1755), ('ذرع', 1756), ('امبراطور', 1757), ('سيف', 1758), ('غمد', 1759), ('تحظ', 1760), ('أخر', 1761), ('نذر', 1762), ('فوض', 1763), ('باستتثناء', 1764), ('وبت', 1765), ('لحم', 1766), ('صيد', 1767), ('وطر', 1768), ('قصل', 1769), ('تمة', 1770), ('عمي', 1771), ('شاه', 1772), ('اسر', 1773), ('فده', 1774), ('فعد', 1775), ('وبق', 1776), ('بخف', 1777), ('حنن', 1778), ('برن', 1779), ('جلي', 1780), ('صدهم', 1781), ('رفق', 1782), ('ضمم', 1783), ('فجئ', 1784), ('وبالنسبة', 1785), ('ذهل', 1786), ('ونس', 1787), ('نجو', 1788), ('لأخ', 1789), ('ويس', 1790), ('نبل', 1791), ('قلع', 1792), ('قرطاج', 1793), ('دب', 1794), ('وتف', 1795), ('الك', 1796), ('شفي', 1797), ('وفة', 1798), ('اخه', 1799), ('وخض', 1800), ('زمت', 1801), ('جزة', 1802), ('بادل', 1803), ('غادرو', 1804), ('برس', 1805), ('هادينيشي', 1806), ('ومد', 1807), ('هوس', 1808), ('تشك', 1809), ('عثم', 1810), ('سود', 1811), ('قرة', 1812), ('رية', 1813), ('تفت', 1814), ('بيروقراطي', 1815), ('قوم', 1816), ('مان', 1817), ('طبة', 1818), ('نورمانية', 1819), ('زدهار', 1820), ('حوض', 1821), ('توسط', 1822), ('جنو', 1823), ('اسكندرية', 1824), ('شك', 1825), ('حجر', 1826), ('خشب', 1827), ('دمي', 1828), ('فبالإضافة', 1829), ('سفك', 1830), ('دمء', 1831), ('ؤمن', 1832), ('تعا', 1833), ('لبج', 1834), ('يهد', 1835), ('هنغار', 1836), ('ودى', 1837), ('نمي', 1838), ('نزي', 1839), ('فشي', 1840), ('رهق', 1841), ('ربر', 1842), ('بشع', 1843), ('شيخ', 1844), ('شقا', 1845), ('بطن', 1846), ('اهل', 1847), ('حرث', 1848), ('نسل', 1849), ('أذق', 1850), ('هون', 1851), ('كصلاح', 1852), ('غمر', 1853), ('حاط', 1854), ('بهل', 1855), ('ربروس', 1856), ('أجل', 1857), ('عمم', 1858), ('خطى', 1859), ('اطر', 1860), ('إطعام', 1861), ('جيع', 1862), ('بوش', 1863), ('سور', 1864), ('أقدم', 1865), ('رمق', 1866), ('ادب', 1867), ('موي', 1868), ('امي', 1869), ('رمي', 1870), ('ريز', 1871), ('نسم', 1872), ('ألف', 1873), ('ارم', 1874), ('اشر', 1875), ('شركس', 1876), ('سفح', 1877), ('حيء', 1878), ('تجه', 1879), ('تحط', 1880), ('بسا', 1881), ('غوط', 1882), ('ربو', 1883), ('وعش', 1884), ('مشاهير', 1885), ('فلك', 1886), ('فقه', 1887), ('لطب', 1888), ('صيدل', 1889), ('قدة', 1890), ('حفل', 1891), ('أحياء', 1892), ('سرح', 1893), ('سين', 1894), ('تحف', 1895), ('لخط', 1896), ('قلد', 1897), ('وطن', 1898), ('كنز', 1899), ('ترث', 1900), ('غني', 1901), ('عطي', 1902), ('موسيقى', 1903), ('ولف', 1904), ('دوم', 1905), ('نشء', 1906), ('حفر', 1907), ('تل', 1908), ('رمد', 1909), ('فجر', 1910), ('لسم', 1911), ('فهن', 1912), ('روي', 1913), ('رجح', 1914), ('تقل', 1915), ('تدل', 1916), ('بنئ', 1917), ('ورا', 1918), ('سام', 1919), ('بن', 1920), ('نوح', 1921), ('تعن', 1922), ('زهر', 1923), ('تدر', 1924), ('حبر', 1925), ('بت', 1926), ('رام', 1927), ('ديمترياس', 1928), ('جلق', 1929), ('شمة', 1930), ('دنا', 1931), ('كنن', 1932), ('دمس', 1933), ('يحء', 1934), ('يمش', 1935), ('داماس', 1936), ('ديماسكوس', 1937), ('سقة', 1938), ('يسم', 1939), ('إحدى', 1940), ('ؤهل', 1941), ('كفة', 1942), ('صرة', 1943), ('وحث', 1944), ('ببل', 1945), ('وفينيقية', 1946), ('ورومانية', 1947), ('ويونانية', 1948), ('أسمائ', 1949), ('حوتمس', 1950), ('يمس', 1951), ('دا', 1952), ('ماش', 1953), ('قا', 1954), ('دارميس', 1955), ('ينق', 1956), ('ومم', 1957), ('امبراطوري', 1958), ('مرت', 1959), ('قمت', 1960), ('أهم', 1961), ('موط', 1962), ('بأد', 1963), ('كندر', 1964), ('وفت', 1965), ('سلق', 1966), ('ومب', 1967), ('ولس', 1968), ('هلنس', 1969), ('مزج', 1970), ('ومط', 1971), ('صين', 1972), ('وما', 1973), ('طلس', 1974), ('رفع', 1975), ('خلفاء', 1976), ('ساح', 1977), ('جوبيتر', 1978), ('مبا', 1979), ('قعة', 1980), ('صلة', 1981), ('وصح', 1982), ('توز', 1983), ('ناسق', 1984), ('رخم', 1985), ('سجد', 1986), ('حقب', 1987), ('مئذ', 1988), ('عرس', 1989), ('ئذن', 1990), ('عيسى', 1991), ('ريم', 1992), ('قايتب', 1993), ('زاي', 1994), ('زيا', 1995), ('شرع', 1996), ('عبس', 1997), ('غدد', 1998), ('تقض', 1999), ('ضعضع', 2000), ('طولو', 2001), ('قرمط', 2002), ('حلو', 2003), ('رات', 2004), ('تبك', 2005), ('سقل', 2006), ('سرد', 2007), ('كمركز', 2008), ('وصد', 2009), ('استقلاليت', 2010), ('وجء', 2011), ('زنك', 2012), ('شيركو', 2013), ('واج', 2014), ('بمو', 2015), ('عضد', 2016), ('لدن', 2017), ('ركد', 2018), ('عاد', 2019), ('برق', 2020), ('ياد', 2021), ('دبي', 2022), ('ارس', 2023), ('حمم', 2024), ('بزر', 2025), ('ترب', 2026), ('زين', 2027), ('اية', 2028), ('قرآ', 2029), ('زمر', 2030), ('مسك', 2031), ('نيب', 2032), ('مدت', 2033), ('رست', 2034), ('بحر', 2035), ('ابض', 2036), ('إلى', 2037), ('غزة', 2038), ('كرك', 2039), ('قلو', 2040), ('وشد', 2041), ('تيمورلنك', 2042), ('كرث', 2043), ('نهض', 2044), ('شيد', 2045), ('زدهر', 2046), ('حدم', 2047), ('صارع', 2048), ('مني', 2049), ('مرج', 2050), ('دبق', 2051), ('شسع', 2052), ('وغد', 2053), ('كأهم', 2054), ('أطلق', 2055), ('حطة', 2056), ('قفل', 2057), ('حرص', 2058), ('ولة', 2059), ('رمم', 2060), ('عني', 2061), ('تكة', 2062), ('سليمانية', 2063), ('وبالتوازي', 2064), ('قطب', 2065), ('فرء', 2066), ('غدو', 2067), ('أشهر', 2068), ('بلس', 2069), ('قوتل', 2070), ('دحدح', 2071), ('سحر', 2072), ('رقي', 2073), ('باد', 2074), ('زار', 2075), ('لرع', 2076), ('ألم', 2077), ('لتحركاته', 2078), ('ثور', 2079), ('قلة', 2080), ('ندب', 2081), ('قصف', 2082), ('ألحق', 2083), ('طلع', 2084), ('فيش', 2085), ('وازدهارا', 2086), ('نكب', 2087), ('نكس', 2088), ('هجر', 2089), ('نزح', 2090), ('جول', 2091), ('بمب', 2092), ('وحر', 2093), ('أسواق', 2094), ('حي', 2095), ('ميد', 2096), ('شغر', 2097), ('قنو', 2098), ('زرع', 2099), ('ركن', 2100), ('مزة', 2101), ('رمن', 2102), ('سوس', 2103), ('شعل', 2104), ('باب', 2105), ('توم', 2106), ('برم', 2107), ('قصع', 2108), ('حار', 2109), ('قارب', 2110), ('رصف', 2111), ('فهذ', 2112), ('خان', 2113), ('جلل', 2114), ('حني', 2115), ('أعمد', 2116), ('بقا', 2117), ('عاش', 2118), ('ولص', 2119), ('نبت', 2120), ('افر', 2121), ('ياه', 2122), ('يعد', 2123), ('شآت', 2124), ('كأقدم', 2125), ('تحى', 2126), ('رثة', 2127), ('روكار', 2128), ('داماسكو', 2129), ('صوف', 2130), ('نحس', 2131), ('رابيس', 2132), ('طرز', 2133), ('فكه', 2134), ('جفف', 2135), ('بجد', 2136), ('حير', 2137), ('عدن', 2138), ('كمد', 2139), ('برج', 2140), ('خضراء', 2141), ('سكك', 2142), ('أورب', 2143), ('طار', 2144), ('ريف', 2145), ('تشه', 2146), ('فئة', 2147), ('ستو', 2148), ('قهي', 2149), ('كازينو', 2150), ('سبح', 2151), ('ربة', 2152), ('صاف', 2153), ('جوه', 2154), ('ودي', 2155), ('زبد', 2156), ('نجع', 2157), ('إضف', 2158), ('مول', 2159), ('وذكرياته', 2160), ('عريش', 2161), ('قوس', 2162), ('قنطر', 2163), ('حدق', 2164), ('برح', 2165), ('عطر', 2166), ('تعط', 2167), ('بهج', 2168), ('بدو', 2169), ('لألئ', 2170), ('خضر', 2171), ('تسلق', 2172), ('رهف', 2173), ('هدى', 2174), ('لفن', 2175), ('ثنا', 2176), ('وبو', 2177), ('عبق', 2178), ('ورح', 2179), ('عطك', 2180), ('إطلال', 2181), ('غنء', 2182), ('بمنتزهات', 2183), ('سكة', 2184), ('قطر', 2185), ('نثر', 2186), ('رئع', 2187), ('يرم', 2188), ('زيئ', 2189), ('وبل', 2190), ('قنبل', 2191), ('إرساء', 2192), ('وذع', 2193), ('صيت', 2194), ('مندليف', 2195), ('يورانيوم', 2196), ('ملء', 2197), ('رصص', 2198), ('سدى', 2199), ('قتئذ', 2200), ('كور', 2201), ('راديوم', 2202), ('مشع', 2203), ('يجر', 2204), ('أجرى', 2205), ('كبندق', 2206), ('إطلاق', 2207), ('كهرب', 2208), ('ضلت', 2209), ('عنت', 2210), ('فلر', 2211), ('قذف', 2212), ('فظن', 2213), ('هرب', 2214), ('واستبداد', 2215), ('لقف', 2216), ('كولومب', 2217), ('يمز', 2218), ('قصة', 2219), ('يطل', 2220), ('وتب', 2221), ('بأز', 2222), ('شطر', 2223), ('خام', 2224), ('جوز', 2225), ('بحل', 2226), ('خصب', 2227), ('ثري', 2228), ('الت', 2229), ('عجل', 2230), ('رحي', 2231), ('كلوتر', 2232), ('حلزو', 2233), ('قضي', 2234), ('ركم', 2235), ('كند', 2236), ('كونغو', 2237), ('بلج', 2238), ('زائير', 2239), ('زيلارد', 2240), ('ليك', 2241), ('ذكة', 2242), ('طوق', 2243), ('نجة', 2244), ('جرف', 2245), ('هدئ', 2246), ('طمح', 2247), ('قسا', 2248), ('سلسل', 2249), ('زكى', 2250), ('هتلر', 2251), ('لاستخدام', 2252), ('فشد', 2253), ('شنط', 2254), ('إقناع', 2255), ('سئل', 2256), ('جدى', 2257), ('وهد', 2258), ('جرس', 2259), ('ذار', 2260), ('لمك', 2261), ('دري', 2262), ('أعد', 2263), ('رانكل', 2264), ('روزفل', 2265), ('حسم', 2266), ('فقر', 2267), ('نوه', 2268), ('ختم', 2269), ('بقل', 2270), ('شمس', 2271), ('فور', 2272), ('سرا', 2273), ('حشد', 2274), ('رهط', 2275), ('ديكتاتورية', 2276), ('لاستكمال', 2277), ('هان', 2278), ('يلز', 2279), ('دانمر', 2280), ('جيمس', 2281), ('شدي', 2282), ('أوتو', 2283), ('فرش', 2284), ('أندرس', 2285), ('يسر', 2286), ('إميليو', 2287), ('وإر', 2288), ('جوليو', 2289), ('ينر', 2290), ('باع', 2291), ('جذر', 2292), ('ياب', 2293), ('ينء', 2294), ('يرل', 2295), ('هاربر', 2296), ('بغت', 2297), ('سطل', 2298), ('ربض', 2299), ('هدي', 2300), ('لهب', 2301), ('حلفاء', 2302), ('حتم', 2303), ('إيطال', 2304), ('إعل', 2305), ('جبه', 2306), ('قاتل', 2307), ('أسرار', 2308), ('ماكميل', 2309), ('خلق', 2310), ('نهى', 2311), ('بلوتونيوم', 2312), ('امل', 2313), ('دفة', 2314), ('سرة', 2315), ('جنرال', 2316), ('يسل', 2317), ('جروفز', 2318), ('همت', 2319), ('تركيزالبحوث', 2320), ('خار', 2321), ('شيكاغو', 2322), ('موه', 2323), ('ستذ', 2324), ('نقي', 2325), ('كادميوم', 2326), ('إجراء', 2327), ('رقص', 2328), ('قضب', 2329), ('حبل', 2330), ('شده', 2331), ('جايجر', 2332), ('نشد', 2333), ('هئل', 2334), ('أبرق', 2335), ('نصه', 2336), ('لاح', 2337), ('كاديم', 2338), ('بدأتطوير', 2339), ('دقة', 2340), ('اكس', 2341), ('مضخ', 2342), ('برد', 2343), ('شرى', 2344), ('عشة', 2345), ('خفء', 2346), ('تأم', 2347), ('رفه', 2348), ('تنس', 2349), ('ريدج', 2350), ('كلن', 2351), ('شرة', 2352), ('مغناطيس', 2353), ('وزن', 2354), ('قري', 2355), ('إقم', 2356), ('أسر', 2357), ('هانفورد', 2358), ('وقي', 2359), ('خرس', 2360), ('سمك', 2361), ('ألواح', 2362), ('سرب', 2363), ('درع', 2364), ('فقداكتملت', 2365), ('نيومكسيكو', 2366), ('كيلومترا', 2367), ('لفف', 2368), ('امس', 2369), ('طلت', 2370), ('لون', 2371), ('عشب', 2372), ('فذة', 2373), ('هيأ', 2374), ('جهد', 2375), ('أنفق', 2376), ('لبد', 2377), ('كيلو', 2378), ('صحراء', 2379), ('مجوردو', 2380), ('معد', 2381), ('تحي', 2382), ('كيلوجر', 2383), ('خفى', 2384), ('هدر', 2385), ('خيف', 2386), ('وضء', 2387), ('سطع', 2388), ('هبت', 2389), ('عصف', 2390), ('هئي', 2391), ('قمم', 2392), ('فجة', 2393), ('كيلومتر', 2394), ('رمل', 2395), ('زجج', 2396), ('طن', 2397), ('بهر', 2398), ('تولد', 2399), ('انتقامية', 2400), ('زرئ', 2401), ('أتى', 2402), ('لرد', 2403), ('يقظ', 2404), ('جوي', 2405), ('أسقط', 2406), ('هيروش', 2407), ('تمض', 2408), ('نجس', 2409), ('وطأ', 2410), ('جلة', 2411), ('نوفمبر2006', 2412), ('كيبيد', 2413), ('قبس', 2414), ('كوجو', 2415), ('رجب', 2416), ('كرياض', 2417), ('بقت', 2418), ('أرباب', 2419), ('وأح', 2420), ('مرس', 2421), ('ففي', 2422), ('ترن', 2423), ('كامبردج', 2424), ('هرو', 2425), ('وينتشستر', 2426), ('وشروسباري', 2427), ('إسم', 2428), ('تكلم', 2429), ('انكليزية', 2430), ('شيفيلد', 2431), ('لمذ', 2432), ('جهة', 2433), ('ختص', 2434), ('شالرز', 2435), ('ثرينج', 2436), ('كارترهاوس', 2437), ('كهث', 2438), ('تبق', 2439), ('كوب', 2440), ('ورل', 2441), ('صدق', 2442), ('ظلا', 2443), ('جلس', 2444), ('دون', 2445), ('ifab', 2446), ('fifa', 2447), ('نوب', 2448), ('صطناع', 2449), ('يدن', 2450), ('عشق', 2451), ('حصئ', 2452), ('سية', 2453), ('وكب', 2454), ('راح', 2455), ('مدة', 2456), ('ضئع', 2457), ('صلى', 2458), ('همه', 2459), ('ضاع', 2460), ('رار', 2461), ('شار', 2462), ('فقو', 2463), ('رأي', 2464), ('فلن', 2465), ('عنهم', 2466), ('خول', 2467), ('عندئذ', 2468), ('برؤ', 2469), ('احتفالات', 2470), ('كوق', 2471), ('فئز', 2472), ('يجز', 2473), ('كمبار', 2474), ('أدوار', 2475), ('منه', 2476), ('تسو', 2477), ('إصدار', 2478), ('بد', 2479), ('اعل', 2480), ('سعن', 2481), ('إنهاء', 2482), ('كطريق', 2483), ('ؤقت', 2484), ('ئنف', 2485), ('سخد', 2486), ('صفر', 2487), ('قرع', 2488), ('إحراز', 2489), ('بحذ', 2490), ('رمة', 2491), ('تمس', 2492), ('رؤت', 2493), ('سلل', 2494), ('رمه', 2495), ('تسلل', 2496), ('يقف', 2497), ('كفئ', 2498), ('جزي', 2499), ('فجي', 2500), ('اله', 2501), ('طقه', 2502), ('اي', 2503), ('الا', 2504), ('لأي', 2505), ('حزب', 2506), ('صندوق', 2507), ('دلء', 2508), ('فالتعاريف', 2509), ('نهك', 2510), ('كمخالف', 2511), ('فسف', 2512), ('بقئ', 2513), ('ممي', 2514), ('خلس', 2515), ('لده', 2516), ('لقن', 2517), ('سيم', 2518), ('رما', 2519), ('تصغ', 2520), ('مكا', 2521), ('وبالتالي', 2522), ('قار', 2523), ('رازيل', 2524), ('ارج', 2525), ('سيك', 2526), ('الذى', 2527), ('لوة', 2528), ('لاج', 2529), ('قبة', 2530), ('طيق', 2531), ('ليل', 2532), ('غلق', 2533), ('يام', 2534), ('مآم', 2535), ('عبسى', 2536), ('بكب', 2537), ('حمه', 2538), ('اجر', 2539), ('أقر', 2540), ('سطط', 2541), ('فما', 2542), ('ذتى', 2543), ('قطم', 2544), ('أنشأ', 2545), ('أتم', 2546), ('رخمى', 2547), ('روق', 2548), ('عمرو', 2549), ('شأن', 2550), ('ففى', 2551), ('جملى', 2552), ('طمى', 2553), ('أعلى', 2554), ('لجص', 2555), ('اتق', 2556), ('جصي', 2557), ('طولونى', 2558), ('فرغ', 2559), ('كبيرعلى', 2560), ('وأل', 2561), ('عاص', 2562), ('زول', 2563), ('طولونية\\u200f', 2564), ('بنا', 2565), ('غفر', 2566), ('حكو', 2567), ('أعجز', 2568), ('جير', 2569), ('كلهم', 2570), ('غلم', 2571), ('ساك', 2572), ('معونة\\u200f', 2573), ('غلا', 2574), ('أحمد', 2575), ('حسن', 2576), ('حذق', 2577), ('وإن', 2578), ('عشا', 2579), ('فقل', 2580), ('له\\u200f', 2581), ('أعلم', 2582), ('فنر', 2583), ('قل\\u200f', 2584), ('غد', 2585), ('طوب', 2586), ('أقبل', 2587), ('سحس', 2588), ('رطب', 2589), ('غصت', 2590), ('فكب', 2591), ('لسء', 2592), ('ظنه', 2593), ('فشق', 2594), ('ثيب', 2595), ('سوط', 2596), ('دنانير', 2597), ('وء\\u200f', 2598), ('ضيع', 2599), ('ذلك\\u200f', 2600), ('أنكر', 2601), ('عذب', 2602), ('تحب', 2603), ('أحضر', 2604), ('طال', 2605), ('دلى', 2606), ('نه\\u200f', 2607), ('سقي', 2608), ('شرب', 2609), ('مائ', 2610), ('قيه\\u200f', 2611), ('كنت', 2612), ('لي\\u200f', 2613), ('ذعر', 2614), ('قلت\\u200f', 2615), ('يه\\u200f', 2616), ('فأق', 2617), ('خادم\\u200f', 2618), ('مسن', 2619), ('فارحمني\\u200f', 2620), ('قول\\u200f', 2621), ('وسر', 2622), ('شمع', 2623), ('وكد', 2624), ('عطش', 2625), ('يأذ', 2626), ('أرد', 2627), ('ستق', 2628), ('كدت', 2629), ('سقك', 2630), ('جنة', 2631), ('وأغ', 2632), ('صفء', 2633), ('طيب', 2634), ('وليس', 2635), ('فاصرفوه\\u200f', 2636), ('صرفت\\u200f', 2637), ('فلل', 2638), ('هلكت\\u200f', 2639), ('نفق', 2640), ('سغل', 2641), ('أنشد', 2642), ('قاص', 2643), ('رثء', 2644), ('قاية\\u200f', 2645), ('زكة', 2646), ('روة', 2647), ('وفد', 2648), ('ترح', 2649), ('مد', 2650), ('نبط', 2651), ('لمع', 2652), ('عمق', 2653), ('نوء', 2654), ('جوا', 2655), ('جوهر', 2656), ('طون\\u200f', 2657), ('فخذ', 2658), ('اتع', 2659), ('سبأ', 2660), ('قحط', 2661), ('خطف', 2662), ('كوم', 2663), ('عفص', 2664), ('قرافة\\u200f', 2665), ('إصلاح', 2666), ('صحن', 2667), ('عزز', 2668), ('بلل', 2669), ('حرق', 2670), ('نبر', 2671), ('خشبى', 2672), ('كسة', 2673), ('فسء', 2674), ('علو', 2675), ('مستنصرى', 2676), ('جصة', 2677), ('قايتباى', 2678), ('فى', 2679), ('هجرى', 2680), ('ميلادى', 2681), ('اضى', 2682), ('لجأ', 2683), ('عجز', 2684), ('فؤد', 2685), ('إعداد', 2686), ('رصد', 2687), ('بيض', 2688), ('زخرف', 2689), ('جهت', 2690), ('ترو', 2691), ('ضلع', 2692), ('متر', 2693), ('حئط', 2694), ('يحط', 2695), ('ويش', 2696), ('دبب', 2697), ('طيل', 2698), ('لصق', 2699), ('صفن', 2700), ('غطى', 2701), ('أسفل', 2702), ('ازر', 2703), ('كرم', 2704), ('كوفى', 2705), ('بكى', 2706), ('ثيل', 2707), ('أغلب', 2708), ('الظ', 2709), ('جوف', 2710), ('كنف', 2711), ('وحل', 2712), ('حشو', 2713), ('حشه', 2714), ('أجمل', 2715), ('روا', 2716), ('سيط', 2717), ('قلا', 2718), ('طي', 2719), ('ثأر', 2720), ('حمى', 2721), ('ومك', 2722), ('حنة', 2723), ('كفل', 2724), ('يضأ', 2725), ('أزل', 2726), ('تكلف', 2727), ('جما', 2728), ('كمصنع', 2729), ('وافتتاحه', 2730), ('كحد', 2731), ('ساوس', 2732), ('فبه', 2733), ('ايت', 2734), ('غرر', 2735), ('سفل', 2736), ('ماز', 2737), ('فأل', 2738), ('لذى', 2739), ('شاهنش', 2740), ('أحكام', 2741), ('عتق', 2742), ('قوص', 2743), ('أولياؤ', 2744), ('اهر', 2745), ('روض', 2746), ('كربلاء', 2747), ('قبر', 2748), ('بنو', 2749), ('دفن', 2750), ('نصب', 2751), ('كوف', 2752), ('احد', 2753), ('ولت', 2754), ('مأم', 2755), ('رقد', 2756), ('رعي', 2757), ('دعي', 2758), ('بوه', 2759), ('وصي', 2760), ('هذة', 2761), ('شهداء', 2762), ('تزر', 2763), ('ضرح', 2764), ('سحت', 2765), ('طرم', 2766), ('حسي', 2767), ('شهق', 2768), ('غشة', 2769), ('طلي', 2770), ('ثره', 2771), ('وعل', 2772), ('عاج', 2773), ('فضة', 2774), ('وشى', 2775), ('نقش', 2776), ('رمر', 2777), ('مرا', 2778), ('ثوى', 2779), ('لطف', 2780), ('أصحاب', 2781), ('فوق', 2782), ('وطل', 2783), ('أرض', 2784), ('نصع', 2785), ('ردب', 2786), ('فنء', 2787), ('صلو', 2788), ('عال', 2789), ('جرى', 2790), ('قشا', 2791), ('علا', 2792), ('تطل', 2793), ('تفرع', 2794), ('اجل', 2795), ('زحم', 2796), ('ساج', 2797), ('حشي', 2798), ('ايو', 2799), ('فهو', 2800), ('طرف', 2801), ('كست', 2802), ('هدا', 2803), ('منى', 2804), ('يثق', 2805), ('امة', 2806), ('سمو', 2807), ('عضء', 2808), ('تفرق', 2809), ('ضرج', 2810), ('يؤد', 2811), ('فقف', 2812), ('تقف', 2813), ('إزء', 2814), ('قائ', 2815), ('فلج', 2816), ('حذي', 2817), ('وأب', 2818), ('رشد', 2819), ('هدم', 2820), ('ؤمل', 2821), ('عتر', 2822), ('أرسل', 2823), ('فنس', 2824), ('خوف', 2825), ('فيه', 2826), ('شجر', 2827), ('سدر', 2828), ('كرب', 2829), ('أسباب', 2830), ('وسى', 2831), ('رضا', 2832), ('ميل', 2833), ('سند', 2834), ('ائم', 2835), ('شيع', 2836), ('وذق', 2837), ('طمئ', 2838), ('شمخ', 2839), ('سنه', 2840), ('توكل', 2841), ('حقد', 2842), ('وناصبيته', 2843), ('خنق', 2844), ('زئر', 2845), ('بذر', 2846), ('يسق', 2847), ('سجن', 2848), ('أقلع', 2849), ('طوس', 2850), ('دني', 2851), ('زرت', 2852), ('خفة', 2853), ('فبع', 2854), ('تسق', 2855), ('حذت', 2856), ('حدت', 2857), ('عصي', 2858), ('تطأ', 2859), ('بوج', 2860), ('تلل', 2861), ('نبي', 2862), ('ظلم', 2863), ('بمثله', 2864), ('هذا', 2865), ('شاركوا', 2866), ('في', 2867), ('بعو', 2868), ('هئع', 2869), ('خبر؟', 2870), ('سدة', 2871), ('أصب', 2872), ('فرج', 2873), ('وزل', 2874), ('يلا', 2875), ('ودع', 2876), ('جعفر', 2877), ('وذر', 2878), ('فطس', 2879), ('حفد', 2880), ('أولاد', 2881), ('زور', 2882), ('ونج', 2883), ('جهل', 2884), ('قضء', 2885), ('قدرا؟', 2886), ('خبث', 2887), ('فجع', 2888), ('عظمى', 2889), ('مؤل', 2890), ('وصر', 2891), ('سبط', 2892), ('طبرس', 2893), ('حينئذ', 2894), ('نجف', 2895), ('قتذ', 2896), ('تين', 2897), ('فتم', 2898), ('غري', 2899), ('حئر', 2900), ('مسا', 2901), ('أجزى', 2902), ('عطء', 2903), ('طئع', 2904), ('طيع', 2905), ('عام407', 2906), ('شب', 2907), ('تنر', 2908), ('أزر', 2909), ('ستر', 2910), ('شبت', 2911), ('أصلح', 2912), ('سرر', 2913), ('أحس', 2914), ('بطط', 2915), ('بطش', 2916), ('أموال', 2917), ('قدد', 2918), ('ديباج', 2919), ('طنفس', 2920), ('كليدار', 2921), ('معز', 2922), ('جلر', 2923), ('هولاكو', 2924), ('أرق', 2925), ('وشر', 2926), ('وجل', 2927), ('بهو', 2928), ('بإو', 2929), ('عاقب', 2930), ('شؤن', 2931), ('عتب', 2932), ('مضى', 2933), ('عما', 2934), ('خبراء', 2935), ('ببروتوكول', 2936), ('بروتوكول', 2937), ('اكاديمية', 2938), ('تتب', 2939), ('بتق', 2940), ('ليف', 2941), ('بصري', 2942), ('الألياف', 2943), ('عظي', 2944), ('صفح', 2945), ('الب', 2946), ('خطب', 2947), ('رتوكول', 2948), ('صوت', 2949), ('طفر', 2950), ('بقع', 2951), ('شعت', 2952), ('ظنا', 2953), ('وهل', 2954), ('رزم', 2955), ('تضع', 2956), ('فحا', 2957), ('حتا', 2958), ('ذكء', 2959), ('بده', 2960), ('ضاف', 2961), ('سيل', 2962), ('رئي', 2963), ('إيصال', 2964), ('تنب', 2965), ('سيب', 2966), ('دردش', 2967), ('بان', 2968), ('عصة', 2969), ('خلو', 2970), ('معلوماتك', 2971), ('لامركزية', 2972), ('لاستغلال', 2973), ('توفر', 2974), ('واستعاضت', 2975), ('يفق', 2976), ('نمو', 2977), ('أخد', 2978), ('بمعلومات', 2979), ('تصفح', 2980), ('وزي', 2981), ('جوفر', 2982), ('عملاق', 2983), ('سكب', 2984), ('عزى', 2985), ('للا', 2986), ('مهندسو', 2987), ('موافيق', 2988), ('شتى', 2989), ('الخ', 2990), ('يدل', 2991), ('دلو', 2992), ('قرأ', 2993), ('توفرالتطبيق', 2994), ('تيم', 2995), ('رنرز', 2996), ('ناد', 2997), ('يني', 2998), ('خلط', 2999), ('غضن', 3000), ('عضي', 3001), ('لكه', 3002), ('دنة', 3003), ('زدياد', 3004), ('وإم', 3005), ('نصة', 3006), ('إرسال', 3007), ('يخز', 3008), ('عبث', 3009), ('وب', 3010), ('تشب', 3011), ('رادف', 3012), ('كبل', 3013), ('عكس', 3014), ('فايرفوكس', 3015), ('تجل', 3016), ('أخرى', 3017), ('فوتوغرافية', 3018), ('خاز', 3019), ('امك', 3020), ('زلي', 3021), ('يكم', 3022), ('تعو', 3023), ('عون', 3024), ('وتل', 3025), ('زملاء', 3026), ('عاملةعلى', 3027), ('فدي', 3028), ('مسح', 3029), ('جوجل', 3030), ('شير', 3031), ('بون', 3032), ('كاختيار', 3033), ('وأد', 3034), ('أنظم', 3035), ('هتف', 3036), ('باعتباره', 3037), ('كيب', 3038), ('لقم', 3039), ('بأل', 3040), ('فصح', 3041), ('عنا', 3042), ('لنص', 3043), ('صيغ', 3044), ('كمثال', 3045), ('لشر', 3046), ('كأمثل', 3047), ('يعل', 3048), ('وبم', 3049), ('واهتمامات', 3050), ('لغي', 3051), ('حقل', 3052), ('اختراعات', 3053), ('ابتكارات', 3054), ('شعراء', 3055), ('سلمس', 3056), ('ثقث', 3057), ('حاديث', 3058), ('ساي', 3059), ('لدم', 3060), ('دينار', 3061), ('وسس', 3062), ('اشد', 3063), ('قرطب', 3064), ('غدد؛', 3065), ('قاطع', 3066), ('الس', 3067), ('رقند', 3068), ('تعر', 3069), ('فاس', 3070), ('مكة', 3071), ('كنتيج', 3072), ('نمت', 3073), ('واجد', 3074), ('ثمر', 3075), ('نزع', 3076), ('هشم', 3077), ('هده', 3078), ('عنبر', 3079), ('ثاب', 3080), ('تلث', 3081), ('رزي', 3082), ('تمم', 3083), ('غطت', 3084), ('صناديق', 3085), ('یمرس', 3086), ('بجت', 3087), ('طبب', 3088), ('شاء', 3089), ('دوي', 3090), ('جينيس', 3091), ('قيرو', 3092), ('ؤلف', 3093), ('لين', 3094), ('لبن', 3095), ('مزا', 3096), ('رمند', 3097), ('صلن', 3098), ('حكماء', 3099), ('ليوناردو', 3100), ('ينش', 3101), ('ضيء', 3102), ('ردر', 3103), ('تغط', 3104), ('وحي', 3105), ('نبى', 3106), ('وفالدولة', 3107), ('علل', 3108), ('رقع', 3109), ('كخلق', 3110), ('كمخلوق', 3111), ('ادي', 3112), ('مكي', 3113), ('منظ', 3114), ('تعقيداته', 3115), ('زخم', 3116), ('قلقل', 3117), ('ايديولوجية', 3118), ('صحة', 3119), ('محض', 3120), ('نرى', 3121), ('لرؤ', 3122), ('اركس', 3123), ('ذوو', 3124), ('كدن', 3125), ('نحت', 3126), ('ككل', 3127), ('ؤكد', 3128), ('فتن', 3129), ('عاي', 3130), ('اثن', 3131), ('نقض', 3132), ('دكتور', 3133), ('قرى', 3134), ('ولء', 3135), ('تدن', 3136), ('أقل', 3137), ('صوب', 3138), ('لجو', 3139), ('جهر', 3140), ('قلي', 3141), ('تسك', 3142), ('بعم', 3143), ('كعب', 3144), ('فالجزيرة', 3145), ('كين', 3146), ('طمع', 3147), ('إسقاط', 3148), ('ساس', 3149), ('قضة', 3150), ('عضل', 3151), ('زوج', 3152), ('صبي', 3153), ('أبو', 3154), ('خدج', 3155), ('احق', 3156), ('فالأنصار', 3157), ('بثم', 3158), ('قرش', 3159), ('غيب', 3160), ('نبة', 3161), ('رده', 3162), ('وثم', 3163), ('وست', 3164), ('قتح', 3165), ('رفد', 3166), ('دحر', 3167), ('سسا', 3168), ('قحم', 3169), ('ترم', 3170), ('نعش', 3171), ('خاف', 3172), ('زهد', 3173), ('قصص', 3174), ('قبط', 3175), ('غيظ', 3176), ('حتف', 3177), ('ؤلؤ', 3178), ('ستكون', 3179), ('شورى', 3180), ('حاز', 3181), ('عفن', 3182), ('فاء', 3183), ('رحم', 3184), ('عوف', 3185), ('ملت', 3186), ('قشف', 3187), ('خشى', 3188), ('زجر', 3189), ('استمستاع', 3190), ('ضير', 3191), ('متع', 3192), ('ضطرب', 3193), ('ضطراب', 3194), ('إفراز', 3195), ('منالإنتقاد', 3196), ('بفت', 3197), ('تلم', 3198), ('مقاليد', 3199), ('يوج', 3200), ('تأز', 3201), ('سفي', 3202), ('ممك', 3203), ('طلح', 3204), ('زبر', 3205), ('عهم', 3206), ('عئش', 3207), ('سأل', 3208), ('يدع', 3209), ('لجم', 3210), ('عكرم', 3211), ('لقط', 3212), ('دبا', 3213), ('سيلم', 3214), ('كذب', 3215), ('إنتصر', 3216), ('يمم', 3217), ('علء', 3218), ('فتئ', 3219), ('قوي', 3220), ('مرو', 3221), ('تمر', 3222), ('واز', 3223), ('راس', 3224), ('وبد', 3225), ('ليش', 3226), ('رسخ', 3227), ('وطد', 3228), ('ورك', 3229), ('هلى', 3230), ('واه', 3231), ('قهء', 3232), ('رجء', 3233), ('حتض', 3234), ('وصك', 3235), ('لأب', 3236), ('عمه', 3237), ('البث', 3238), ('لله', 3239), ('درك', 3240), ('خضم', 3241), ('دسس', 3242), ('إخضاع', 3243), ('واستمرار', 3244), ('ؤمر', 3245), ('خين', 3246), ('وامبراطورية', 3247), ('اقم', 3248), ('حجز', 3249), ('كهرومغناطيسي', 3250), ('تره', 3251), ('وجت', 3252), ('فسج', 3253), ('شفف', 3254), ('حيز', 3255), ('موج', 3256), ('راديو', 3257), ('اشع', 3258), ('نيو', 3259), ('ميكانيكي', 3260), ('انع', 3261), ('كسر', 3262), ('صدم', 3263), ('مرن', 3264), ('ؤثر', 3265), ('حيد', 3266), ('فالملاحظ', 3267), ('يسو', 3268), ('هوغنس', 3269), ('لمج', 3270), ('شقي', 3271), ('شقن', 3272), ('ملليمتر', 3273), ('وحظ', 3274), ('ضيئ', 3275), ('ناوب', 3276), ('ختف', 3277), ('مليمتر', 3278), ('كهرومغناطيسية', 3279), ('بإن', 3280), ('حسس', 3281), ('الو', 3282), ('ميكرومتر', 3283), ('انجستروم', 3284), ('للن', 3285), ('رتقال', 3286), ('زرق', 3287), ('علة', 3288), ('حيو', 3289), ('نحل', 3290), ('نقص', 3291), ('اتج', 3292), ('يوم', 3293), ('شي', 3294), ('لظل', 3295), ('عدس', 3296), ('لضء', 3297), ('ننو', 3298), ('شدة', 3299), ('فيم', 3300), ('نعط', 3301), ('واستنادا', 3302), ('ماكسويل', 3303), ('عامد', 3304), ('هرتز', 3305), ('ترددالزاوي', 3306), ('عطى', 3307), ('للي', 3308), ('كهرباء', 3309), ('مصابيح', 3310), ('نسى', 3311), ('لانهائية', 3312), ('جاليلو', 3313), ('أقتنع', 3314), ('يزو', 3315), ('إعطاء', 3316), ('كوكب', 3317), ('مغناطيسية', 3318), ('كهروضوئي', 3319), ('كهرضوئ', 3320), ('ايل', 3321), ('نقس', 3322), ('تير', 3323), ('ناسب', 3324), ('عددالإلكترون', 3325), ('كمت', 3326), ('وتو', 3327), ('جداءالتواتر', 3328), ('بثب', 3329), ('بلن', 3330), ('إشعاع', 3331), ('جو', 3332), ('توهج', 3333), ('كضء', 3334), ('كأشع', 3335), ('نير', 3336), ('صهر', 3337), ('وهج', 3338), ('تسخ', 3339), ('زرقاء', 3340), ('نره', 3341), ('متص', 3342), ('خيط', 3343), ('لقئ', 3344), ('غزي', 3345), ('بخر', 3346), ('زئبق', 3347), ('سخن', 3348), ('يزر', 3349), ('ايزر', 3350), ('بطؤ', 3351), ('مرئ', 3352), ('سيكلوترو', 3353), ('أشع', 3354), ('شيرنكوف', 3355), ('ألق', 3356), ('وكذ', 3357), ('حيي', 3358), ('يرع', 3359), ('تضء', 3360), ('طقي', 3361), ('هبط', 3362), ('غما', 3363), ('يزت', 3364), ('ضءة', 3365), ('تنه', 3366), ('يكلس', 3367), ('لحل', 3368), ('غنت', 3369), ('أثب', 3370), ('منة', 3371), ('جانس', 3372), ('سدل', 3373), ('صطدم', 3374), ('كاصطدام', 3375), ('خرق', 3376), ('ائي', 3377), ('نص', 3378), ('ذبذب', 3379), ('سما', 3380), ('مار', 3381), ('روجل', 3382), ('نال', 3383), ('ينص', 3384), ('زدج', 3385), ('كهروضوئية', 3386), ('كومب', 3387), ('ويع', 3388), ('وكم', 3389), ('كحر', 3390), ('كهرومغناطيسيةعبارة', 3391), ('وافق', 3392), ('حر', 3393), ('كسولاريس', 3394), ('منص', 3395), ('طوع', 3396), ('أعداد', 3397), ('مستخدميه', 3398), ('نظا', 3399), ('حرا', 3400), ('جان', 3401), ('سعر', 3402), ('نكه', 3403), ('جزم', 3404), ('تحدث', 3405), ('حرت', 3406), ('يعف', 3407), ('ضطرار', 3408), ('حكر', 3409), ('أدو', 3410), ('تلو', 3411), ('اعد', 3412), ('هيرد', 3413), ('ماخ', 3414), ('كها', 3415), ('نلد', 3416), ('ينس', 3417), ('تورفالدز', 3418), ('هلس', 3419), ('مينيكس', 3420), ('ساذ', 3421), ('تانينباوم', 3422), ('ينكس', 3423), ('تثب', 3424), ('يلو', 3425), ('ظيفيا؛', 3426), ('تخص', 3427), ('وبالإشارة', 3428), ('تمثل', 3429), ('نله', 3430), ('اهم', 3431), ('يرس', 3432), ('بآل', 3433), ('ودم', 3434), ('ماكنتوش', 3435), ('باستعمال', 3436), ('كرر', 3437), ('ادء', 3438), ('شبع', 3439), ('كنظام', 3440), ('لائ', 3441), ('أسرع', 3442), ('خمسمائ', 3443), ('سبر', 3444), ('ناط', 3445), ('كبئ', 3446), ('سلي', 3447), ('خلي', 3448), ('حرج', 3449), ('صمبم', 3450), ('رفر', 3451), ('كخوادم', 3452), ('نما', 3453), ('كجزء', 3454), ('تطبيقاته', 3455), ('اختيارات', 3456), ('نسق', 3457), ('أهداف', 3458), ('رجا', 3459), ('وفذ', 3460), ('جنم', 3461), ('طقم', 3462), ('ذوي', 3463), ('جيك', 3464), ('اضة', 3465), ('حرة؛', 3466), ('احتياجاته', 3467), ('وارتياحه', 3468), ('كالآى', 3469), ('أعضائ', 3470), ('طفف', 3471), ('اون', 3472), ('باستخدامه', 3473), ('ظمت', 3474), ('لمر', 3475), ('إدر', 3476), ('كمصدر', 3477), ('تعض', 3478), ('رلم', 3479), ('فلد', 3480), ('شعة', 3481), ('عاه', 3482), ('تشو', 3483), ('إعق', 3484), ('جرع', 3485), ('كئن', 3486), ('حشر', 3487), ('ثدي', 3488), ('محط', 3489), ('نفط', 3490), ('فحم', 3491), ('لنف', 3492), ('ميليجرام', 3493), ('واط', 3494), ('بدف', 3495), ('جيولوجية', 3496), ('لقر', 3497), ('ونيوترون', 3498), ('ضرة', 3499), ('طربق', 3500), ('قنب', 3501), ('حبث', 3502), ('واق', 3503), ('نري', 3504), ('غلي', 3505), ('ئوة', 3506), ('زعنف', 3507), ('يدر', 3508), ('يجا', 3509), ('تكف', 3510), ('زئد', 3511), ('فكل', 3512), ('لاستخدامة', 3513), ('طفة', 3514), ('كخم', 3515), ('وحن', 3516), ('تحك', 3517), ('حلا', 3518), ('كتفاعل', 3519), ('993', 3520), ('بخص', 3521), ('مصص', 3522), ('انشطارية', 3523), ('وانجلترا', 3524), ('كوسيط', 3525), ('ثقل', 3526), ('إمداد', 3527), ('يجو', 3528), ('هكسافلوريد', 3529), ('سقر', 3530), ('يتر', 3531), ('تفجر', 3532), ('غشء', 3533), ('لذر', 3534), ('لغز', 3535), ('بكس', 3536), ('وكر', 3537), ('نفث', 3538), ('تثر', 3539), ('الكتروستاتيكي', 3540), ('كمبرد', 3541), ('واستعمال', 3542), ('امs', 3543), ('ديوتيريوم', 3544), ('كاندو', 3545), ('هاء', 3546), ('فقم', 3547), ('حبس', 3548), ('ترل', 3549), ('كلوديو', 3550), ('ميريلاند', 3551), ('أذرع', 3552), ('صطدام', 3553), ('يتح', 3554), ('بطأ', 3555), ('إبطاء', 3556), ('كمفاعل', 3557), ('بيريليوم', 3558), ('طبي', 3559), ('ية؟', 3560), ('كهربائية؛', 3561), ('تمد', 3562), ('احتياجات', 3563), ('فطن', 3564), ('راميل', 3565), ('اطن', 3566), ('كغز', 3567), ('ترج', 3568), ('مطر', 3569), ('حمض', 3570), ('ضبب', 3571), ('دخا', 3572), ('ائة', 3573), ('لاسترجاع', 3574), ('واستخدامه', 3575), ('كوقود', 3576), ('تظل', 3577), ('يجد', 3578), ('بسء', 3579), ('تشيرنوبل', 3580), ('أوكر', 3581), ('فظع', 3582), ('أنشاء', 3583), ('ديمتر', 3584), ('هنر', 3585), ('يحل', 3586), ('تلى', 3587), ('بغض', 3588), ('آصل', 3589), ('ماس', 3590), ('كلر', 3591), ('آكل', 3592), ('بشد', 3593), ('لتك', 3594), ('هاليد', 3595), ('لافوازييه', 3596), ('وأز', 3597), ('كيماو', 3598), ('دوبرينر', 3599), ('بوتاسيوم', 3600), ('كالسيوم', 3601), ('استرونشيوم', 3602), ('يود', 3603), ('نيولاندز', 3604), ('اوز', 3605), ('بمد', 3606), ('توبوليسك', 3607), ('مباديء', 3608), ('فلو', 3609), ('دوبرينير', 3610), ('جليزى', 3611), ('ريي', 3612), ('وسق', 3613), ('وثر', 3614), ('اير', 3615), ('ميندليف', 3616), ('جلن', 3617), ('تى', 3618), ('ورج', 3619), ('لانثينيد', 3620), ('كتينيد', 3621), ('ملاحظاته', 3622), ('وفيزيائية', 3623), ('بدت', 3624), ('تحت', 3625), ('ملآ', 3626), ('اسكانيديوم', 3627), ('جاليوم', 3628), ('وجرمانيوم', 3629), ('لتب', 3630), ('كيمائ', 3631), ('ككر', 3632), ('طومس', 3633), ('يرا', 3634), ('تبر', 3635), ('غمض', 3636), ('للح', 3637), ('توعج', 3638), ('أجزاء', 3639), ('ايج', 3640), ('جولدش', 3641), ('لرزرفورد', 3642), ('شخن', 3643), ('كدي', 3644), ('ققل', 3645), ('نفر', 3646), ('بروتوناتى', 3647), ('شابعى', 3648), ('شحت', 3649), ('كهربائيى', 3650), ('قي', 3651), ('غبر', 3652), ('عتصر', 3653), ('جطا', 3654), ('وبالنواة', 3655), ('خفبف', 3656), ('كهروبائية', 3657), ('عنر', 3658), ('جسبم', 3659), ('أكسج', 3660), ('ه29', 3661), ('فأم', 3662), ('حدسث', 3663), ('كتلاو', 3664), ('الكتلاون', 3665), ('بروتوناتبالنواة', 3666), ('شجن', 3667), ('اين', 3668), ('فالهيدروج', 3669), ('ديتريم', 3670), ('فالمجموعة', 3671), ('رسمب', 3672), ('هيدروجينhydrogen', 3673), ('هليوم', 3674), ('فالهيليومhe', 3675), ('لايتفاعل', 3676), ('ماغنيسيوم', 3677), ('نشرالجدول', 3678), ('أحجام', 3679), ('ويل', 3680), ('تله', 3681), ('انتقالية', 3682), ('قصدير', 3683), ('لصف', 3684), ('فقي', 3685), ('أقص', 3686), ('هلج', 3687), ('كمواد', 3688), ('حدس', 3689), ('فرانشيوم', 3690), ('يكو', 3691), ('نته', 3692), ('رمزهs', 3693), ('أسل', 3694), ('تطس', 3695), ('ردئ', 3696), ('حررو', 3697), ('هشة', 3698), ('إكتساب', 3699), ('ولل', 3700), ('تان', 3701), ('فيز', 3702), ('بزغ', 3703), ('كعلم', 3704), ('وباعتبار', 3705), ('ديناميكا', 3706), ('حديثة؛', 3707), ('الكتروني؛', 3708), ('وتطبيقية', 3709), ('أبحاث', 3710), ('خطئ', 3711), ('ضام', 3712), ('فالمعادلة', 3713), ('قمر', 3714), ('واستدلالي', 3715), ('ارسطوطاليسية', 3716), ('هيم', 3717), ('يرث', 3718), ('نقح', 3719), ('وبطليموس', 3720), ('إبتكار', 3721), ('هيثم', 3722), ('رئد', 3723), ('بتا', 3724), ('طليموس', 3725), ('بجة', 3726), ('جذة', 3727), ('رانسيس', 3728), ('بيك', 3729), ('وغاليليو', 3730), ('غاليل', 3731), ('إسحاق', 3732), ('نهئ', 3733), ('كلاسيكية', 3734), ('غوتفريد', 3735), ('نتز', 3736), ('وديناميكا', 3737), ('زمك', 3738), ('وقوانينه', 3739), ('استاتيكا', 3740), ('كينماتيكا', 3741), ('ومه', 3742), ('استمرارية', 3743), ('قسمين؛', 3744), ('وميكانيكا', 3745), ('وئع', 3746), ('مواضيع', 3747), ('هيدروستاتيكا', 3748), ('هيدروديناميكا', 3749), ('لقو', 3750), ('جرنج', 3751), ('نبو', 3752), ('مشى', 3753), ('تكد', 3754), ('بعا', 3755), ('نبئ', 3756), ('شوش', 3757), ('فاح', 3758), ('ثل؛', 3759), ('كيبلر', 3760), ('لحر', 3761), ('صرخ', 3762), ('افل', 3763), ('كعنصر', 3764), ('كهرطيسية', 3765), ('كهرطيس', 3766), ('مغنطيسية', 3767), ('رنتز', 3768), ('كولوم', 3769), ('رعد', 3770), ('نضو', 3771), ('وعم', 3772), ('تفض', 3773), ('ابب', 3774), ('تشع', 3775), ('رنة', 3776), ('ترموديناميكا', 3777), ('كمن', 3778), ('ورئ', 3779), ('تخض', 3780), ('سنج', 3781), ('كما', 3782), ('لحة', 3783), ('ديناميكية', 3784), ('ظمة؛', 3785), ('سدي', 3786), ('كارنو', 3787), ('رودلف', 3788), ('كتس', 3789), ('مجالات؛', 3790), ('وتش', 3791), ('هندر', 3792), ('رنتس', 3793), ('بوانكاريه', 3794), ('هم؛', 3795), ('تدع', 3796), ('لثب', 3797), ('وقن', 3798), ('حنئ', 3799), ('كمي', 3800), ('كلس', 3801), ('عطرد', 3802), ('شذة', 3803), ('كني', 3804), ('تنل', 3805), ('زيح', 3806), ('كسف', 3807), ('إنحناء', 3808), ('رءى', 3809), ('ودء', 3810), ('ذرية؛', 3811), ('واستقرار', 3812), ('درا', 3813), ('تقطع', 3814), ('كوانتوم', 3815), ('برل', 3816), ('ثنو', 3817), ('شرودنغر', 3818), ('نطو', 3819), ('هايزنبرغ', 3820), ('يقن', 3821), ('يضع', 3822), ('حدا', 3823), ('فيزيائيي', 3824), ('يهم', 3825), ('بصغ', 3826), ('زيتر', 3827), ('ترانزستور', 3828), ('ومح', 3829), ('مستقبلية', 3830), ('معلوماتية', 3831), ('بمن', 3832), ('فالبرتغال', 3833), ('أكبر', 3834), ('ليختنشتا', 3835), ('قسى', 3836), ('لوز', 3837), ('كولار', 3838), ('مواليد', 3839), ('كريشيو', 3840), ('غريميو', 3841), ('يرر', 3842), ('ريتو', 3843), ('ديكو', 3844), ('كاب', 3845), ('لوء', 3846), ('نجر', 3847), ('مانشيستر', 3848), ('لل', 3849), ('دهى', 3850), ('عضا', 3851), ('مونديال', 3852), ('لوج', 3853), ('لخس', 3854), ('ورس', 3855), ('خوس', 3856), ('وإف', 3857), ('تشف', 3858), ('فجأ', 3859), ('لإيزوبيو', 3860), ('لأنتونيو', 3861), ('واس', 3862), ('دراماتيكية', 3863), ('ماأراد', 3864), ('هتر', 3865), ('لأوزيبيو', 3866), ('وفز', 3867), ('فجه', 3868), ('بأوزيبيو', 3869), ('سبت', 3870), ('لمونديال', 3871), ('تذق', 3872), ('سوز', 3873), ('امغ', 3874), ('خورداو', 3875), ('فيلوردوم', 3876), ('جد', 3877), ('هزل', 3878), ('كارلوس', 3879), ('مانويل', 3880), ('ولو', 3881), ('ديامانتينو', 3882), ('ميراند', 3883), ('فحل', 3884), ('فزت', 3885), ('ليشتنشتا', 3886), ('لفرناندو', 3887), ('كوتو', 3888), ('كرا', 3889), ('إمضاء', 3890), ('يغو', 3891), ('جوو', 3892), ('نتو', 3893), ('ودومينغوس', 3894), ('دانمار', 3895), ('قضى', 3896), ('بوبورسكي', 3897), ('غوميش', 3898), ('كوس', 3899), ('كونسيساو', 3900), ('مهد', 3901), ('ديك', 3902), ('حده', 3903), ('لباوليتا', 3904), ('عثر', 3905), ('بمونديال', 3906), ('إقل', 3907), ('عان', 3908), ('بسكولاري', 3909), ('كبديل', 3910), ('كوت', 3911), ('سيئ', 3912), ('انش', 3913), ('وري', 3914), ('بكء', 3915), ('يمو', 3916), ('صده', 3917), ('جيرارد', 3918), ('زيزو', 3919), ('مايرام', 3920), ('بيب', 3921), ('رول', 3922), ('ميريليش', 3923), ('كواريش', 3924), ('ورونالدو', 3925), ('رجج', 3926), ('شلس', 3927), ('وباوليتا', 3928), ('الط', 3929), ('يغل', 3930), ('وسو', 3931), ('بمشاركات', 3932), ('رؤل', 3933), ('غونزاليس', 3934), ('فتى', 3935), ('عام1994', 3936), ('دءه', 3937), ('فنا', 3938), ('انت', 3939), ('كجز', 3940), ('تبل', 3941), ('حاء', 3942), ('بتل', 3943), ('مفاجيء', 3944), ('تلح', 3945), ('غونزاليز', 3946), ('نكو', 3947), ('روماريدا', 3948), ('رقسط', 3949), ('غرم', 3950), ('رأوول', 3951), ('هيب', 3952), ('ليغ', 3953), ('غاب', 3954), ('فيرناندو', 3955), ('هييرو', 3956), ('لفئ', 3957), ('خورخ', 3958), ('دنو', 3959), ('ذهي', 3960), ('رومايد', 3961), ('امافيسكا', 3962), ('اسف', 3963), ('لقء', 3964), ('شبل', 3965), ('كلاسيكو', 3966), ('سلت', 3967), ('أستطاع', 3968), ('فزق', 3969), ('أفضل', 3970), ('صقر', 3971), ('بوتراغوينيو', 3972), ('يرز', 3973), ('يتس', 3974), ('ومياتوفيتش', 3975), ('تعي', 3976), ('كابيلو', 3977), ('أشر', 3978), ('هاينكس', 3979), ('ظفر', 3980), ('نتس', 3981), ('نظف', 3982), ('صرب', 3983), ('مياتوفيتش', 3984), ('باستفتاء', 3985), ('كاس', 3986), ('درف', 3987), ('راغ', 3988), ('سكو', 3989), ('غوس', 3990), ('هيد', 3991), ('يتش', 3992), ('كبس', 3993), ('كأفضل', 3994), ('فست', 3995), ('ديل', 3996), ('بوس', 3997), ('مورينتس', 3998), ('مو', 3999), ('جرت', 4000), ('كوكنسياو', 4001), ('ولسرقسطه', 4002), ('رنابيو', 4003), ('رينغ', 4004), ('أحتل', 4005), ('ألتقى', 4006), ('بايرليفركوزن', 4007), ('أفتتح', 4008), ('بوت', 4009), ('أحرز', 4010), ('لمهم', 4011), ('رندو', 4012), ('جلاكتيوس', 4013), ('موريانتس', 4014), ('رلد', 4015), ('كبة', 4016), ('وخب', 4017), ('موسم96', 4018), ('كجناح', 4019), ('اشء', 4020), ('حست', 4021), ('ليق', 4022), ('رند', 4023), ('شوستر', 4024), ('شيز', 4025), ('ضيف', 4026), ('ذلة', 4027), ('خند', 4028), ('رمس', 4029), ('ريديو', 4030), ('ديستيفانو', 4031), ('زكر', 4032), ('الر', 4033), ('عقاقير', 4034), ('ومتضاربة', 4035), ('أصل', 4036), ('زدحم', 4037), ('رضى', 4038), ('هرة', 4039), ('طبء', 4040), ('هنت', 4041), ('ريع', 4042), ('ظنهم', 4043), ('بخز', 4044), ('بأكسفورد', 4045), ('قطف', 4046), ('برأ', 4047), ('أمراض', 4048), ('صح', 4049), ('زما', 4050), ('سرف', 4051), ('ومخاصمات', 4052), ('جفي', 4053), ('لهو', 4054), ('فرط', 4055), ('سئر', 4056), ('مدح', 4057), ('زمم', 4058), ('زمو', 4059), ('عتبر', 4060), ('عتمد', 4061), ('يزا', 4062), ('مؤم', 4063), ('قرط', 4064), ('حبا', 4065), ('باستمرار', 4066), ('جل', 4067), ('قدى', 4068), ('فكم', 4069), ('عسه', 4070), ('واستخراجه', 4071), ('أشد', 4072), ('بتة', 4073), ('جالينوس', 4074), ('ندم', 4075), ('قفط', 4076), ('هرس', 4077), ('ضعت', 4078), ('يزد', 4079), ('ائت', 4080), ('بهم', 4081), ('ؤرخو', 4082), ('قدمى', 4083), ('ردف', 4084), ('لغه', 4085), ('اتن', 4086), ('برش', 4087), ('ررا', 4088), ('تضح', 4089), ('يكد', 4090), ('فصد', 4091), ('وكن', 4092), ('تهب', 4093), ('سحي', 4094), ('تعمد', 4095), ('ستد', 4096), ('رأا', 4097), ('شيق', 4098), ('كوفئ', 4099), ('دبر', 4100), ('وسن', 4101), ('عسر', 4102), ('مرأ', 4103), ('عذر', 4104), ('أخبر', 4105), ('تطبب', 4106), ('أسهل', 4107), ('أنزل', 4108), ('فمه', 4109), ('تمط', 4110), ('كيل', 4111), ('رحة', 4112), ('فبق', 4113), ('تخلف', 4114), ('قارىء', 4115), ('فيك', 4116), ('عز', 4117), ('غزر', 4118), ('نقد', 4119), ('بره', 4120), ('نبض', 4121), ('تعمق', 4122), ('خشة', 4123), ('شكك', 4124), ('عنفو', 4125), ('باستغنام', 4126), ('واستلذاذ', 4127), ('نه؟', 4128), ('أجد', 4129), ('ضضا', 4130), ('بلت', 4131), ('نفع', 4132), ('قفي', 4133), ('قيت', 4134), ('قرظ', 4135), ('لجالينوس', 4136), ('كأستاذ', 4137), ('رؤساء', 4138), ('قصء', 4139), ('تعلم', 4140), ('لام', 4141), ('نبذ', 4142), ('بسن', 4143), ('رعع', 4144), ('فلط', 4145), ('لسن', 4146), ('نجا', 4147), ('شدخ', 4148), ('شئت', 4149), ('يصر', 4150), ('قدماء', 4151), ('أقدر', 4152), ('جمة', 4153), ('مخطوطاته', 4154), ('خرم', 4155), ('أخطاء', 4156), ('وضق', 4157), ('يضق', 4158), ('تضق', 4159), ('حسة', 4160), ('ؤلم', 4161), ('أفرأط', 4162), ('فهئ', 4163), ('كرجل', 4164), ('ربخ', 4165), ('فم', 4166), ('وصم', 4167), ('حجت', 4168), ('متى', 4169), ('شله', 4170), ('فلأ', 4171), ('حاس', 4172), ('فته', 4173), ('فات', 4174), ('تهء', 4175), ('شبح', 4176), ('قسر', 4177), ('نسد', 4178), ('يثب', 4179), ('اتة', 4180), ('حوس', 4181), ('اجف', 4182), ('قاطاجانس', 4183), ('إنس', 4184), ('قط', 4185), ('نر', 4186), ('داا', 4187), ('ولانحطاط', 4188), ('وغذ', 4189), ('غلظ', 4190), ('شتد', 4191), ('وزد', 4192), ('تدء', 4193), ('نفض', 4194), ('لغب', 4195), ('يرق', 4196), ('أخبرو', 4197), ('أسماء', 4198), ('نبغ', 4199), ('كحكم', 4200), ('تمئ', 4201), ('راز', 4202), ('لضح', 4203), ('صحت', 4204), ('رأه', 4205), ('بيء', 4206), ('حيل', 4207), ('ادی', 4208), ('جرئ', 4209), ('وأس', 4210), ('غاؤ', 4211), ('واستبدلت', 4212), ('مبارياته', 4213), ('سانتياغو', 4214), ('بيرنابيو', 4215), ('جماهيرية', 4216), ('هارفارد', 4217), ('يزن', 4218), ('سني', 4219), ('سكي', 4220), ('ونكل', 4221), ('لبو', 4222), ('ملينديز', 4223), ('أتبع', 4224), ('بناءالفريق', 4225), ('باستراتيجية', 4226), ('فنو', 4227), ('فرانشيسكو', 4228), ('خينتو', 4229), ('عجف', 4230), ('عزم', 4231), ('كانافارو', 4232), ('نيستيلروي', 4233), ('طوح', 4234), ('مامادو', 4235), ('دفعج', 4236), ('ريس', 4237), ('يضء', 4238), ('ريكرياتيفو', 4239), ('شتي', 4240), ('إنتداب', 4241), ('غونزالو', 4242), ('هيغو', 4243), ('وفرناندو', 4244), ('غغو', 4245), ('ارجنتيني', 4246), ('ومارسيلو', 4247), ('ذلك', 4248), ('كاتالو', 4249), ('إشبيل', 4250), ('رينق', 4251), ('حان', 4252), ('كاتالونية', 4253), ('كمب', 4254), ('ونل', 4255), ('يسي', 4256), ('كاتلو', 4257), ('لتن', 4258), ('برازيلية', 4259), ('روبيرتو', 4260), ('كاي', 4261), ('ليس', 4262), ('كأسرع', 4263), ('ثون', 4264), ('فمع', 4265), ('جئو', 4266), ('دهي', 4267), ('إشر', 4268), ('سمب', 4269), ('روبينيو', 4270), ('رجو', 4271), ('إلغائ', 4272), ('دوع', 4273), ('يد؟', 4274), ('ميرينغ', 4275), ('رجعو', 4276), ('صبة', 4277), ('ليئ', 4278), ('ثرة', 4279), ('بثو', 4280), ('بند', 4281), ('رهن', 4282), ('ليتو', 4283), ('دييغو', 4284), ('ارغ', 4285), ('نو', 4286), ('خيب', 4287), ('نهز', 4288), ('جره', 4289), ('جدة', 4290), ('صبر', 4291), ('نستيلروي', 4292), ('كاتالوني', 4293), ('تذل', 4294), ('خمناستيك', 4295), ('رغو', 4296), ('بث', 4297), ('سمم', 4298), ('مايوركية', 4299), ('كامبيونس', 4300), ('وضل', 4301), ('لاستقبال', 4302), ('شيرمار', 4303), ('كسل', 4304), ('تفرج', 4305), ('بلينينسيش', 4306), ('استيعابية', 4307), ('كبيرحتى', 4308), ('قلص', 4309), ('استعابية', 4310), ('واستبدال', 4311), ('لاستضافة', 4312), ('أحرف', 4313), ('ريميس', 4314), ('كإعاد', 4315), ('كاسانو', 4316), ('ددو', 4317), ('خورادو', 4318), ('فالديبابيس', 4319), ('يعب', 4320), ('مايقارب', 4321), ('هونتييولو', 4322), ('ثان', 4323), ('كاسياس', 4324), ('صمد', 4325), ('كأكثر', 4326), ('تخط', 4327), ('أقرب', 4328), ('رلي', 4329), ('بصم', 4330), ('مارس1953', 4331), ('نبه', 4332), ('ذتي', 4333), ('قمس', 4334), ('هكر', 4335), ('ماساتشوستس', 4336), ('حبة', 4337), ('طهي', 4338), ('رمجة؛', 4339), ('أتقاضى', 4340), ('هوي', 4341), ('زلن', 4342), ('كامبريدج', 4343), ('اثو', 4344), ('يكر', 4345), ('كإنس', 4346), ('كمبرمج', 4347), ('وبالتحديد', 4348), ('شيفر', 4349), ('واستخدام', 4350), ('ديجيتال', 4351), ('وائ', 4352), ('تطلب', 4353), ('سيمبولكس', 4354), ('جرك', 4355), ('تسل', 4356), ('نقم', 4357), ('تنف', 4358), ('فحر', 4359), ('إتح', 4360), ('صيع', 4361), ('ورأ', 4362), ('سلو', 4363), ('قرف', 4364), ('وبأ', 4365), ('أقض', 4366), ('خجل', 4367), ('سأك', 4368), ('ؤيدو', 4369), ('وضة', 4370), ('هنل', 4371), ('بهي', 4372), ('فشر', 4373), ('روج', 4374), ('لثر', 4375), ('تورفالدس', 4376), ('مجل', 4377), ('بعي', 4378), ('نجي', 4379), ('وانطلاقا', 4380), ('كشيفر', 4381), ('أدي', 4382), ('برمجياته', 4383), ('أتح', 4384), ('شوه', 4385), ('ومجاني—وهو', 4386), ('وذت', 4387), ('مغر', 4388), ('وخم', 4389), ('غلل', 4390), ('تفد', 4391), ('بشء', 4392), ('يغط', 4393), ('كومبيوتر', 4394), ('يأس', 4395), ('تأكد', 4396), ('بحم', 4397), ('فمذ', 4398), ('علت؟', 4399), ('أحم', 4400), ('معر', 4401), ('ندا', 4402), ('حري', 4403), ('دستور', 4404), ('هلع', 4405), ('سدت', 4406), ('جوء', 4407), ('أسو', 4408), ('وكي', 4409), ('اصب', 4410), ('ثانوية—أي', 4411), ('حترس', 4412), ('ميت', 4413), ('كونغرس', 4414), ('عدى', 4415), ('جسس', 4416), ('يند', 4417), ('فحص', 4418), ('تحمس', 4419), ('استخبارية', 4420), ('ثغر', 4421), ('واستهداف', 4422), ('ورط', 4423), ('تنم', 4424), ('ضحة', 4425), ('تالية—لا', 4426), ('عامابسبب', 4427), ('اوروجواي', 4428), ('اذا', 4429), ('لنل', 4430), ('لذك', 4431), ('عندمافازت', 4432), ('زوتحقق', 4433), ('أوقف', 4434), ('لحس', 4435), ('حظهم', 4436), ('مارادو', 4437), ('رازايل', 4438), ('استضافته', 4439), ('وحة', 4440), ('اذ', 4441), ('يشر', 4442), ('حزر', 4443), ('حظى', 4444), ('وأيرلندا', 4445), ('استعراضية', 4446), ('اولمبياد', 4447), ('يمب', 4448), ('هاي', 4449), ('ليب', 4450), ('حوت', 4451), ('هاو', 4452), ('دورام', 4453), ('ابد', 4454), ('اوليمبية', 4455), ('اوروغواي', 4456), ('ذكرى', 4457), ('لاستقلال', 4458), ('دشن', 4459), ('كمك', 4460), ('أوروب', 4461), ('ويوغسلاف', 4462), ('فزا', 4463), ('لوش', 4464), ('مونتيفديو', 4465), ('تفز', 4466), ('بإستثناء', 4467), ('تقدم', 4468), ('كوستاريكا', 4469), ('نغل', 4470), ('غنا', 4471), ('اقى', 4472), ('سنح', 4473), ('لصص', 4474), ('لفو', 4475), ('غازانيغا', 4476), ('سم', 4477), ('قيراط', 4478), ('ستة', 4479), ('لجء', 4480), ('الق', 4481), ('ذيت', 4482), ('لإستضافة', 4483), ('تضف', 4484), ('لسر', 4485), ('لرف', 4486), ('انفصلتbell', 4487), ('هانيويل', 4488), ('زاح', 4489), ('ريتش', 4490), ('هال', 4491), ('ريكل', 4492), ('يفر', 4493), ('نصي', 4494), ('سكل', 4495), ('ستف', 4496), ('جونس', 4497), ('نعد', 4498), ('باصداراته', 4499), ('منهاtcp', 4500), ('بعت', 4501), ('زعج', 4502), ('خطو', 4503), ('رد', 4504), ('ضده', 4505), ('ميكروسوفت', 4506), ('شرت', 4507), ('فدة', 4508), ('بيئةopen', 4509), ('ظلة', 4510), ('كهذ', 4511), ('صدد', 4512), ('نافس', 4513), ('نسي', 4514), ('ستوكهولم', 4515), ('تون', 4516), ('اثي', 4517), ('لإستظافة', 4518), ('يفس', 4519), ('ميم', 4520), ('وأخ', 4521), ('عنة', 4522), ('نطد', 4523), ('جو\\u200f', 4524), ('مبكر\\u200f\\u200f', 4525), ('نن\\u200f', 4526), ('نح\\u200f', 4527), ('فاق', 4528), ('ساه', 4529), ('استرالية', 4530), ('يلى', 4531), ('هلة', 4532), ('ران', 4533), ('مستكاوى', 4534), ('فيل', 4535), ('مصم', 4536), ('يحئ', 4537), ('ديمترس', 4538), ('بابايوانو', 4539), ('كوستاس', 4540), ('ستيفانوبولوس', 4541), ('معل', 4542), ('طبل', 4543), ('عد', 4544), ('مؤد', 4545), ('بصت', 4546), ('خفق', 4547), ('كبرب', 4548), ('حلق', 4549), ('عئم', 4550), ('وحى', 4551), ('لبث', 4552), ('عيم', 4553), ('عري', 4554), ('درل', 4555), ('وحا', 4556), ('هجئ', 4557), ('فلب', 4558), ('وبمشاركة', 4559), ('حبب', 4560), ('قولاس', 4561), ('كاكلاماناكيس', 4562), ('حئز', 4563), ('طلء', 4564), ('شاة', 4565), ('يبس', 4566), ('لسع', 4567), ('زعماء', 4568), ('شطئ', 4569), ('عاقد', 4570), ('دمة', 4571), ('كشعار', 4572), ('مكسيكو', 4573), ('نمر', 4574), ('رقط', 4575), ('وسكو', 4576), ('لدب', 4577), ('يشا', 4578), ('نقب', 4579), ('لأث', 4580), ('يوس', 4581), ('شقق', 4582), ('الز', 4583), ('قتم', 4584), ('أرجل', 4585), ('عله', 4586), ('اخة', 4587), ('ساا', 4588), ('أصدقاء', 4589), ('ترف', 4590), ('وأفتتاحة', 4591), ('ردت', 4592), ('تخف', 4593), ('كعد', 4594), ('جئت', 4595), ('كرج', 4596), ('سفت', 4597), ('ببه', 4598), ('بافورنورمي', 4599), ('رونز', 4600), ('سابق', 4601), ('حسر', 4602), ('جودو', 4603), ('غطس', 4604), ('جيبو', 4605), ('انن', 4606), ('بقه', 4607), ('فضح', 4608), ('مانراش', 4609), ('كتم', 4610), ('جاك', 4611), ('قضه', 4612), ('منتافس', 4613), ('تلا', 4614), ('عزف', 4615), ('طرب', 4616), ('ننب', 4617), ('روسوم', 4618), ('فصر', 4619), ('منم', 4620), ('وقب', 4621), ('نسر', 4622), ('قبب', 4623), ('محاريب', 4624), ('أضرح', 4625), ('لفي', 4626), ('أقدس', 4627), ('ربي', 4628), ('للم', 4629), ('فخم', 4630), ('كورنث', 4631), ('ودس', 4632), ('ستع', 4633), ('أفخم', 4634), ('أنشئ', 4635), ('أعطى', 4636), ('لسك', 4637), ('إثر', 4638), ('هيكل', 4639), ('نوس', 4640), ('بحا', 4641), ('صخر', 4642), ('راكم', 4643), ('صومع', 4644), ('عيض', 4645), ('صمع', 4646), ('آذن', 4647), ('وحس', 4648), ('وإشبيلية', 4649), ('زفس', 4650), ('صال', 4651), ('مقر', 4652), ('دلع', 4653), ('أثرياء', 4654), ('بقب', 4655), ('مآذ', 4656), ('تتش', 4657), ('وشت', 4658), ('تيج', 4659), ('ابه', 4660), ('لايوازيه', 4661), ('وملاحقاته', 4662), ('زلزل', 4663), ('جهء', 4664), ('بزن', 4665), ('قيل', 4666), ('مغش', 4667), ('بقو', 4668), ('وظل', 4669), ('ناب', 4670), ('غسل', 4671), ('أبواب', 4672), ('وسد', 4673), ('أدى', 4674), ('إزل', 4675), ('قاض', 4676), ('بشا', 4677), ('إشراف', 4678), ('ظره', 4679), ('أحجار', 4680), ('اضف', 4681), ('وبفخامته', 4682), ('وبب', 4683), ('راكب', 4684), ('سنم', 4685), ('فسيفسائية', 4686), ('ؤخر', 4687), ('يضم', 4688), ('خزف', 4689), ('وبروتوكول', 4690), ('لبئ', 4691), ('فالبرامج', 4692), ('كبير؛', 4693), ('أساليب', 4694), ('زبن', 4695), ('كبرنامج', 4696), ('أشرط', 4697), ('ديرو', 4698), ('ثلي', 4699), ('دى', 4700), ('ميتاسيتى', 4701), ('وكى', 4702), ('نجى', 4703), ('رجعى', 4704), ('يضف', 4705), ('كنقل', 4706), ('لس', 4707), ('قنى', 4708), ('سسى', 4709), ('مستخدمى', 4710), ('هيل', 4711), ('كسطح', 4712), ('تعت', 4713), ('كنفذ', 4714), ('كعميل', 4715), ('ثلى', 4716), ('يصف', 4717), ('توص', 4718), ('وذجى', 4719), ('احتكارية', 4720), ('عتبرو', 4721), ('سيء', 4722), ('لجه', 4723), ('لوق', 4724), ('ولآ', 4725), ('مبرمجى', 4726), ('افتراضية', 4727), ('استقلالية', 4728), ('غرس', 4729), ('كوارتز', 4730), ('بمك', 4731), ('رعى', 4732), ('واستبداله', 4733), ('dri', 4734), ('زيروكس', 4735), ('ليز', 4736), ('دبليو', 4737), ('ماستشوشتش', 4738), ('كتع', 4739), ('غيتيس', 4740), ('شيفلر', 4741), ('ناغر', 4742), ('كارنيج', 4743), ('تزم', 4744), ('ببرتوكول', 4745), ('نيم', 4746), ('كمنتج', 4747), ('ديسيمبر', 4748), ('ككتل', 4749), ('كمشروع', 4750)]) {'ذرة': 1, 'جزء': 2, 'عنصر': 3, 'كيميائ': 4, 'خصص': 5, 'كيميائية': 6, 'لذلك': 7, 'كلم': 8, 'غرق': 9, 'وتع': 10, 'قبل': 11, 'قسم؛': 12, 'تتك': 13, 'سحب': 14, 'شحن': 15, 'سلب': 16, 'كترو': 17, 'تحم': 18, 'حول': 19, 'نوة': 20, 'وجب': 21, 'صغر': 22, 'جدا': 23, 'وسط': 24, 'روتو': 25, 'ورو': 26, 'عادل': 27, 'بقة': 28, 'عناصر؛': 29, 'غصن': 30, 'ادة': 31, 'نلق': 32, 'بنى': 33, 'فرق': 34, 'مثل': 35, 'برت': 36, 'حدد': 37, 'ثلا': 38, 'حمل': 39, 'خصائص؛': 40, 'عدد': 41, 'بروتونات': 42, 'كتل': 43, 'وزع': 44, 'صنع': 45, 'خلف': 46, 'صور': 47, 'نفس': 48, 'سمة': 49, 'نظر': 50, 'كون': 51, 'قدر': 52, 'خوض': 53, 'فعل': 54, 'ظل': 55, 'ركب': 56, 'علم': 57, 'بلغ': 58, 'زال': 59, 'علماء': 60, 'كشف': 61, 'زيد': 62, 'ظهر': 63, 'فرع': 64, 'جدد': 65, 'عها': 66, 'بدئ': 67, 'خصة': 68, 'بدء': 69, 'بدأ': 70, 'عدم': 71, 'أكد': 72, 'لثق': 73, 'رور': 74, 'وحد': 75, 'كبرى': 76, 'نهء': 77, 'وار': 78, 'فئق': 79, 'هتم': 80, 'درس': 81, 'طبع': 82, 'تنص': 83, 'واد': 84, 'ذرت': 85, 'دلت': 86, 'تضم': 87, 'عدة': 88, 'فرض': 89, 'دقق': 90, 'قسم': 91, 'سمى': 92, 'لقت': 93, 'فسر': 94, 'وجة': 95, 'كتر': 96, 'وهذا': 97, 'تصر': 98, 'بني': 99, 'وهر': 100, 'اخذ': 101, 'عبر': 102, 'حدث': 103, 'طور': 104, 'ميكانيكا': 105, 'لكم': 106, 'دلة': 107, 'طول': 108, 'وجي': 109, 'دار': 110, 'الكترونى': 111, 'هيدروج': 112, 'رئس': 113, 'يمن': 114, 'صف': 115, 'غزل': 116, 'وضح': 117, 'وجد': 118, 'هيئ': 119, 'حرف': 120, 'عمد': 121, 'حتي': 122, 'نهي': 123, 'قرن': 124, 'تسع': 125, 'عقد': 126, 'سئد': 127, 'بأن': 128, 'جسم': 129, 'وباكتشاف': 130, 'جيز': 131, 'ومس': 132, 'عام': 133, 'طرق': 134, 'جرب': 135, 'شهر': 136, 'نقط': 137, 'زيت': 138, 'فتح': 139, 'طاع': 140, 'فك': 141, 'حلي': 142, 'بعد': 143, 'كرس': 144, 'همم': 145, 'بنء': 146, 'ريض': 147, 'بحت': 148, 'بكر': 149, 'وان': 150, 'تأ': 151, 'خذ': 152, 'خصي': 153, 'ثني': 154, 'خلل': 155, 'عوم': 156, 'نجح': 157, 'الم': 158, 'هيزنبرج': 159, 'ساو': 160, 'شرودنجر': 161, 'حدة': 162, 'حسب': 163, 'صفف': 164, 'وأم': 165, 'وسم': 166, 'غلف': 167, 'هكذ': 168, 'ربط': 169, 'علق': 170, 'ويم': 171, 'أعل': 172, 'ثلث': 173, 'ربع': 174, 'درج': 175, 'شغل': 176, 'هيليوم': 177, 'ثيم': 178, 'ريليوم': 179, 'بور': 180, 'نين': 181, 'لحظ': 182, 'خمل': 183, 'تمز': 184, 'أغلف': 185, 'ملئ': 186, 'تما': 187, 'وله': 188, 'اول': 189, 'سر': 190, 'تلي': 191, 'صوديوم': 192, 'عشر': 193, 'ولى': 194, 'ضبط': 195, 'رقم': 196, 'لهذ': 197, 'نجد': 198, 'نشط': 199, 'كبر': 200, 'وإلكترونه': 201, 'كفؤ': 202, 'مغناطيسي': 203, 'قيم': 204, 'وقد': 205, 'ضطر': 206, 'كمم': 207, 'خطط': 208, 'طيف': 209, 'أثر': 210, 'جال': 211, 'خرج': 212, 'زيم': 213, 'هولند': 214, 'نشق': 215, 'كهربائ': 216, 'كشق': 217, 'شتر': 218, 'بسم': 219, 'بذل': 220, 'حلة': 221, 'وطق': 222, 'أربع': 223, 'بدق': 224, 'كمل': 225, 'طبق': 226, 'بول': 227, 'صغه': 228, 'جنج': 229, 'كرو': 230, 'طقة': 231, 'تخذ': 232, 'دره': 233, 'دخل': 234, 'عند': 235, 'طرد': 236, 'كسب': 237, 'فوت': 238, 'شعع': 239, 'ردد': 240, 'وبالتالى': 241, 'ستى': 242, 'علي': 243, 'ستي': 244, 'فلى': 245, 'شكل': 246, 'حجم': 247, 'سهل': 248, 'الكترونية': 249, 'ثبت': 250, 'تغر': 251, 'بدر': 252, 'نسب': 253, 'تكون': 254, 'بلر': 255, 'صلب': 256, 'ساف': 257, 'نوا': 258, 'جاور': 259, 'عمل': 260, 'خدم': 261, 'تقن': 262, 'تم': 263, 'قرب': 264, 'على': 265, 'نوت': 266, 'رجع': 267, 'لأن': 268, 'تقم': 269, 'جذب': 270, 'نحي': 271, 'عنى': 272, 'خصا': 273, 'ذري': 274, 'غير': 275, 'حال': 276, 'فكن': 277, 'ثقة': 278, 'اقل': 279, 'تشر': 280, 'صفت': 281, 'فيزيائية': 282, 'كثر': 283, 'تبع': 284, 'سلك': 285, 'يتم': 286, 'ريب': 287, 'واع': 288, 'جدل': 289, 'دور': 290, 'فهم': 291, 'بسط': 292, 'جمع': 293, 'حوي': 294, 'ذرة؛': 295, 'فهي': 296, 'ضئل': 297, 'فإن': 298, 'همل': 299, 'عرف': 300, 'تقس': 301, 'سوي': 302, 'وتر': 303, 'بهذا': 304, 'بإم': 305, 'نوي': 306, 'نيوكليون': 307, 'كتب': 308, 'الي': 309, 'بصر': 310, 'لكل': 311, 'لكن': 312, 'تفو': 313, 'طلق': 314, 'بين': 315, 'ميز': 316, 'اسم': 317, 'متبوعامن': 318, 'ويك': 319, 'ديتيريوم': 320, 'حوه': 321, 'فقد': 322, 'تحل': 323, 'تفق': 324, 'بذا': 325, 'حرة': 326, 'باستثناء': 327, 'ضمن': 328, 'تحد': 329, 'سوء': 330, 'فذر': 331, 'كسج': 332, 'هوء': 333, 'ماء': 334, 'اصل': 335, 'توقع': 336, 'تقع': 337, 'عين': 338, 'والتي': 339, 'لعب': 340, 'ولك': 341, 'ثنى': 342, 'صعد': 343, 'ونع': 344, 'كثف': 345, 'لأى': 346, 'عدل': 347, 'تقو': 348, 'اخر': 349, 'لإن': 350, 'داخلى': 351, 'خارجى': 352, 'نقل': 353, 'سرع': 354, 'دخى': 355, 'يقم': 356, 'إخراج': 357, 'ساى': 358, 'حكم': 359, 'ولذ': 360, 'وضع': 361, 'وتك': 362, 'حوى': 363, 'كقعد': 364, 'قلت': 365, 'زاد': 366, 'فلز': 367, 'أكثر': 368, 'روبديوم': 369, 'رنسيوم': 370, 'استقرارا': 371, 'وصل': 372, 'لهذا': 373, 'اتي': 374, 'سهم': 375, 'تزل': 376, 'خرى': 377, 'حرك': 378, 'جعل': 379, 'معا': 380, 'وعن': 381, 'جزئ': 382, 'ايي': 383, 'ضخم': 384, 'بصف': 385, 'خضع': 386, 'لير': 387, 'سنة': 388, 'ضوئ': 389, 'غية': 390, 'همي': 391, 'وأض': 392, 'ظلت': 393, 'محل': 394, 'ركز': 395, 'وكان': 396, 'زيء': 397, 'وكل': 398, 'كيمياء': 399, 'ايم': 400, 'تمت': 401, 'بدن': 402, 'قصد': 403, 'بشر': 404, 'وفى': 405, 'سنن': 406, 'أدق': 407, 'فعن': 408, 'ميكروسكوب': 409, 'فرد': 410, 'جي': 411, 'سي': 412, 'كروماتوجرافى': 413, 'غاز': 414, 'كريستالوجرافى': 415, 'ديموقراطس': 416, 'ليسيوبوس': 417, 'لسف': 418, 'خمس': 419, 'يلد': 420, 'قدم': 421, 'حصو': 422, 'خوص': 423, 'وقم': 424, 'إثب': 425, 'شيئ': 426, 'ضاد': 427, 'هائ': 428, 'كانت': 429, 'دائ': 430, 'وقت': 431, 'لحق': 432, 'وتم': 433, 'طومسونوكانت': 434, 'راذرفورد': 435, 'وأن': 436, 'أخذ': 437, 'منذ': 438, 'عهد': 439, 'قرح': 440, 'وبن': 441, 'خطأ': 442, 'بنة': 443, 'شبه': 444, 'هزز': 445, 'وهذ': 446, 'فكر': 447, 'حتى': 448, 'عرض': 449, 'وغر': 450, 'كرستيانو': 451, 'رونالدو': 452, 'رتغال': 453, 'نخب': 454, 'لكر': 455, 'حصل': 456, 'ناس': 457, 'صفة': 458, 'ندي': 459, 'مانشستر': 460, 'سبق': 461, 'درد': 462, 'كرة': 463, 'سن': 464, 'شغف': 465, 'رحل': 466, 'ابتدائية': 467, 'هوة': 468, 'عمر': 469, 'سنو': 470, 'فقط': 471, 'ولد': 472, 'كمصلح': 473, 'ادو': 474, 'حلل': 475, 'جزر': 476, 'ادر': 477, 'ضم': 478, 'نشئ': 479, 'فيف': 480, 'كأحس': 481, 'لعم': 482, 'وفق': 483, 'ملي': 484, 'وهي': 485, 'صفق': 486, 'ارخ': 487, 'برتغالية': 488, 'كريستيانو': 489, 'رونادو': 490, 'كره': 491, 'حرز': 492, 'هدف': 493, 'فنن': 494, 'وكريستانو': 495, 'عده': 496, 'ذهب': 497, 'لكي': 498, 'اسب': 499, 'رغم': 500, 'رتو': 501, 'بوافيستا': 502, 'كنا': 503, 'ضمه': 504, 'رفض': 505, 'شبا': 506, 'معه': 507, 'وهب': 508, 'ضفة': 509, 'نضج': 510, 'عقل': 511, 'تهر': 512, 'مرة': 513, 'ضد': 514, 'مورييرينس': 515, 'سجل': 516, 'حقق': 517, 'حلم': 518, 'شجع': 519, 'شعر': 520, 'جماهير': 521, 'لقب': 522, 'جوب': 523, 'شرط': 524, 'بريطانية': 525, 'بشأ': 526, 'تهم': 527, 'غصب': 528, 'شبة': 529, 'ندق': 530, 'لند': 531, 'ادع': 532, 'بشق': 533, 'فخر': 534, 'برا': 535, 'لهم': 536, 'جهز': 537, 'دعء': 538, 'كفي': 539, 'لتج': 540, 'اعب': 541, 'صحف': 542, 'شئع': 543, 'رشلو': 544, 'فاض': 545, 'حين': 546, 'رجل': 547, 'سعد': 548, 'نصر': 549, 'بلي': 550, 'عضو': 551, 'شرف': 552, 'لكرستيانو': 553, 'وقع': 554, 'زمل': 555, 'جلز': 556, 'وين': 557, 'رون': 558, 'لقه': 559, 'كأس': 560, 'وجه': 561, 'سبب': 562, 'وبخ': 563, 'سخر': 564, 'انجليزية': 565, 'بدي': 566, 'كري': 567, 'بإنجلترا': 568, 'بدا': 569, 'وكأ': 570, 'داس': 571, 'ريكاردو': 572, 'كارفاليو': 573, 'صحب': 574, 'بطق': 575, 'حمراء': 576, 'غطي': 577, 'وسع': 578, 'نشر': 579, 'خبر': 580, 'غضب': 581, 'شدد': 582, 'اليوم': 583, 'وقل': 584, 'زملائ': 585, 'غرف': 586, 'نول': 587, 'طعم': 588, 'قطع': 589, 'صفع': 590, 'حطم': 591, 'رأس': 592, 'ولن': 593, 'نضم': 594, 'ال': 595, 'شبب': 596, 'رتنغ': 597, 'شبو': 598, 'دين': 599, 'كوش': 600, 'جار': 601, 'قرا': 602, 'لأل': 603, 'سقط': 604, 'عئل': 605, 'لقى': 606, 'درب': 607, 'ونه': 608, 'دعم': 609, 'قرر': 610, 'دته': 611, 'رسم': 612, 'موريرينس': 613, 'ل17': 614, 'بطل': 615, 'نظم': 616, 'ورب': 617, 'حضي': 618, 'رقب': 619, 'نطق': 620, 'روقب': 621, 'بعن': 622, 'عظم': 623, 'ومن': 624, 'ربل': 625, 'هار': 626, 'دير': 627, 'فني': 628, 'جيرار': 629, 'اوي': 630, 'درة': 631, 'ان': 632, 'شاب': 633, 'حاج': 634, 'كلعب': 635, 'قمة': 636, 'خاض': 637, 'لمد': 638, 'رسنال': 639, 'صيف': 640, 'لسبورتنج': 641, 'رغس': 642, 'فاز': 643, 'سبورتينغ': 644, 'ودة': 645, 'دول': 646, 'الد': 647, 'مانشتر': 648, 'جنح': 649, 'عبو': 650, 'شرئ': 651, 'وشك': 652, 'شره': 653, 'لذا': 654, 'لبس': 655, 'قمص': 656, 'حمر': 657, 'دفع': 658, 'رلند': 659, 'جون': 660, 'اوش': 661, 'ثرا': 662, 'لان': 663, 'روغ': 664, 'يقد': 665, 'فوز': 666, 'رجس': 667, 'امر': 668, 'عجب': 669, 'نجم': 670, 'قول': 671, 'حجة': 672, 'كهم': 673, 'رتغالى': 674, 'كيروش': 675, 'عقب': 676, 'ريالمدريد': 677, 'شرء': 678, 'بقى': 679, 'توف': 680, 'دينيس': 681, 'يرو': 682, 'ساع': 683, 'تلق': 684, 'نبأ': 685, 'تصف': 686, 'روس': 687, 'نحه': 688, 'سمح': 689, 'عود': 690, 'شرك': 691, 'مراسيم': 692, 'عزء': 693, 'وغب': 694, 'ديرب': 695, 'ريل': 696, 'عدء': 697, 'جنس': 698, 'عنه': 699, 'ادل': 700, 'زعم': 701, 'عطف': 702, 'لرونالدو': 703, 'ذيع': 704, 'تلفزيونية': 705, 'يرش': 706, 'روميرو': 707, 'جنب': 708, 'نفي': 709, 'إختار': 710, 'حيت': 711, 'شخص': 712, 'عزل': 713, 'ضجج': 714, 'سفر': 715, 'زير': 716, 'تضرر': 717, 'ونم': 718, 'ضحا': 719, 'زلزال': 720, 'حيط': 721, 'هند': 722, 'نئب': 723, 'دنس': 724, 'كلا': 725, 'يمر': 726, 'شرق': 727, 'شنا': 728, 'غوسماو': 729, 'وسا': 730, 'برع': 731, 'علن': 732, 'مصاريف': 733, 'طفل': 734, 'حضر': 735, 'بري': 736, 'زلا': 737, 'لاي': 738, 'ضحي': 739, 'بعه': 740, 'نزل': 741, 'الى': 742, 'مانتشتر': 743, 'مانتشستر': 744, 'ديفيد': 745, 'لمانشستر': 746, 'بدل': 747, 'لحد': 748, 'دررز': 749, 'وكانت': 750, 'نتج': 751, 'لتل': 752, 'صلح': 753, 'سعة': 754, 'استقبلته': 755, 'رحب': 756, 'رافورد': 757, 'شد': 758, 'ضرب': 759, 'عرقل': 760, 'قنن': 761, 'رود': 762, 'فان': 763, 'لرو': 764, 'حرس': 765, 'رمى': 766, 'تمك': 767, 'صد': 768, 'نهت': 769, 'بفز': 770, 'عنو': 771, 'سمء': 772, 'سبع': 773, 'شيط': 774, 'جورج': 775, 'بيس': 776, 'سؤل': 777, 'لنه': 778, 'ردى': 779, 'فنل': 780, 'بست': 781, 'روبس': 782, 'رنس': 783, 'ارك': 784, 'كانتو': 785, 'زجه': 786, 'حاد': 787, 'احي': 788, 'سيت': 789, 'حرم': 790, 'اتحادالاوربي': 791, 'صبع': 792, 'سطى': 793, 'بنف': 794, 'كوسيل': 795, 'لإه': 796, 'لوكسمبورغ': 797, 'صفراء': 798, 'كرد': 799, '1000': 800, 'كلز': 801, 'متز': 802, 'سنت': 803, 'امم': 804, 'يون': 805, 'هزم': 806, 'هجم': 807, 'رتد': 808, 'خط': 809, 'خير': 810, 'لمب': 811, 'فشل': 812, 'ضوء': 813, 'سلط': 814, 'تبن': 815, 'عملق': 816, 'بأث': 817, 'عرق': 818, 'أثناء': 819, 'بار': 820, 'كفى': 821, 'إنذار': 822, 'حمد': 823, 'كوع': 824, 'أحدث': 825, 'جرح': 826, 'وفي': 827, 'شوط': 828, 'كازاخس': 829, 'خسر': 830, 'افتتاحية': 831, 'نصف': 832, 'جمهور': 833, 'مصر': 834, 'عرب': 835, 'كسك': 836, 'أهل': 837, 'صاب': 838, 'حام': 839, 'خلد': 840, 'شيء': 841, 'ركل': 842, 'تريجيحية': 843, 'بلد': 844, 'لمت': 845, 'صرف': 846, 'حدئ': 847, 'ركض': 848, 'ترا': 849, 'يصل': 850, 'حتج': 851, 'طلب': 852, 'ارض': 853, 'وكس': 854, 'بودولسكي': 855, 'اكوادوري': 856, 'لوس': 857, 'لنس': 858, 'جئز': 859, 'ربح': 860, 'رأت': 861, 'لجن': 862, 'ختر': 863, 'جئر': 864, 'قال': 865, 'بعض': 866, 'انه': 867, 'فضل': 868, 'ضرف': 869, 'لئم': 870, 'بقء': 871, 'تعد': 872, 'خطة': 873, 'ؤجل': 874, 'لأ': 875, 'نه': 876, 'ازل': 877, 'أحد': 878, 'وسف': 879, 'تسر': 880, 'لفز': 881, 'قنع': 882, 'فأن': 883, 'عيش': 884, 'كان': 885, 'يحب': 886, 'رغب': 887, 'أسب': 888, 'مدد': 889, 'ذكر': 890, 'ذعة': 891, 'نرن': 892, 'حفظ': 893, 'وصف': 894, 'صن': 895, 'صبح': 896, 'سها': 897, 'سدد': 898, 'وال': 899, 'بقم': 900, 'ونو': 901, 'دي': 902, 'نتل': 903, 'اودينيزي': 904, 'قده': 905, 'رمج': 906, 'حواسيب': 907, 'بضع': 908, 'ئات': 909, 'مكن': 910, 'طقت': 911, 'بطر': 912, 'نقل؛': 913, 'رمز': 914, 'عصر': 915, 'معلومات؛': 916, 'خدا': 917, 'سبل': 918, 'ثال': 919, 'تجد': 920, 'روح': 921, 'طئر': 922, 'قتل': 923, 'خرع': 924, 'بحد': 925, 'ذته': 926, 'تنع': 927, 'علج': 928, 'حد': 929, 'هام': 930, 'بأي': 931, 'صمم': 932, 'ماثل': 933, 'وظف': 934, 'فضي': 935, 'طير': 936, 'تطر': 937, 'تقا': 938, 'جبر': 939, 'جيل': 940, 'شرح': 941, 'بقن': 942, 'مور': 943, 'سلف': 944, 'وئل': 945, 'لعد': 946, 'ككب': 947, 'أرخ': 948, 'شهد': 949, 'هندس': 950, 'هلم': 951, 'شيكارد': 952, 'ميكانيكية': 953, 'تدو': 954, 'وذل': 955, 'الة': 956, 'اضي': 957, 'جوزيف': 958, 'اري': 959, 'جاكار': 960, 'تحس': 961, 'تتل': 962, 'ورق': 963, 'ثقب': 964, 'كأن': 965, 'رنمج': 966, 'نسج': 967, 'همة': 968, 'شارلز': 969, 'ابج': 970, 'برمج': 971, 'قني': 972, 'حل': 973, 'جيد': 974, 'فئد': 975, 'حوسب': 976, 'بنه': 977, 'باستخدام': 978, 'هيرم': 979, 'هولليريث': 980, 'قوة': 981, 'ريح': 982, 'أضف': 983, 'اليكتروني': 984, 'كلد': 985, 'شان': 986, 'سلس': 987, 'شور': 988, 'صعب': 989, 'جاز': 990, 'سسي': 991, 'غرض': 992, 'قاد': 993, 'برط': 994, 'سري': 995, 'الف': 996, 'وثق': 997, 'اسس': 998, 'بنت': 999, 'اليكتروميكانيكي': 1000, 'يزة': 1001, 'اوتوماتيكي': 1002, 'عيب': 1003, 'جاء': 1004, 'روع': 1005, 'ببن': 1006, 'خزن': 1007, 'قعد': 1008, 'مشاريع': 1009, 'هولاء': 1010, 'ربم': 1011, 'نسخ': 1012, 'أنبوب': 1013, 'قيد': 1014, 'ترانزستورية': 1015, 'جري': 1016, 'ستن': 1017, 'كنولوج': 1018, 'دئر': 1019, 'كامل': 1020, 'كلف': 1021, 'قلل': 1022, 'متل': 1023, 'ثير': 1024, 'اليكترونية': 1025, 'تعدد': 1026, 'عليها': 1027, 'صطلح': 1028, 'تصل': 1029, 'حزم': 1030, 'سار': 1031, 'ساق': 1032, 'مؤق': 1033, 'تطع': 1034, 'تقد': 1035, 'رؤة': 1036, 'قئم': 1037, 'خلا': 1038, 'خلة': 1039, 'تخز': 1040, 'كمة': 1041, 'ومر': 1042, 'عمو': 1043, 'قلب': 1044, 'نفذ': 1045, 'نوع': 1046, 'طرح': 1047, 'سوا': 1048, 'عوض': 1049, 'إدخال': 1050, 'وسل': 1051, 'عدي': 1052, 'لوح': 1053, 'مفاتيح': 1054, 'فأر': 1055, 'شاش': 1056, 'كأجهز': 1057, 'قرء': 1058, 'شفر': 1059, 'تغذ': 1060, 'صحح': 1061, 'الحالي': 1062, 'زدد': 1063, 'تكرر': 1064, 'ثمن': 1065, 'عتد': 1066, 'مايكروبروسيسور': 1067, 'زمن': 1068, 'جلب': 1069, 'جرء': 1070, 'تتم': 1071, 'وقف': 1072, 'لنع': 1073, 'عدا': 1074, 'بحث': 1075, 'معي': 1076, 'لغة': 1077, 'سوق': 1078, 'جرة': 1079, 'ضرر': 1080, 'زود': 1081, 'لغت': 1082, 'برز': 1083, 'غلب': 1084, 'ملك': 1085, 'أغراض': 1086, 'تخصص': 1087, 'خصر': 1088, 'رسل': 1089, 'سال': 1090, 'لتح': 1091, 'سآل': 1092, 'ذات': 1093, 'مدى': 1094, 'قرئ': 1095, 'كرت': 1096, 'مر': 1097, 'ششة': 1098, 'إعد': 1099, 'سمع': 1100, 'كامير': 1101, 'رئة': 1102, 'قرص': 1103, 'سطو': 1104, 'بطء': 1105, 'سعت': 1106, 'لاستعادت': 1107, 'بشب': 1108, 'مدي': 1109, 'شبك': 1110, 'لمل': 1111, 'تؤد': 1112, 'جدول': 1113, 'وذج': 1114, 'حرى': 1115, 'رتب': 1116, 'بهذ': 1117, 'ملة': 1118, 'تمل': 1119, 'ناج': 1120, 'راد': 1121, 'باسكالpascal': 1122, 'جفا': 1123, 'رجم': 1124, 'كومبايلر': 1125, 'خرط': 1126, 'خفض': 1127, 'رولوج': 1128, 'جرد': 1129, 'فصل': 1130, 'مهم': 1131, 'وفر': 1132, 'حيج': 1133, 'هلك': 1134, 'حرب': 1135, 'لمس': 1136, 'شمل': 1137, 'أدء': 1138, 'يدو': 1139, 'اصو': 1140, 'بيئ': 1141, 'تخل': 1142, 'عبة': 1143, 'كبي': 1144, 'أمر': 1145, 'ندز': 1146, 'سطر': 1147, 'إنشائ': 1148, 'أصغر': 1149, 'زلت': 1150, 'بطئ': 1151, 'نبؤ': 1152, 'جود': 1153, 'فتر': 1154, 'وجز': 1155, 'مختلفة؛': 1156, 'قدي': 1157, 'تاح': 1158, 'لمن': 1159, 'لشئ': 1160, 'استخدامه': 1161, 'إنجاز': 1162, 'ؤسس': 1163, 'تحا': 1164, 'لتق': 1165, 'شغيل؛': 1166, 'خاص': 1167, 'بكل': 1168, 'قصر': 1169, 'نهم': 1170, 'منع': 1171, 'صدف': 1172, 'دد؛': 1173, 'صلب؛': 1174, 'ملف': 1175, 'جلد': 1176, 'دئم': 1177, 'تحكم': 1178, 'امن': 1179, 'لمستخدمي': 1180, 'لدي': 1181, 'صرح': 1182, 'تزد': 1183, 'بجه': 1184, 'عير': 1185, 'بقي': 1186, 'لبع': 1187, 'صلي': 1188, 'فيد': 1189, 'ضيفو': 1190, 'ماك': 1191, 'حرر': 1192, 'مايكروكمبيوتر': 1193, 'دمج': 1194, 'كلة': 1195, 'متح': 1196, 'رقق': 1197, 'chip': 1198, 'ترد': 1199, 'محي': 1200, 'شكر': 1201, 'وهن': 1202, 'لآف': 1203, 'شرل': 1204, 'لفظ': 1205, 'مكو': 1206, 'أشكال': 1207, 'كمبيوتر': 1208, 'سوف': 1209, 'وير': 1210, 'أدل': 1211, 'فنة': 1212, 'ويب': 1213, 'ألعاب': 1214, 'كود': 1215, 'سيق': 1216, 'فلم': 1217, 'حاسوب؛': 1218, 'تكنولوجية': 1219, 'نصص': 1220, 'ميكروكود': 1221, 'تأت': 1222, 'سطح': 1223, 'مايكروسوفت': 1224, 'ورد': 1225, 'وعد': 1226, 'حوء': 1227, 'أجهز': 1228, 'عملاء': 1229, 'سير': 1230, 'تليفزيون': 1231, 'حمص': 1232, 'خبز': 1233, 'كهربائية': 1234, 'سمت': 1235, 'هرد': 1236, 'لزم': 1237, 'دنى': 1238, 'بروسيسور': 1239, 'وتت': 1240, 'حلت': 1241, 'لسل': 1242, 'انس': 1243, 'كفء': 1244, 'جمل': 1245, 'للغ': 1246, 'هجي': 1247, 'يجب': 1248, 'لدر': 1249, 'توك': 1250, 'رينج': 1251, 'قله': 1252, 'ايك': 1253, 'هلي': 1254, 'فئت': 1255, 'صنف': 1256, 'عبط': 1257, 'هاردوير': 1258, 'ولح': 1259, 'صدر': 1260, 'وزم': 1261, 'وثب': 1262, 'تعلق': 1263, 'مستخدمو': 1264, 'فالأشخاص': 1265, 'عمة': 1266, 'دلل': 1267, 'وكف': 1268, 'وخص': 1269, 'وشب': 1270, 'كيف': 1271, 'حتو': 1272, 'قيس': 1273, 'عشوائ': 1274, 'مرر': 1275, 'دفق': 1276, 'بكم': 1277, 'ؤشر': 1278, 'لبي': 1279, 'ببي': 1280, 'كذل': 1281, 'عطل': 1282, 'خطء': 1283, 'جدر': 1284, 'خلص': 1285, 'ومع': 1286, 'ندر': 1287, 'يقل': 1288, 'قان': 1289, 'لوبارسكي': 1290, 'وفل': 1291, 'مايكروسيستمز': 1292, 'وضم': 1293, 'شيوعا؛': 1294, 'نسا': 1295, 'صرم': 1296, 'كوك': 1297, 'فضء': 1298, 'أكمل': 1299, 'فدح': 1300, 'رخص': 1301, 'وتأ': 1302, 'شرؤ': 1303, 'مجا': 1304, 'منح': 1305, 'حق': 1306, 'جني': 1307, 'برء': 1308, 'برمجيات؛': 1309, 'ارء': 1310, 'تبي': 1311, 'ثار': 1312, 'لكة': 1313, 'حذر': 1314, 'قئل': 1315, 'حفز': 1316, 'قوا': 1317, 'إنشاء': 1318, 'بيع': 1319, 'مال': 1320, 'ؤيد': 1321, 'ناول': 1322, 'لمح': 1323, 'قون': 1324, 'ومستخدمي': 1325, 'اذج': 1326, 'بدع': 1327, 'لكا': 1328, 'فاد': 1329, 'وباستخدام': 1330, 'مفاهيم': 1331, 'بتع': 1332, 'ولي': 1333, 'تلف': 1334, 'فبإمكانه': 1335, 'واستدعاء': 1336, 'إغلاق': 1337, 'ضفي': 1338, 'ودن': 1339, 'اقتصادية': 1340, 'سلع': 1341, 'ويت': 1342, 'أشخاص': 1343, 'إنتاج': 1344, 'واستكشاف': 1345, 'جلا': 1346, 'بيل': 1347, 'جيتس': 1348, 'لري': 1349, 'ؤسسس': 1350, 'معايير': 1351, 'حدي': 1352, 'فرس': 1353, 'أسم': 1354, 'تور': 1355, 'ردء': 1356, 'سيح': 1357, 'يلء': 1358, 'نبع': 1359, 'ثرو': 1360, 'لذل': 1361, 'كتف': 1362, 'قمش': 1363, 'زنط': 1364, 'دمر': 1365, 'ارة': 1366, 'قسطنطينية': 1367, 'عصم': 1368, 'امبراطورية': 1369, 'نحو': 1370, 'صرع': 1371, 'عسكر': 1372, 'خضه': 1373, 'هدد': 1374, 'سلم': 1375, 'وثن': 1376, 'ارثوذكسية': 1377, 'غول': 1378, 'سيس': 1379, 'ابو': 1380, 'قدس': 1381, 'رضي': 1382, 'جاب': 1383, 'دعو': 1384, 'امبراطوريه': 1385, 'ارثوذكسيه': 1386, 'لجق': 1387, 'نضل': 1388, 'سدس': 1389, 'قاليم': 1390, 'شام': 1391, 'زندق': 1392, 'شعب': 1393, 'حظر': 1394, 'زيج': 1395, 'نحر': 1396, 'ادى': 1397, 'حلف': 1398, 'خصم': 1399, 'روم': 1400, 'اجتماعية': 1401, 'سمر': 1402, 'اوق': 1403, 'قوى': 1404, 'بعث': 1405, 'كيس': 1406, 'قسطنطينيه': 1407, 'برك': 1408, 'ببا': 1409, 'رسء': 1410, 'سمي': 1411, 'رنج': 1412, 'اما': 1413, 'غرب': 1414, 'تسم': 1415, 'كمؤم': 1416, 'طرس': 1417, 'جند': 1418, 'رأى': 1419, 'حجج': 1420, 'سلح': 1421, 'أصبح': 1422, 'طوف': 1423, 'تجب': 1424, 'ؤرخ': 1425, 'بلط': 1426, 'مبر': 1427, 'لسط': 1428, 'ولم': 1429, 'لحج': 1430, 'طئف': 1431, 'ودل': 1432, 'هما': 1433, 'تلت': 1434, 'غزو': 1435, 'عدئ': 1436, 'لغر': 1437, 'كنكز': 1438, 'جيش': 1439, 'ضغط': 1440, 'زايد': 1441, 'ازء': 1442, 'جءت': 1443, 'فطم': 1444, 'الل': 1445, 'كنس': 1446, 'تكم': 1447, 'دهر': 1448, 'حله': 1449, 'ركي': 1450, 'هير': 1451, 'كارولانجيه': 1452, 'وخر': 1453, 'مجر': 1454, 'نجت': 1455, 'طاق': 1456, 'رهب': 1457, 'سكن': 1458, 'كبح': 1459, 'عنف': 1460, 'هدن': 1461, 'سعى': 1462, 'فذا': 1463, 'فرص': 1464, 'قلم': 1465, 'بلء': 1466, 'ثنء': 1467, 'سبن': 1468, 'رزق': 1469, 'كفح': 1470, 'يبر': 1471, 'لمخالفيه': 1472, 'لكى': 1473, 'هرطق': 1474, 'البيجنسي': 1475, 'حدى': 1476, 'قام': 1477, 'يطر': 1478, 'شئن': 1479, 'حية': 1480, 'ذعت': 1481, 'ورى': 1482, 'نهج': 1483, 'سان': 1484, 'رنر': 1485, 'دجل': 1486, 'بإد': 1487, 'سقف': 1488, 'ورث': 1489, 'وحز': 1490, 'عصب': 1491, 'دعى': 1492, 'كارتار': 1493, 'طهر': 1494, 'ولز': 1495, 'مدن': 1496, 'ثرياء': 1497, 'روفانس': 1498, 'البيجانسية': 1499, 'عاطف': 1500, 'قدت': 1501, 'ترى': 1502, 'البيجنسية': 1503, 'سرط': 1504, 'جسد': 1505, 'سيحى': 1506, 'استئصاله': 1507, 'ريموند': 1508, 'حمس': 1509, 'قضت': 1510, 'مرء': 1511, 'جلو': 1512, 'ورم': 1513, 'لأيرلندا': 1514, 'نمط': 1515, 'كثل': 1516, 'عنق': 1517, 'كينج': 1518, 'بلا': 1519, 'عدو': 1520, 'رعب': 1521, 'سرق': 1522, 'فكان': 1523, 'خفف': 1524, 'وضى': 1525, 'فسح': 1526, 'لتف': 1527, 'كنج': 1528, 'جغراف': 1529, 'استردادية': 1530, 'دلس': 1531, 'تكو': 1532, 'دعة': 1533, 'كليرم': 1534, 'فرن': 1535, 'برر': 1536, 'ردة': 1537, 'لرب': 1538, 'كفر': 1539, 'خطا': 1540, 'تري': 1541, 'ضطهاد': 1542, 'ارث': 1543, 'ابن': 1544, 'عقر': 1545, 'عبد': 1546, 'وته': 1547, 'نشأ': 1548, 'سيد': 1549, 'فشع': 1550, 'قاب': 1551, 'لكت': 1552, 'بضم': 1553, 'لحا': 1554, 'ننس': 1555, 'سحل': 1556, 'سفن': 1557, 'فسد': 1558, 'طمأ': 1559, 'جبل': 1560, 'بير': 1561, 'تخم': 1562, 'صقل': 1563, 'حمي': 1564, 'ظلل': 1565, 'ضؤل': 1566, 'اقن': 1567, 'غنم': 1568, 'غدر': 1569, 'بئس': 1570, 'توج': 1571, 'نسك': 1572, 'يزط': 1573, 'ورء': 1574, 'خرب': 1575, 'نهب': 1576, 'مجروالصرب': 1577, 'سحق': 1578, 'قوت': 1579, 'ترك': 1580, 'تحر': 1581, 'غسطس': 1582, 'لور': 1583, 'طوابير': 1584, 'جودفر': 1585, 'بوب': 1586, 'وخه': 1587, 'لدو': 1588, 'ودو': 1589, 'ورغ': 1590, 'عم': 1591, 'غودفر': 1592, 'ينو': 1593, 'رينو': 1594, 'تول': 1595, 'اثر': 1596, 'مشت': 1597, 'رين': 1598, 'دنب': 1599, 'سرت': 1600, 'فلح': 1601, 'لتي': 1602, 'رها': 1603, 'ادس': 1604, 'إمر': 1605, 'طاك': 1606, 'طرابلس': 1607, 'قهر': 1608, 'بنق': 1609, 'وبء': 1610, 'كمحاول': 1611, 'وزر': 1612, 'عسقل': 1613, 'شمي': 1614, 'فلسطينية': 1615, 'ونت': 1616, 'هدء': 1617, 'دعا': 1618, 'رنرد': 1619, 'كليرفو': 1620, 'كونراد': 1621, 'هوهنشتاوفن': 1622, 'جرم': 1623, 'لوك': 1624, 'جحفل': 1625, 'جوع': 1626, 'مرض': 1627, 'خيل': 1628, 'ابع': 1629, 'جور': 1630, 'ضورليوم': 1631, 'نيت': 1632, 'خطر': 1633, 'خون': 1634, 'بغر': 1635, 'واصل': 1636, 'وصة': 1637, 'عرش': 1638, 'ميليساندا': 1639, 'اعي': 1640, 'ومض': 1641, 'حصر': 1642, 'دمشق': 1643, 'حصن': 1644, 'دام': 1645, 'وبر': 1646, 'طبر': 1647, 'نار': 1648, 'لعل': 1649, 'رشو': 1650, 'نور': 1651, 'ودر': 1652, 'وبين': 1653, 'عرك': 1654, 'أسس': 1655, 'سول': 1656, 'وتج': 1657, 'وبه': 1658, 'بيت': 1659, 'أمم': 1660, 'دخلو': 1661, 'أقم': 1662, 'ذبح': 1663, 'قضا': 1664, 'نسء': 1665, 'أطفال': 1666, 'كهل': 1667, 'باح': 1668, 'سحة': 1669, 'قصى': 1670, 'قئد': 1671, 'حتل': 1672, 'عرة': 1673, 'نعم': 1674, 'أشعل': 1675, 'حلب': 1676, 'لقد': 1677, 'باستعادة': 1678, 'نهر': 1679, 'فرت': 1680, 'ضيق': 1681, 'متد': 1682, 'ارد': 1683, 'تتج': 1684, 'خلج': 1685, 'وها': 1686, 'كله': 1687, 'فرح': 1688, 'عدت': 1689, 'كأشد': 1690, 'حطن': 1691, 'حور': 1692, 'ايب': 1693, 'غريغوريوس': 1694, 'ردا': 1695, 'يلب': 1696, 'وغس': 1697, 'وريتشارد': 1698, 'اسد': 1699, 'ومل': 1700, 'ريدر': 1701, 'برباروسا': 1702, 'شرد': 1703, 'قته': 1704, 'ريتشارد': 1705, 'ضعف': 1706, 'عكا': 1707, 'عئد': 1708, 'وجر': 1709, 'وتح': 1710, 'محاولاته': 1711, 'بءت': 1712, 'تجر': 1713, 'اينوقنتيوس': 1714, 'لخص': 1715, 'شن': 1716, 'بتج': 1717, 'غذء': 1718, 'جهو': 1719, 'ثقف': 1720, 'حطط': 1721, 'بحج': 1722, 'هيا': 1723, 'لقل': 1724, 'ساء': 1725, 'كاستعارة': 1726, 'تكن': 1727, 'بكن': 1728, 'وهم': 1729, 'يرى': 1730, 'مات': 1731, 'ظرف': 1732, 'قسي': 1733, 'ايد': 1734, 'وبع': 1735, 'كعبيد': 1736, 'نخس': 1737, 'اينوشنتيوس': 1738, 'وعظ': 1739, 'دمت': 1740, 'درش': 1741, 'وقو': 1742, 'ضمت': 1743, 'وهولندية': 1744, 'فتج': 1745, 'دمياط': 1746, 'نيل': 1747, 'حاح': 1748, 'اونوريوس': 1749, 'بيلاجيوس': 1750, 'است': 1751, 'فيض': 1752, 'صري': 1753, 'لسد': 1754, 'بما': 1755, 'ذرع': 1756, 'امبراطور': 1757, 'سيف': 1758, 'غمد': 1759, 'تحظ': 1760, 'أخر': 1761, 'نذر': 1762, 'فوض': 1763, 'باستتثناء': 1764, 'وبت': 1765, 'لحم': 1766, 'صيد': 1767, 'وطر': 1768, 'قصل': 1769, 'تمة': 1770, 'عمي': 1771, 'شاه': 1772, 'اسر': 1773, 'فده': 1774, 'فعد': 1775, 'وبق': 1776, 'بخف': 1777, 'حنن': 1778, 'برن': 1779, 'جلي': 1780, 'صدهم': 1781, 'رفق': 1782, 'ضمم': 1783, 'فجئ': 1784, 'وبالنسبة': 1785, 'ذهل': 1786, 'ونس': 1787, 'نجو': 1788, 'لأخ': 1789, 'ويس': 1790, 'نبل': 1791, 'قلع': 1792, 'قرطاج': 1793, 'دب': 1794, 'وتف': 1795, 'الك': 1796, 'شفي': 1797, 'وفة': 1798, 'اخه': 1799, 'وخض': 1800, 'زمت': 1801, 'جزة': 1802, 'بادل': 1803, 'غادرو': 1804, 'برس': 1805, 'هادينيشي': 1806, 'ومد': 1807, 'هوس': 1808, 'تشك': 1809, 'عثم': 1810, 'سود': 1811, 'قرة': 1812, 'رية': 1813, 'تفت': 1814, 'بيروقراطي': 1815, 'قوم': 1816, 'مان': 1817, 'طبة': 1818, 'نورمانية': 1819, 'زدهار': 1820, 'حوض': 1821, 'توسط': 1822, 'جنو': 1823, 'اسكندرية': 1824, 'شك': 1825, 'حجر': 1826, 'خشب': 1827, 'دمي': 1828, 'فبالإضافة': 1829, 'سفك': 1830, 'دمء': 1831, 'ؤمن': 1832, 'تعا': 1833, 'لبج': 1834, 'يهد': 1835, 'هنغار': 1836, 'ودى': 1837, 'نمي': 1838, 'نزي': 1839, 'فشي': 1840, 'رهق': 1841, 'ربر': 1842, 'بشع': 1843, 'شيخ': 1844, 'شقا': 1845, 'بطن': 1846, 'اهل': 1847, 'حرث': 1848, 'نسل': 1849, 'أذق': 1850, 'هون': 1851, 'كصلاح': 1852, 'غمر': 1853, 'حاط': 1854, 'بهل': 1855, 'ربروس': 1856, 'أجل': 1857, 'عمم': 1858, 'خطى': 1859, 'اطر': 1860, 'إطعام': 1861, 'جيع': 1862, 'بوش': 1863, 'سور': 1864, 'أقدم': 1865, 'رمق': 1866, 'ادب': 1867, 'موي': 1868, 'امي': 1869, 'رمي': 1870, 'ريز': 1871, 'نسم': 1872, 'ألف': 1873, 'ارم': 1874, 'اشر': 1875, 'شركس': 1876, 'سفح': 1877, 'حيء': 1878, 'تجه': 1879, 'تحط': 1880, 'بسا': 1881, 'غوط': 1882, 'ربو': 1883, 'وعش': 1884, 'مشاهير': 1885, 'فلك': 1886, 'فقه': 1887, 'لطب': 1888, 'صيدل': 1889, 'قدة': 1890, 'حفل': 1891, 'أحياء': 1892, 'سرح': 1893, 'سين': 1894, 'تحف': 1895, 'لخط': 1896, 'قلد': 1897, 'وطن': 1898, 'كنز': 1899, 'ترث': 1900, 'غني': 1901, 'عطي': 1902, 'موسيقى': 1903, 'ولف': 1904, 'دوم': 1905, 'نشء': 1906, 'حفر': 1907, 'تل': 1908, 'رمد': 1909, 'فجر': 1910, 'لسم': 1911, 'فهن': 1912, 'روي': 1913, 'رجح': 1914, 'تقل': 1915, 'تدل': 1916, 'بنئ': 1917, 'ورا': 1918, 'سام': 1919, 'بن': 1920, 'نوح': 1921, 'تعن': 1922, 'زهر': 1923, 'تدر': 1924, 'حبر': 1925, 'بت': 1926, 'رام': 1927, 'ديمترياس': 1928, 'جلق': 1929, 'شمة': 1930, 'دنا': 1931, 'كنن': 1932, 'دمس': 1933, 'يحء': 1934, 'يمش': 1935, 'داماس': 1936, 'ديماسكوس': 1937, 'سقة': 1938, 'يسم': 1939, 'إحدى': 1940, 'ؤهل': 1941, 'كفة': 1942, 'صرة': 1943, 'وحث': 1944, 'ببل': 1945, 'وفينيقية': 1946, 'ورومانية': 1947, 'ويونانية': 1948, 'أسمائ': 1949, 'حوتمس': 1950, 'يمس': 1951, 'دا': 1952, 'ماش': 1953, 'قا': 1954, 'دارميس': 1955, 'ينق': 1956, 'ومم': 1957, 'امبراطوري': 1958, 'مرت': 1959, 'قمت': 1960, 'أهم': 1961, 'موط': 1962, 'بأد': 1963, 'كندر': 1964, 'وفت': 1965, 'سلق': 1966, 'ومب': 1967, 'ولس': 1968, 'هلنس': 1969, 'مزج': 1970, 'ومط': 1971, 'صين': 1972, 'وما': 1973, 'طلس': 1974, 'رفع': 1975, 'خلفاء': 1976, 'ساح': 1977, 'جوبيتر': 1978, 'مبا': 1979, 'قعة': 1980, 'صلة': 1981, 'وصح': 1982, 'توز': 1983, 'ناسق': 1984, 'رخم': 1985, 'سجد': 1986, 'حقب': 1987, 'مئذ': 1988, 'عرس': 1989, 'ئذن': 1990, 'عيسى': 1991, 'ريم': 1992, 'قايتب': 1993, 'زاي': 1994, 'زيا': 1995, 'شرع': 1996, 'عبس': 1997, 'غدد': 1998, 'تقض': 1999, 'ضعضع': 2000, 'طولو': 2001, 'قرمط': 2002, 'حلو': 2003, 'رات': 2004, 'تبك': 2005, 'سقل': 2006, 'سرد': 2007, 'كمركز': 2008, 'وصد': 2009, 'استقلاليت': 2010, 'وجء': 2011, 'زنك': 2012, 'شيركو': 2013, 'واج': 2014, 'بمو': 2015, 'عضد': 2016, 'لدن': 2017, 'ركد': 2018, 'عاد': 2019, 'برق': 2020, 'ياد': 2021, 'دبي': 2022, 'ارس': 2023, 'حمم': 2024, 'بزر': 2025, 'ترب': 2026, 'زين': 2027, 'اية': 2028, 'قرآ': 2029, 'زمر': 2030, 'مسك': 2031, 'نيب': 2032, 'مدت': 2033, 'رست': 2034, 'بحر': 2035, 'ابض': 2036, 'إلى': 2037, 'غزة': 2038, 'كرك': 2039, 'قلو': 2040, 'وشد': 2041, 'تيمورلنك': 2042, 'كرث': 2043, 'نهض': 2044, 'شيد': 2045, 'زدهر': 2046, 'حدم': 2047, 'صارع': 2048, 'مني': 2049, 'مرج': 2050, 'دبق': 2051, 'شسع': 2052, 'وغد': 2053, 'كأهم': 2054, 'أطلق': 2055, 'حطة': 2056, 'قفل': 2057, 'حرص': 2058, 'ولة': 2059, 'رمم': 2060, 'عني': 2061, 'تكة': 2062, 'سليمانية': 2063, 'وبالتوازي': 2064, 'قطب': 2065, 'فرء': 2066, 'غدو': 2067, 'أشهر': 2068, 'بلس': 2069, 'قوتل': 2070, 'دحدح': 2071, 'سحر': 2072, 'رقي': 2073, 'باد': 2074, 'زار': 2075, 'لرع': 2076, 'ألم': 2077, 'لتحركاته': 2078, 'ثور': 2079, 'قلة': 2080, 'ندب': 2081, 'قصف': 2082, 'ألحق': 2083, 'طلع': 2084, 'فيش': 2085, 'وازدهارا': 2086, 'نكب': 2087, 'نكس': 2088, 'هجر': 2089, 'نزح': 2090, 'جول': 2091, 'بمب': 2092, 'وحر': 2093, 'أسواق': 2094, 'حي': 2095, 'ميد': 2096, 'شغر': 2097, 'قنو': 2098, 'زرع': 2099, 'ركن': 2100, 'مزة': 2101, 'رمن': 2102, 'سوس': 2103, 'شعل': 2104, 'باب': 2105, 'توم': 2106, 'برم': 2107, 'قصع': 2108, 'حار': 2109, 'قارب': 2110, 'رصف': 2111, 'فهذ': 2112, 'خان': 2113, 'جلل': 2114, 'حني': 2115, 'أعمد': 2116, 'بقا': 2117, 'عاش': 2118, 'ولص': 2119, 'نبت': 2120, 'افر': 2121, 'ياه': 2122, 'يعد': 2123, 'شآت': 2124, 'كأقدم': 2125, 'تحى': 2126, 'رثة': 2127, 'روكار': 2128, 'داماسكو': 2129, 'صوف': 2130, 'نحس': 2131, 'رابيس': 2132, 'طرز': 2133, 'فكه': 2134, 'جفف': 2135, 'بجد': 2136, 'حير': 2137, 'عدن': 2138, 'كمد': 2139, 'برج': 2140, 'خضراء': 2141, 'سكك': 2142, 'أورب': 2143, 'طار': 2144, 'ريف': 2145, 'تشه': 2146, 'فئة': 2147, 'ستو': 2148, 'قهي': 2149, 'كازينو': 2150, 'سبح': 2151, 'ربة': 2152, 'صاف': 2153, 'جوه': 2154, 'ودي': 2155, 'زبد': 2156, 'نجع': 2157, 'إضف': 2158, 'مول': 2159, 'وذكرياته': 2160, 'عريش': 2161, 'قوس': 2162, 'قنطر': 2163, 'حدق': 2164, 'برح': 2165, 'عطر': 2166, 'تعط': 2167, 'بهج': 2168, 'بدو': 2169, 'لألئ': 2170, 'خضر': 2171, 'تسلق': 2172, 'رهف': 2173, 'هدى': 2174, 'لفن': 2175, 'ثنا': 2176, 'وبو': 2177, 'عبق': 2178, 'ورح': 2179, 'عطك': 2180, 'إطلال': 2181, 'غنء': 2182, 'بمنتزهات': 2183, 'سكة': 2184, 'قطر': 2185, 'نثر': 2186, 'رئع': 2187, 'يرم': 2188, 'زيئ': 2189, 'وبل': 2190, 'قنبل': 2191, 'إرساء': 2192, 'وذع': 2193, 'صيت': 2194, 'مندليف': 2195, 'يورانيوم': 2196, 'ملء': 2197, 'رصص': 2198, 'سدى': 2199, 'قتئذ': 2200, 'كور': 2201, 'راديوم': 2202, 'مشع': 2203, 'يجر': 2204, 'أجرى': 2205, 'كبندق': 2206, 'إطلاق': 2207, 'كهرب': 2208, 'ضلت': 2209, 'عنت': 2210, 'فلر': 2211, 'قذف': 2212, 'فظن': 2213, 'هرب': 2214, 'واستبداد': 2215, 'لقف': 2216, 'كولومب': 2217, 'يمز': 2218, 'قصة': 2219, 'يطل': 2220, 'وتب': 2221, 'بأز': 2222, 'شطر': 2223, 'خام': 2224, 'جوز': 2225, 'بحل': 2226, 'خصب': 2227, 'ثري': 2228, 'الت': 2229, 'عجل': 2230, 'رحي': 2231, 'كلوتر': 2232, 'حلزو': 2233, 'قضي': 2234, 'ركم': 2235, 'كند': 2236, 'كونغو': 2237, 'بلج': 2238, 'زائير': 2239, 'زيلارد': 2240, 'ليك': 2241, 'ذكة': 2242, 'طوق': 2243, 'نجة': 2244, 'جرف': 2245, 'هدئ': 2246, 'طمح': 2247, 'قسا': 2248, 'سلسل': 2249, 'زكى': 2250, 'هتلر': 2251, 'لاستخدام': 2252, 'فشد': 2253, 'شنط': 2254, 'إقناع': 2255, 'سئل': 2256, 'جدى': 2257, 'وهد': 2258, 'جرس': 2259, 'ذار': 2260, 'لمك': 2261, 'دري': 2262, 'أعد': 2263, 'رانكل': 2264, 'روزفل': 2265, 'حسم': 2266, 'فقر': 2267, 'نوه': 2268, 'ختم': 2269, 'بقل': 2270, 'شمس': 2271, 'فور': 2272, 'سرا': 2273, 'حشد': 2274, 'رهط': 2275, 'ديكتاتورية': 2276, 'لاستكمال': 2277, 'هان': 2278, 'يلز': 2279, 'دانمر': 2280, 'جيمس': 2281, 'شدي': 2282, 'أوتو': 2283, 'فرش': 2284, 'أندرس': 2285, 'يسر': 2286, 'إميليو': 2287, 'وإر': 2288, 'جوليو': 2289, 'ينر': 2290, 'باع': 2291, 'جذر': 2292, 'ياب': 2293, 'ينء': 2294, 'يرل': 2295, 'هاربر': 2296, 'بغت': 2297, 'سطل': 2298, 'ربض': 2299, 'هدي': 2300, 'لهب': 2301, 'حلفاء': 2302, 'حتم': 2303, 'إيطال': 2304, 'إعل': 2305, 'جبه': 2306, 'قاتل': 2307, 'أسرار': 2308, 'ماكميل': 2309, 'خلق': 2310, 'نهى': 2311, 'بلوتونيوم': 2312, 'امل': 2313, 'دفة': 2314, 'سرة': 2315, 'جنرال': 2316, 'يسل': 2317, 'جروفز': 2318, 'همت': 2319, 'تركيزالبحوث': 2320, 'خار': 2321, 'شيكاغو': 2322, 'موه': 2323, 'ستذ': 2324, 'نقي': 2325, 'كادميوم': 2326, 'إجراء': 2327, 'رقص': 2328, 'قضب': 2329, 'حبل': 2330, 'شده': 2331, 'جايجر': 2332, 'نشد': 2333, 'هئل': 2334, 'أبرق': 2335, 'نصه': 2336, 'لاح': 2337, 'كاديم': 2338, 'بدأتطوير': 2339, 'دقة': 2340, 'اكس': 2341, 'مضخ': 2342, 'برد': 2343, 'شرى': 2344, 'عشة': 2345, 'خفء': 2346, 'تأم': 2347, 'رفه': 2348, 'تنس': 2349, 'ريدج': 2350, 'كلن': 2351, 'شرة': 2352, 'مغناطيس': 2353, 'وزن': 2354, 'قري': 2355, 'إقم': 2356, 'أسر': 2357, 'هانفورد': 2358, 'وقي': 2359, 'خرس': 2360, 'سمك': 2361, 'ألواح': 2362, 'سرب': 2363, 'درع': 2364, 'فقداكتملت': 2365, 'نيومكسيكو': 2366, 'كيلومترا': 2367, 'لفف': 2368, 'امس': 2369, 'طلت': 2370, 'لون': 2371, 'عشب': 2372, 'فذة': 2373, 'هيأ': 2374, 'جهد': 2375, 'أنفق': 2376, 'لبد': 2377, 'كيلو': 2378, 'صحراء': 2379, 'مجوردو': 2380, 'معد': 2381, 'تحي': 2382, 'كيلوجر': 2383, 'خفى': 2384, 'هدر': 2385, 'خيف': 2386, 'وضء': 2387, 'سطع': 2388, 'هبت': 2389, 'عصف': 2390, 'هئي': 2391, 'قمم': 2392, 'فجة': 2393, 'كيلومتر': 2394, 'رمل': 2395, 'زجج': 2396, 'طن': 2397, 'بهر': 2398, 'تولد': 2399, 'انتقامية': 2400, 'زرئ': 2401, 'أتى': 2402, 'لرد': 2403, 'يقظ': 2404, 'جوي': 2405, 'أسقط': 2406, 'هيروش': 2407, 'تمض': 2408, 'نجس': 2409, 'وطأ': 2410, 'جلة': 2411, 'نوفمبر2006': 2412, 'كيبيد': 2413, 'قبس': 2414, 'كوجو': 2415, 'رجب': 2416, 'كرياض': 2417, 'بقت': 2418, 'أرباب': 2419, 'وأح': 2420, 'مرس': 2421, 'ففي': 2422, 'ترن': 2423, 'كامبردج': 2424, 'هرو': 2425, 'وينتشستر': 2426, 'وشروسباري': 2427, 'إسم': 2428, 'تكلم': 2429, 'انكليزية': 2430, 'شيفيلد': 2431, 'لمذ': 2432, 'جهة': 2433, 'ختص': 2434, 'شالرز': 2435, 'ثرينج': 2436, 'كارترهاوس': 2437, 'كهث': 2438, 'تبق': 2439, 'كوب': 2440, 'ورل': 2441, 'صدق': 2442, 'ظلا': 2443, 'جلس': 2444, 'دون': 2445, 'ifab': 2446, 'fifa': 2447, 'نوب': 2448, 'صطناع': 2449, 'يدن': 2450, 'عشق': 2451, 'حصئ': 2452, 'سية': 2453, 'وكب': 2454, 'راح': 2455, 'مدة': 2456, 'ضئع': 2457, 'صلى': 2458, 'همه': 2459, 'ضاع': 2460, 'رار': 2461, 'شار': 2462, 'فقو': 2463, 'رأي': 2464, 'فلن': 2465, 'عنهم': 2466, 'خول': 2467, 'عندئذ': 2468, 'برؤ': 2469, 'احتفالات': 2470, 'كوق': 2471, 'فئز': 2472, 'يجز': 2473, 'كمبار': 2474, 'أدوار': 2475, 'منه': 2476, 'تسو': 2477, 'إصدار': 2478, 'بد': 2479, 'اعل': 2480, 'سعن': 2481, 'إنهاء': 2482, 'كطريق': 2483, 'ؤقت': 2484, 'ئنف': 2485, 'سخد': 2486, 'صفر': 2487, 'قرع': 2488, 'إحراز': 2489, 'بحذ': 2490, 'رمة': 2491, 'تمس': 2492, 'رؤت': 2493, 'سلل': 2494, 'رمه': 2495, 'تسلل': 2496, 'يقف': 2497, 'كفئ': 2498, 'جزي': 2499, 'فجي': 2500, 'اله': 2501, 'طقه': 2502, 'اي': 2503, 'الا': 2504, 'لأي': 2505, 'حزب': 2506, 'صندوق': 2507, 'دلء': 2508, 'فالتعاريف': 2509, 'نهك': 2510, 'كمخالف': 2511, 'فسف': 2512, 'بقئ': 2513, 'ممي': 2514, 'خلس': 2515, 'لده': 2516, 'لقن': 2517, 'سيم': 2518, 'رما': 2519, 'تصغ': 2520, 'مكا': 2521, 'وبالتالي': 2522, 'قار': 2523, 'رازيل': 2524, 'ارج': 2525, 'سيك': 2526, 'الذى': 2527, 'لوة': 2528, 'لاج': 2529, 'قبة': 2530, 'طيق': 2531, 'ليل': 2532, 'غلق': 2533, 'يام': 2534, 'مآم': 2535, 'عبسى': 2536, 'بكب': 2537, 'حمه': 2538, 'اجر': 2539, 'أقر': 2540, 'سطط': 2541, 'فما': 2542, 'ذتى': 2543, 'قطم': 2544, 'أنشأ': 2545, 'أتم': 2546, 'رخمى': 2547, 'روق': 2548, 'عمرو': 2549, 'شأن': 2550, 'ففى': 2551, 'جملى': 2552, 'طمى': 2553, 'أعلى': 2554, 'لجص': 2555, 'اتق': 2556, 'جصي': 2557, 'طولونى': 2558, 'فرغ': 2559, 'كبيرعلى': 2560, 'وأل': 2561, 'عاص': 2562, 'زول': 2563, 'طولونية\\u200f': 2564, 'بنا': 2565, 'غفر': 2566, 'حكو': 2567, 'أعجز': 2568, 'جير': 2569, 'كلهم': 2570, 'غلم': 2571, 'ساك': 2572, 'معونة\\u200f': 2573, 'غلا': 2574, 'أحمد': 2575, 'حسن': 2576, 'حذق': 2577, 'وإن': 2578, 'عشا': 2579, 'فقل': 2580, 'له\\u200f': 2581, 'أعلم': 2582, 'فنر': 2583, 'قل\\u200f': 2584, 'غد': 2585, 'طوب': 2586, 'أقبل': 2587, 'سحس': 2588, 'رطب': 2589, 'غصت': 2590, 'فكب': 2591, 'لسء': 2592, 'ظنه': 2593, 'فشق': 2594, 'ثيب': 2595, 'سوط': 2596, 'دنانير': 2597, 'وء\\u200f': 2598, 'ضيع': 2599, 'ذلك\\u200f': 2600, 'أنكر': 2601, 'عذب': 2602, 'تحب': 2603, 'أحضر': 2604, 'طال': 2605, 'دلى': 2606, 'نه\\u200f': 2607, 'سقي': 2608, 'شرب': 2609, 'مائ': 2610, 'قيه\\u200f': 2611, 'كنت': 2612, 'لي\\u200f': 2613, 'ذعر': 2614, 'قلت\\u200f': 2615, 'يه\\u200f': 2616, 'فأق': 2617, 'خادم\\u200f': 2618, 'مسن': 2619, 'فارحمني\\u200f': 2620, 'قول\\u200f': 2621, 'وسر': 2622, 'شمع': 2623, 'وكد': 2624, 'عطش': 2625, 'يأذ': 2626, 'أرد': 2627, 'ستق': 2628, 'كدت': 2629, 'سقك': 2630, 'جنة': 2631, 'وأغ': 2632, 'صفء': 2633, 'طيب': 2634, 'وليس': 2635, 'فاصرفوه\\u200f': 2636, 'صرفت\\u200f': 2637, 'فلل': 2638, 'هلكت\\u200f': 2639, 'نفق': 2640, 'سغل': 2641, 'أنشد': 2642, 'قاص': 2643, 'رثء': 2644, 'قاية\\u200f': 2645, 'زكة': 2646, 'روة': 2647, 'وفد': 2648, 'ترح': 2649, 'مد': 2650, 'نبط': 2651, 'لمع': 2652, 'عمق': 2653, 'نوء': 2654, 'جوا': 2655, 'جوهر': 2656, 'طون\\u200f': 2657, 'فخذ': 2658, 'اتع': 2659, 'سبأ': 2660, 'قحط': 2661, 'خطف': 2662, 'كوم': 2663, 'عفص': 2664, 'قرافة\\u200f': 2665, 'إصلاح': 2666, 'صحن': 2667, 'عزز': 2668, 'بلل': 2669, 'حرق': 2670, 'نبر': 2671, 'خشبى': 2672, 'كسة': 2673, 'فسء': 2674, 'علو': 2675, 'مستنصرى': 2676, 'جصة': 2677, 'قايتباى': 2678, 'فى': 2679, 'هجرى': 2680, 'ميلادى': 2681, 'اضى': 2682, 'لجأ': 2683, 'عجز': 2684, 'فؤد': 2685, 'إعداد': 2686, 'رصد': 2687, 'بيض': 2688, 'زخرف': 2689, 'جهت': 2690, 'ترو': 2691, 'ضلع': 2692, 'متر': 2693, 'حئط': 2694, 'يحط': 2695, 'ويش': 2696, 'دبب': 2697, 'طيل': 2698, 'لصق': 2699, 'صفن': 2700, 'غطى': 2701, 'أسفل': 2702, 'ازر': 2703, 'كرم': 2704, 'كوفى': 2705, 'بكى': 2706, 'ثيل': 2707, 'أغلب': 2708, 'الظ': 2709, 'جوف': 2710, 'كنف': 2711, 'وحل': 2712, 'حشو': 2713, 'حشه': 2714, 'أجمل': 2715, 'روا': 2716, 'سيط': 2717, 'قلا': 2718, 'طي': 2719, 'ثأر': 2720, 'حمى': 2721, 'ومك': 2722, 'حنة': 2723, 'كفل': 2724, 'يضأ': 2725, 'أزل': 2726, 'تكلف': 2727, 'جما': 2728, 'كمصنع': 2729, 'وافتتاحه': 2730, 'كحد': 2731, 'ساوس': 2732, 'فبه': 2733, 'ايت': 2734, 'غرر': 2735, 'سفل': 2736, 'ماز': 2737, 'فأل': 2738, 'لذى': 2739, 'شاهنش': 2740, 'أحكام': 2741, 'عتق': 2742, 'قوص': 2743, 'أولياؤ': 2744, 'اهر': 2745, 'روض': 2746, 'كربلاء': 2747, 'قبر': 2748, 'بنو': 2749, 'دفن': 2750, 'نصب': 2751, 'كوف': 2752, 'احد': 2753, 'ولت': 2754, 'مأم': 2755, 'رقد': 2756, 'رعي': 2757, 'دعي': 2758, 'بوه': 2759, 'وصي': 2760, 'هذة': 2761, 'شهداء': 2762, 'تزر': 2763, 'ضرح': 2764, 'سحت': 2765, 'طرم': 2766, 'حسي': 2767, 'شهق': 2768, 'غشة': 2769, 'طلي': 2770, 'ثره': 2771, 'وعل': 2772, 'عاج': 2773, 'فضة': 2774, 'وشى': 2775, 'نقش': 2776, 'رمر': 2777, 'مرا': 2778, 'ثوى': 2779, 'لطف': 2780, 'أصحاب': 2781, 'فوق': 2782, 'وطل': 2783, 'أرض': 2784, 'نصع': 2785, 'ردب': 2786, 'فنء': 2787, 'صلو': 2788, 'عال': 2789, 'جرى': 2790, 'قشا': 2791, 'علا': 2792, 'تطل': 2793, 'تفرع': 2794, 'اجل': 2795, 'زحم': 2796, 'ساج': 2797, 'حشي': 2798, 'ايو': 2799, 'فهو': 2800, 'طرف': 2801, 'كست': 2802, 'هدا': 2803, 'منى': 2804, 'يثق': 2805, 'امة': 2806, 'سمو': 2807, 'عضء': 2808, 'تفرق': 2809, 'ضرج': 2810, 'يؤد': 2811, 'فقف': 2812, 'تقف': 2813, 'إزء': 2814, 'قائ': 2815, 'فلج': 2816, 'حذي': 2817, 'وأب': 2818, 'رشد': 2819, 'هدم': 2820, 'ؤمل': 2821, 'عتر': 2822, 'أرسل': 2823, 'فنس': 2824, 'خوف': 2825, 'فيه': 2826, 'شجر': 2827, 'سدر': 2828, 'كرب': 2829, 'أسباب': 2830, 'وسى': 2831, 'رضا': 2832, 'ميل': 2833, 'سند': 2834, 'ائم': 2835, 'شيع': 2836, 'وذق': 2837, 'طمئ': 2838, 'شمخ': 2839, 'سنه': 2840, 'توكل': 2841, 'حقد': 2842, 'وناصبيته': 2843, 'خنق': 2844, 'زئر': 2845, 'بذر': 2846, 'يسق': 2847, 'سجن': 2848, 'أقلع': 2849, 'طوس': 2850, 'دني': 2851, 'زرت': 2852, 'خفة': 2853, 'فبع': 2854, 'تسق': 2855, 'حذت': 2856, 'حدت': 2857, 'عصي': 2858, 'تطأ': 2859, 'بوج': 2860, 'تلل': 2861, 'نبي': 2862, 'ظلم': 2863, 'بمثله': 2864, 'هذا': 2865, 'شاركوا': 2866, 'في': 2867, 'بعو': 2868, 'هئع': 2869, 'خبر؟': 2870, 'سدة': 2871, 'أصب': 2872, 'فرج': 2873, 'وزل': 2874, 'يلا': 2875, 'ودع': 2876, 'جعفر': 2877, 'وذر': 2878, 'فطس': 2879, 'حفد': 2880, 'أولاد': 2881, 'زور': 2882, 'ونج': 2883, 'جهل': 2884, 'قضء': 2885, 'قدرا؟': 2886, 'خبث': 2887, 'فجع': 2888, 'عظمى': 2889, 'مؤل': 2890, 'وصر': 2891, 'سبط': 2892, 'طبرس': 2893, 'حينئذ': 2894, 'نجف': 2895, 'قتذ': 2896, 'تين': 2897, 'فتم': 2898, 'غري': 2899, 'حئر': 2900, 'مسا': 2901, 'أجزى': 2902, 'عطء': 2903, 'طئع': 2904, 'طيع': 2905, 'عام407': 2906, 'شب': 2907, 'تنر': 2908, 'أزر': 2909, 'ستر': 2910, 'شبت': 2911, 'أصلح': 2912, 'سرر': 2913, 'أحس': 2914, 'بطط': 2915, 'بطش': 2916, 'أموال': 2917, 'قدد': 2918, 'ديباج': 2919, 'طنفس': 2920, 'كليدار': 2921, 'معز': 2922, 'جلر': 2923, 'هولاكو': 2924, 'أرق': 2925, 'وشر': 2926, 'وجل': 2927, 'بهو': 2928, 'بإو': 2929, 'عاقب': 2930, 'شؤن': 2931, 'عتب': 2932, 'مضى': 2933, 'عما': 2934, 'خبراء': 2935, 'ببروتوكول': 2936, 'بروتوكول': 2937, 'اكاديمية': 2938, 'تتب': 2939, 'بتق': 2940, 'ليف': 2941, 'بصري': 2942, 'الألياف': 2943, 'عظي': 2944, 'صفح': 2945, 'الب': 2946, 'خطب': 2947, 'رتوكول': 2948, 'صوت': 2949, 'طفر': 2950, 'بقع': 2951, 'شعت': 2952, 'ظنا': 2953, 'وهل': 2954, 'رزم': 2955, 'تضع': 2956, 'فحا': 2957, 'حتا': 2958, 'ذكء': 2959, 'بده': 2960, 'ضاف': 2961, 'سيل': 2962, 'رئي': 2963, 'إيصال': 2964, 'تنب': 2965, 'سيب': 2966, 'دردش': 2967, 'بان': 2968, 'عصة': 2969, 'خلو': 2970, 'معلوماتك': 2971, 'لامركزية': 2972, 'لاستغلال': 2973, 'توفر': 2974, 'واستعاضت': 2975, 'يفق': 2976, 'نمو': 2977, 'أخد': 2978, 'بمعلومات': 2979, 'تصفح': 2980, 'وزي': 2981, 'جوفر': 2982, 'عملاق': 2983, 'سكب': 2984, 'عزى': 2985, 'للا': 2986, 'مهندسو': 2987, 'موافيق': 2988, 'شتى': 2989, 'الخ': 2990, 'يدل': 2991, 'دلو': 2992, 'قرأ': 2993, 'توفرالتطبيق': 2994, 'تيم': 2995, 'رنرز': 2996, 'ناد': 2997, 'يني': 2998, 'خلط': 2999, 'غضن': 3000, 'عضي': 3001, 'لكه': 3002, 'دنة': 3003, 'زدياد': 3004, 'وإم': 3005, 'نصة': 3006, 'إرسال': 3007, 'يخز': 3008, 'عبث': 3009, 'وب': 3010, 'تشب': 3011, 'رادف': 3012, 'كبل': 3013, 'عكس': 3014, 'فايرفوكس': 3015, 'تجل': 3016, 'أخرى': 3017, 'فوتوغرافية': 3018, 'خاز': 3019, 'امك': 3020, 'زلي': 3021, 'يكم': 3022, 'تعو': 3023, 'عون': 3024, 'وتل': 3025, 'زملاء': 3026, 'عاملةعلى': 3027, 'فدي': 3028, 'مسح': 3029, 'جوجل': 3030, 'شير': 3031, 'بون': 3032, 'كاختيار': 3033, 'وأد': 3034, 'أنظم': 3035, 'هتف': 3036, 'باعتباره': 3037, 'كيب': 3038, 'لقم': 3039, 'بأل': 3040, 'فصح': 3041, 'عنا': 3042, 'لنص': 3043, 'صيغ': 3044, 'كمثال': 3045, 'لشر': 3046, 'كأمثل': 3047, 'يعل': 3048, 'وبم': 3049, 'واهتمامات': 3050, 'لغي': 3051, 'حقل': 3052, 'اختراعات': 3053, 'ابتكارات': 3054, 'شعراء': 3055, 'سلمس': 3056, 'ثقث': 3057, 'حاديث': 3058, 'ساي': 3059, 'لدم': 3060, 'دينار': 3061, 'وسس': 3062, 'اشد': 3063, 'قرطب': 3064, 'غدد؛': 3065, 'قاطع': 3066, 'الس': 3067, 'رقند': 3068, 'تعر': 3069, 'فاس': 3070, 'مكة': 3071, 'كنتيج': 3072, 'نمت': 3073, 'واجد': 3074, 'ثمر': 3075, 'نزع': 3076, 'هشم': 3077, 'هده': 3078, 'عنبر': 3079, 'ثاب': 3080, 'تلث': 3081, 'رزي': 3082, 'تمم': 3083, 'غطت': 3084, 'صناديق': 3085, 'یمرس': 3086, 'بجت': 3087, 'طبب': 3088, 'شاء': 3089, 'دوي': 3090, 'جينيس': 3091, 'قيرو': 3092, 'ؤلف': 3093, 'لين': 3094, 'لبن': 3095, 'مزا': 3096, 'رمند': 3097, 'صلن': 3098, 'حكماء': 3099, 'ليوناردو': 3100, 'ينش': 3101, 'ضيء': 3102, 'ردر': 3103, 'تغط': 3104, 'وحي': 3105, 'نبى': 3106, 'وفالدولة': 3107, 'علل': 3108, 'رقع': 3109, 'كخلق': 3110, 'كمخلوق': 3111, 'ادي': 3112, 'مكي': 3113, 'منظ': 3114, 'تعقيداته': 3115, 'زخم': 3116, 'قلقل': 3117, 'ايديولوجية': 3118, 'صحة': 3119, 'محض': 3120, 'نرى': 3121, 'لرؤ': 3122, 'اركس': 3123, 'ذوو': 3124, 'كدن': 3125, 'نحت': 3126, 'ككل': 3127, 'ؤكد': 3128, 'فتن': 3129, 'عاي': 3130, 'اثن': 3131, 'نقض': 3132, 'دكتور': 3133, 'قرى': 3134, 'ولء': 3135, 'تدن': 3136, 'أقل': 3137, 'صوب': 3138, 'لجو': 3139, 'جهر': 3140, 'قلي': 3141, 'تسك': 3142, 'بعم': 3143, 'كعب': 3144, 'فالجزيرة': 3145, 'كين': 3146, 'طمع': 3147, 'إسقاط': 3148, 'ساس': 3149, 'قضة': 3150, 'عضل': 3151, 'زوج': 3152, 'صبي': 3153, 'أبو': 3154, 'خدج': 3155, 'احق': 3156, 'فالأنصار': 3157, 'بثم': 3158, 'قرش': 3159, 'غيب': 3160, 'نبة': 3161, 'رده': 3162, 'وثم': 3163, 'وست': 3164, 'قتح': 3165, 'رفد': 3166, 'دحر': 3167, 'سسا': 3168, 'قحم': 3169, 'ترم': 3170, 'نعش': 3171, 'خاف': 3172, 'زهد': 3173, 'قصص': 3174, 'قبط': 3175, 'غيظ': 3176, 'حتف': 3177, 'ؤلؤ': 3178, 'ستكون': 3179, 'شورى': 3180, 'حاز': 3181, 'عفن': 3182, 'فاء': 3183, 'رحم': 3184, 'عوف': 3185, 'ملت': 3186, 'قشف': 3187, 'خشى': 3188, 'زجر': 3189, 'استمستاع': 3190, 'ضير': 3191, 'متع': 3192, 'ضطرب': 3193, 'ضطراب': 3194, 'إفراز': 3195, 'منالإنتقاد': 3196, 'بفت': 3197, 'تلم': 3198, 'مقاليد': 3199, 'يوج': 3200, 'تأز': 3201, 'سفي': 3202, 'ممك': 3203, 'طلح': 3204, 'زبر': 3205, 'عهم': 3206, 'عئش': 3207, 'سأل': 3208, 'يدع': 3209, 'لجم': 3210, 'عكرم': 3211, 'لقط': 3212, 'دبا': 3213, 'سيلم': 3214, 'كذب': 3215, 'إنتصر': 3216, 'يمم': 3217, 'علء': 3218, 'فتئ': 3219, 'قوي': 3220, 'مرو': 3221, 'تمر': 3222, 'واز': 3223, 'راس': 3224, 'وبد': 3225, 'ليش': 3226, 'رسخ': 3227, 'وطد': 3228, 'ورك': 3229, 'هلى': 3230, 'واه': 3231, 'قهء': 3232, 'رجء': 3233, 'حتض': 3234, 'وصك': 3235, 'لأب': 3236, 'عمه': 3237, 'البث': 3238, 'لله': 3239, 'درك': 3240, 'خضم': 3241, 'دسس': 3242, 'إخضاع': 3243, 'واستمرار': 3244, 'ؤمر': 3245, 'خين': 3246, 'وامبراطورية': 3247, 'اقم': 3248, 'حجز': 3249, 'كهرومغناطيسي': 3250, 'تره': 3251, 'وجت': 3252, 'فسج': 3253, 'شفف': 3254, 'حيز': 3255, 'موج': 3256, 'راديو': 3257, 'اشع': 3258, 'نيو': 3259, 'ميكانيكي': 3260, 'انع': 3261, 'كسر': 3262, 'صدم': 3263, 'مرن': 3264, 'ؤثر': 3265, 'حيد': 3266, 'فالملاحظ': 3267, 'يسو': 3268, 'هوغنس': 3269, 'لمج': 3270, 'شقي': 3271, 'شقن': 3272, 'ملليمتر': 3273, 'وحظ': 3274, 'ضيئ': 3275, 'ناوب': 3276, 'ختف': 3277, 'مليمتر': 3278, 'كهرومغناطيسية': 3279, 'بإن': 3280, 'حسس': 3281, 'الو': 3282, 'ميكرومتر': 3283, 'انجستروم': 3284, 'للن': 3285, 'رتقال': 3286, 'زرق': 3287, 'علة': 3288, 'حيو': 3289, 'نحل': 3290, 'نقص': 3291, 'اتج': 3292, 'يوم': 3293, 'شي': 3294, 'لظل': 3295, 'عدس': 3296, 'لضء': 3297, 'ننو': 3298, 'شدة': 3299, 'فيم': 3300, 'نعط': 3301, 'واستنادا': 3302, 'ماكسويل': 3303, 'عامد': 3304, 'هرتز': 3305, 'ترددالزاوي': 3306, 'عطى': 3307, 'للي': 3308, 'كهرباء': 3309, 'مصابيح': 3310, 'نسى': 3311, 'لانهائية': 3312, 'جاليلو': 3313, 'أقتنع': 3314, 'يزو': 3315, 'إعطاء': 3316, 'كوكب': 3317, 'مغناطيسية': 3318, 'كهروضوئي': 3319, 'كهرضوئ': 3320, 'ايل': 3321, 'نقس': 3322, 'تير': 3323, 'ناسب': 3324, 'عددالإلكترون': 3325, 'كمت': 3326, 'وتو': 3327, 'جداءالتواتر': 3328, 'بثب': 3329, 'بلن': 3330, 'إشعاع': 3331, 'جو': 3332, 'توهج': 3333, 'كضء': 3334, 'كأشع': 3335, 'نير': 3336, 'صهر': 3337, 'وهج': 3338, 'تسخ': 3339, 'زرقاء': 3340, 'نره': 3341, 'متص': 3342, 'خيط': 3343, 'لقئ': 3344, 'غزي': 3345, 'بخر': 3346, 'زئبق': 3347, 'سخن': 3348, 'يزر': 3349, 'ايزر': 3350, 'بطؤ': 3351, 'مرئ': 3352, 'سيكلوترو': 3353, 'أشع': 3354, 'شيرنكوف': 3355, 'ألق': 3356, 'وكذ': 3357, 'حيي': 3358, 'يرع': 3359, 'تضء': 3360, 'طقي': 3361, 'هبط': 3362, 'غما': 3363, 'يزت': 3364, 'ضءة': 3365, 'تنه': 3366, 'يكلس': 3367, 'لحل': 3368, 'غنت': 3369, 'أثب': 3370, 'منة': 3371, 'جانس': 3372, 'سدل': 3373, 'صطدم': 3374, 'كاصطدام': 3375, 'خرق': 3376, 'ائي': 3377, 'نص': 3378, 'ذبذب': 3379, 'سما': 3380, 'مار': 3381, 'روجل': 3382, 'نال': 3383, 'ينص': 3384, 'زدج': 3385, 'كهروضوئية': 3386, 'كومب': 3387, 'ويع': 3388, 'وكم': 3389, 'كحر': 3390, 'كهرومغناطيسيةعبارة': 3391, 'وافق': 3392, 'حر': 3393, 'كسولاريس': 3394, 'منص': 3395, 'طوع': 3396, 'أعداد': 3397, 'مستخدميه': 3398, 'نظا': 3399, 'حرا': 3400, 'جان': 3401, 'سعر': 3402, 'نكه': 3403, 'جزم': 3404, 'تحدث': 3405, 'حرت': 3406, 'يعف': 3407, 'ضطرار': 3408, 'حكر': 3409, 'أدو': 3410, 'تلو': 3411, 'اعد': 3412, 'هيرد': 3413, 'ماخ': 3414, 'كها': 3415, 'نلد': 3416, 'ينس': 3417, 'تورفالدز': 3418, 'هلس': 3419, 'مينيكس': 3420, 'ساذ': 3421, 'تانينباوم': 3422, 'ينكس': 3423, 'تثب': 3424, 'يلو': 3425, 'ظيفيا؛': 3426, 'تخص': 3427, 'وبالإشارة': 3428, 'تمثل': 3429, 'نله': 3430, 'اهم': 3431, 'يرس': 3432, 'بآل': 3433, 'ودم': 3434, 'ماكنتوش': 3435, 'باستعمال': 3436, 'كرر': 3437, 'ادء': 3438, 'شبع': 3439, 'كنظام': 3440, 'لائ': 3441, 'أسرع': 3442, 'خمسمائ': 3443, 'سبر': 3444, 'ناط': 3445, 'كبئ': 3446, 'سلي': 3447, 'خلي': 3448, 'حرج': 3449, 'صمبم': 3450, 'رفر': 3451, 'كخوادم': 3452, 'نما': 3453, 'كجزء': 3454, 'تطبيقاته': 3455, 'اختيارات': 3456, 'نسق': 3457, 'أهداف': 3458, 'رجا': 3459, 'وفذ': 3460, 'جنم': 3461, 'طقم': 3462, 'ذوي': 3463, 'جيك': 3464, 'اضة': 3465, 'حرة؛': 3466, 'احتياجاته': 3467, 'وارتياحه': 3468, 'كالآى': 3469, 'أعضائ': 3470, 'طفف': 3471, 'اون': 3472, 'باستخدامه': 3473, 'ظمت': 3474, 'لمر': 3475, 'إدر': 3476, 'كمصدر': 3477, 'تعض': 3478, 'رلم': 3479, 'فلد': 3480, 'شعة': 3481, 'عاه': 3482, 'تشو': 3483, 'إعق': 3484, 'جرع': 3485, 'كئن': 3486, 'حشر': 3487, 'ثدي': 3488, 'محط': 3489, 'نفط': 3490, 'فحم': 3491, 'لنف': 3492, 'ميليجرام': 3493, 'واط': 3494, 'بدف': 3495, 'جيولوجية': 3496, 'لقر': 3497, 'ونيوترون': 3498, 'ضرة': 3499, 'طربق': 3500, 'قنب': 3501, 'حبث': 3502, 'واق': 3503, 'نري': 3504, 'غلي': 3505, 'ئوة': 3506, 'زعنف': 3507, 'يدر': 3508, 'يجا': 3509, 'تكف': 3510, 'زئد': 3511, 'فكل': 3512, 'لاستخدامة': 3513, 'طفة': 3514, 'كخم': 3515, 'وحن': 3516, 'تحك': 3517, 'حلا': 3518, 'كتفاعل': 3519, '993': 3520, 'بخص': 3521, 'مصص': 3522, 'انشطارية': 3523, 'وانجلترا': 3524, 'كوسيط': 3525, 'ثقل': 3526, 'إمداد': 3527, 'يجو': 3528, 'هكسافلوريد': 3529, 'سقر': 3530, 'يتر': 3531, 'تفجر': 3532, 'غشء': 3533, 'لذر': 3534, 'لغز': 3535, 'بكس': 3536, 'وكر': 3537, 'نفث': 3538, 'تثر': 3539, 'الكتروستاتيكي': 3540, 'كمبرد': 3541, 'واستعمال': 3542, 'امs': 3543, 'ديوتيريوم': 3544, 'كاندو': 3545, 'هاء': 3546, 'فقم': 3547, 'حبس': 3548, 'ترل': 3549, 'كلوديو': 3550, 'ميريلاند': 3551, 'أذرع': 3552, 'صطدام': 3553, 'يتح': 3554, 'بطأ': 3555, 'إبطاء': 3556, 'كمفاعل': 3557, 'بيريليوم': 3558, 'طبي': 3559, 'ية؟': 3560, 'كهربائية؛': 3561, 'تمد': 3562, 'احتياجات': 3563, 'فطن': 3564, 'راميل': 3565, 'اطن': 3566, 'كغز': 3567, 'ترج': 3568, 'مطر': 3569, 'حمض': 3570, 'ضبب': 3571, 'دخا': 3572, 'ائة': 3573, 'لاسترجاع': 3574, 'واستخدامه': 3575, 'كوقود': 3576, 'تظل': 3577, 'يجد': 3578, 'بسء': 3579, 'تشيرنوبل': 3580, 'أوكر': 3581, 'فظع': 3582, 'أنشاء': 3583, 'ديمتر': 3584, 'هنر': 3585, 'يحل': 3586, 'تلى': 3587, 'بغض': 3588, 'آصل': 3589, 'ماس': 3590, 'كلر': 3591, 'آكل': 3592, 'بشد': 3593, 'لتك': 3594, 'هاليد': 3595, 'لافوازييه': 3596, 'وأز': 3597, 'كيماو': 3598, 'دوبرينر': 3599, 'بوتاسيوم': 3600, 'كالسيوم': 3601, 'استرونشيوم': 3602, 'يود': 3603, 'نيولاندز': 3604, 'اوز': 3605, 'بمد': 3606, 'توبوليسك': 3607, 'مباديء': 3608, 'فلو': 3609, 'دوبرينير': 3610, 'جليزى': 3611, 'ريي': 3612, 'وسق': 3613, 'وثر': 3614, 'اير': 3615, 'ميندليف': 3616, 'جلن': 3617, 'تى': 3618, 'ورج': 3619, 'لانثينيد': 3620, 'كتينيد': 3621, 'ملاحظاته': 3622, 'وفيزيائية': 3623, 'بدت': 3624, 'تحت': 3625, 'ملآ': 3626, 'اسكانيديوم': 3627, 'جاليوم': 3628, 'وجرمانيوم': 3629, 'لتب': 3630, 'كيمائ': 3631, 'ككر': 3632, 'طومس': 3633, 'يرا': 3634, 'تبر': 3635, 'غمض': 3636, 'للح': 3637, 'توعج': 3638, 'أجزاء': 3639, 'ايج': 3640, 'جولدش': 3641, 'لرزرفورد': 3642, 'شخن': 3643, 'كدي': 3644, 'ققل': 3645, 'نفر': 3646, 'بروتوناتى': 3647, 'شابعى': 3648, 'شحت': 3649, 'كهربائيى': 3650, 'قي': 3651, 'غبر': 3652, 'عتصر': 3653, 'جطا': 3654, 'وبالنواة': 3655, 'خفبف': 3656, 'كهروبائية': 3657, 'عنر': 3658, 'جسبم': 3659, 'أكسج': 3660, 'ه29': 3661, 'فأم': 3662, 'حدسث': 3663, 'كتلاو': 3664, 'الكتلاون': 3665, 'بروتوناتبالنواة': 3666, 'شجن': 3667, 'اين': 3668, 'فالهيدروج': 3669, 'ديتريم': 3670, 'فالمجموعة': 3671, 'رسمب': 3672, 'هيدروجينhydrogen': 3673, 'هليوم': 3674, 'فالهيليومhe': 3675, 'لايتفاعل': 3676, 'ماغنيسيوم': 3677, 'نشرالجدول': 3678, 'أحجام': 3679, 'ويل': 3680, 'تله': 3681, 'انتقالية': 3682, 'قصدير': 3683, 'لصف': 3684, 'فقي': 3685, 'أقص': 3686, 'هلج': 3687, 'كمواد': 3688, 'حدس': 3689, 'فرانشيوم': 3690, 'يكو': 3691, 'نته': 3692, 'رمزهs': 3693, 'أسل': 3694, 'تطس': 3695, 'ردئ': 3696, 'حررو': 3697, 'هشة': 3698, 'إكتساب': 3699, 'ولل': 3700, 'تان': 3701, 'فيز': 3702, 'بزغ': 3703, 'كعلم': 3704, 'وباعتبار': 3705, 'ديناميكا': 3706, 'حديثة؛': 3707, 'الكتروني؛': 3708, 'وتطبيقية': 3709, 'أبحاث': 3710, 'خطئ': 3711, 'ضام': 3712, 'فالمعادلة': 3713, 'قمر': 3714, 'واستدلالي': 3715, 'ارسطوطاليسية': 3716, 'هيم': 3717, 'يرث': 3718, 'نقح': 3719, 'وبطليموس': 3720, 'إبتكار': 3721, 'هيثم': 3722, 'رئد': 3723, 'بتا': 3724, 'طليموس': 3725, 'بجة': 3726, 'جذة': 3727, 'رانسيس': 3728, 'بيك': 3729, 'وغاليليو': 3730, 'غاليل': 3731, 'إسحاق': 3732, 'نهئ': 3733, 'كلاسيكية': 3734, 'غوتفريد': 3735, 'نتز': 3736, 'وديناميكا': 3737, 'زمك': 3738, 'وقوانينه': 3739, 'استاتيكا': 3740, 'كينماتيكا': 3741, 'ومه': 3742, 'استمرارية': 3743, 'قسمين؛': 3744, 'وميكانيكا': 3745, 'وئع': 3746, 'مواضيع': 3747, 'هيدروستاتيكا': 3748, 'هيدروديناميكا': 3749, 'لقو': 3750, 'جرنج': 3751, 'نبو': 3752, 'مشى': 3753, 'تكد': 3754, 'بعا': 3755, 'نبئ': 3756, 'شوش': 3757, 'فاح': 3758, 'ثل؛': 3759, 'كيبلر': 3760, 'لحر': 3761, 'صرخ': 3762, 'افل': 3763, 'كعنصر': 3764, 'كهرطيسية': 3765, 'كهرطيس': 3766, 'مغنطيسية': 3767, 'رنتز': 3768, 'كولوم': 3769, 'رعد': 3770, 'نضو': 3771, 'وعم': 3772, 'تفض': 3773, 'ابب': 3774, 'تشع': 3775, 'رنة': 3776, 'ترموديناميكا': 3777, 'كمن': 3778, 'ورئ': 3779, 'تخض': 3780, 'سنج': 3781, 'كما': 3782, 'لحة': 3783, 'ديناميكية': 3784, 'ظمة؛': 3785, 'سدي': 3786, 'كارنو': 3787, 'رودلف': 3788, 'كتس': 3789, 'مجالات؛': 3790, 'وتش': 3791, 'هندر': 3792, 'رنتس': 3793, 'بوانكاريه': 3794, 'هم؛': 3795, 'تدع': 3796, 'لثب': 3797, 'وقن': 3798, 'حنئ': 3799, 'كمي': 3800, 'كلس': 3801, 'عطرد': 3802, 'شذة': 3803, 'كني': 3804, 'تنل': 3805, 'زيح': 3806, 'كسف': 3807, 'إنحناء': 3808, 'رءى': 3809, 'ودء': 3810, 'ذرية؛': 3811, 'واستقرار': 3812, 'درا': 3813, 'تقطع': 3814, 'كوانتوم': 3815, 'برل': 3816, 'ثنو': 3817, 'شرودنغر': 3818, 'نطو': 3819, 'هايزنبرغ': 3820, 'يقن': 3821, 'يضع': 3822, 'حدا': 3823, 'فيزيائيي': 3824, 'يهم': 3825, 'بصغ': 3826, 'زيتر': 3827, 'ترانزستور': 3828, 'ومح': 3829, 'مستقبلية': 3830, 'معلوماتية': 3831, 'بمن': 3832, 'فالبرتغال': 3833, 'أكبر': 3834, 'ليختنشتا': 3835, 'قسى': 3836, 'لوز': 3837, 'كولار': 3838, 'مواليد': 3839, 'كريشيو': 3840, 'غريميو': 3841, 'يرر': 3842, 'ريتو': 3843, 'ديكو': 3844, 'كاب': 3845, 'لوء': 3846, 'نجر': 3847, 'مانشيستر': 3848, 'لل': 3849, 'دهى': 3850, 'عضا': 3851, 'مونديال': 3852, 'لوج': 3853, 'لخس': 3854, 'ورس': 3855, 'خوس': 3856, 'وإف': 3857, 'تشف': 3858, 'فجأ': 3859, 'لإيزوبيو': 3860, 'لأنتونيو': 3861, 'واس': 3862, 'دراماتيكية': 3863, 'ماأراد': 3864, 'هتر': 3865, 'لأوزيبيو': 3866, 'وفز': 3867, 'فجه': 3868, 'بأوزيبيو': 3869, 'سبت': 3870, 'لمونديال': 3871, 'تذق': 3872, 'سوز': 3873, 'امغ': 3874, 'خورداو': 3875, 'فيلوردوم': 3876, 'جد': 3877, 'هزل': 3878, 'كارلوس': 3879, 'مانويل': 3880, 'ولو': 3881, 'ديامانتينو': 3882, 'ميراند': 3883, 'فحل': 3884, 'فزت': 3885, 'ليشتنشتا': 3886, 'لفرناندو': 3887, 'كوتو': 3888, 'كرا': 3889, 'إمضاء': 3890, 'يغو': 3891, 'جوو': 3892, 'نتو': 3893, 'ودومينغوس': 3894, 'دانمار': 3895, 'قضى': 3896, 'بوبورسكي': 3897, 'غوميش': 3898, 'كوس': 3899, 'كونسيساو': 3900, 'مهد': 3901, 'ديك': 3902, 'حده': 3903, 'لباوليتا': 3904, 'عثر': 3905, 'بمونديال': 3906, 'إقل': 3907, 'عان': 3908, 'بسكولاري': 3909, 'كبديل': 3910, 'كوت': 3911, 'سيئ': 3912, 'انش': 3913, 'وري': 3914, 'بكء': 3915, 'يمو': 3916, 'صده': 3917, 'جيرارد': 3918, 'زيزو': 3919, 'مايرام': 3920, 'بيب': 3921, 'رول': 3922, 'ميريليش': 3923, 'كواريش': 3924, 'ورونالدو': 3925, 'رجج': 3926, 'شلس': 3927, 'وباوليتا': 3928, 'الط': 3929, 'يغل': 3930, 'وسو': 3931, 'بمشاركات': 3932, 'رؤل': 3933, 'غونزاليس': 3934, 'فتى': 3935, 'عام1994': 3936, 'دءه': 3937, 'فنا': 3938, 'انت': 3939, 'كجز': 3940, 'تبل': 3941, 'حاء': 3942, 'بتل': 3943, 'مفاجيء': 3944, 'تلح': 3945, 'غونزاليز': 3946, 'نكو': 3947, 'روماريدا': 3948, 'رقسط': 3949, 'غرم': 3950, 'رأوول': 3951, 'هيب': 3952, 'ليغ': 3953, 'غاب': 3954, 'فيرناندو': 3955, 'هييرو': 3956, 'لفئ': 3957, 'خورخ': 3958, 'دنو': 3959, 'ذهي': 3960, 'رومايد': 3961, 'امافيسكا': 3962, 'اسف': 3963, 'لقء': 3964, 'شبل': 3965, 'كلاسيكو': 3966, 'سلت': 3967, 'أستطاع': 3968, 'فزق': 3969, 'أفضل': 3970, 'صقر': 3971, 'بوتراغوينيو': 3972, 'يرز': 3973, 'يتس': 3974, 'ومياتوفيتش': 3975, 'تعي': 3976, 'كابيلو': 3977, 'أشر': 3978, 'هاينكس': 3979, 'ظفر': 3980, 'نتس': 3981, 'نظف': 3982, 'صرب': 3983, 'مياتوفيتش': 3984, 'باستفتاء': 3985, 'كاس': 3986, 'درف': 3987, 'راغ': 3988, 'سكو': 3989, 'غوس': 3990, 'هيد': 3991, 'يتش': 3992, 'كبس': 3993, 'كأفضل': 3994, 'فست': 3995, 'ديل': 3996, 'بوس': 3997, 'مورينتس': 3998, 'مو': 3999, 'جرت': 4000, 'كوكنسياو': 4001, 'ولسرقسطه': 4002, 'رنابيو': 4003, 'رينغ': 4004, 'أحتل': 4005, 'ألتقى': 4006, 'بايرليفركوزن': 4007, 'أفتتح': 4008, 'بوت': 4009, 'أحرز': 4010, 'لمهم': 4011, 'رندو': 4012, 'جلاكتيوس': 4013, 'موريانتس': 4014, 'رلد': 4015, 'كبة': 4016, 'وخب': 4017, 'موسم96': 4018, 'كجناح': 4019, 'اشء': 4020, 'حست': 4021, 'ليق': 4022, 'رند': 4023, 'شوستر': 4024, 'شيز': 4025, 'ضيف': 4026, 'ذلة': 4027, 'خند': 4028, 'رمس': 4029, 'ريديو': 4030, 'ديستيفانو': 4031, 'زكر': 4032, 'الر': 4033, 'عقاقير': 4034, 'ومتضاربة': 4035, 'أصل': 4036, 'زدحم': 4037, 'رضى': 4038, 'هرة': 4039, 'طبء': 4040, 'هنت': 4041, 'ريع': 4042, 'ظنهم': 4043, 'بخز': 4044, 'بأكسفورد': 4045, 'قطف': 4046, 'برأ': 4047, 'أمراض': 4048, 'صح': 4049, 'زما': 4050, 'سرف': 4051, 'ومخاصمات': 4052, 'جفي': 4053, 'لهو': 4054, 'فرط': 4055, 'سئر': 4056, 'مدح': 4057, 'زمم': 4058, 'زمو': 4059, 'عتبر': 4060, 'عتمد': 4061, 'يزا': 4062, 'مؤم': 4063, 'قرط': 4064, 'حبا': 4065, 'باستمرار': 4066, 'جل': 4067, 'قدى': 4068, 'فكم': 4069, 'عسه': 4070, 'واستخراجه': 4071, 'أشد': 4072, 'بتة': 4073, 'جالينوس': 4074, 'ندم': 4075, 'قفط': 4076, 'هرس': 4077, 'ضعت': 4078, 'يزد': 4079, 'ائت': 4080, 'بهم': 4081, 'ؤرخو': 4082, 'قدمى': 4083, 'ردف': 4084, 'لغه': 4085, 'اتن': 4086, 'برش': 4087, 'ررا': 4088, 'تضح': 4089, 'يكد': 4090, 'فصد': 4091, 'وكن': 4092, 'تهب': 4093, 'سحي': 4094, 'تعمد': 4095, 'ستد': 4096, 'رأا': 4097, 'شيق': 4098, 'كوفئ': 4099, 'دبر': 4100, 'وسن': 4101, 'عسر': 4102, 'مرأ': 4103, 'عذر': 4104, 'أخبر': 4105, 'تطبب': 4106, 'أسهل': 4107, 'أنزل': 4108, 'فمه': 4109, 'تمط': 4110, 'كيل': 4111, 'رحة': 4112, 'فبق': 4113, 'تخلف': 4114, 'قارىء': 4115, 'فيك': 4116, 'عز': 4117, 'غزر': 4118, 'نقد': 4119, 'بره': 4120, 'نبض': 4121, 'تعمق': 4122, 'خشة': 4123, 'شكك': 4124, 'عنفو': 4125, 'باستغنام': 4126, 'واستلذاذ': 4127, 'نه؟': 4128, 'أجد': 4129, 'ضضا': 4130, 'بلت': 4131, 'نفع': 4132, 'قفي': 4133, 'قيت': 4134, 'قرظ': 4135, 'لجالينوس': 4136, 'كأستاذ': 4137, 'رؤساء': 4138, 'قصء': 4139, 'تعلم': 4140, 'لام': 4141, 'نبذ': 4142, 'بسن': 4143, 'رعع': 4144, 'فلط': 4145, 'لسن': 4146, 'نجا': 4147, 'شدخ': 4148, 'شئت': 4149, 'يصر': 4150, 'قدماء': 4151, 'أقدر': 4152, 'جمة': 4153, 'مخطوطاته': 4154, 'خرم': 4155, 'أخطاء': 4156, 'وضق': 4157, 'يضق': 4158, 'تضق': 4159, 'حسة': 4160, 'ؤلم': 4161, 'أفرأط': 4162, 'فهئ': 4163, 'كرجل': 4164, 'ربخ': 4165, 'فم': 4166, 'وصم': 4167, 'حجت': 4168, 'متى': 4169, 'شله': 4170, 'فلأ': 4171, 'حاس': 4172, 'فته': 4173, 'فات': 4174, 'تهء': 4175, 'شبح': 4176, 'قسر': 4177, 'نسد': 4178, 'يثب': 4179, 'اتة': 4180, 'حوس': 4181, 'اجف': 4182, 'قاطاجانس': 4183, 'إنس': 4184, 'قط': 4185, 'نر': 4186, 'داا': 4187, 'ولانحطاط': 4188, 'وغذ': 4189, 'غلظ': 4190, 'شتد': 4191, 'وزد': 4192, 'تدء': 4193, 'نفض': 4194, 'لغب': 4195, 'يرق': 4196, 'أخبرو': 4197, 'أسماء': 4198, 'نبغ': 4199, 'كحكم': 4200, 'تمئ': 4201, 'راز': 4202, 'لضح': 4203, 'صحت': 4204, 'رأه': 4205, 'بيء': 4206, 'حيل': 4207, 'ادی': 4208, 'جرئ': 4209, 'وأس': 4210, 'غاؤ': 4211, 'واستبدلت': 4212, 'مبارياته': 4213, 'سانتياغو': 4214, 'بيرنابيو': 4215, 'جماهيرية': 4216, 'هارفارد': 4217, 'يزن': 4218, 'سني': 4219, 'سكي': 4220, 'ونكل': 4221, 'لبو': 4222, 'ملينديز': 4223, 'أتبع': 4224, 'بناءالفريق': 4225, 'باستراتيجية': 4226, 'فنو': 4227, 'فرانشيسكو': 4228, 'خينتو': 4229, 'عجف': 4230, 'عزم': 4231, 'كانافارو': 4232, 'نيستيلروي': 4233, 'طوح': 4234, 'مامادو': 4235, 'دفعج': 4236, 'ريس': 4237, 'يضء': 4238, 'ريكرياتيفو': 4239, 'شتي': 4240, 'إنتداب': 4241, 'غونزالو': 4242, 'هيغو': 4243, 'وفرناندو': 4244, 'غغو': 4245, 'ارجنتيني': 4246, 'ومارسيلو': 4247, 'ذلك': 4248, 'كاتالو': 4249, 'إشبيل': 4250, 'رينق': 4251, 'حان': 4252, 'كاتالونية': 4253, 'كمب': 4254, 'ونل': 4255, 'يسي': 4256, 'كاتلو': 4257, 'لتن': 4258, 'برازيلية': 4259, 'روبيرتو': 4260, 'كاي': 4261, 'ليس': 4262, 'كأسرع': 4263, 'ثون': 4264, 'فمع': 4265, 'جئو': 4266, 'دهي': 4267, 'إشر': 4268, 'سمب': 4269, 'روبينيو': 4270, 'رجو': 4271, 'إلغائ': 4272, 'دوع': 4273, 'يد؟': 4274, 'ميرينغ': 4275, 'رجعو': 4276, 'صبة': 4277, 'ليئ': 4278, 'ثرة': 4279, 'بثو': 4280, 'بند': 4281, 'رهن': 4282, 'ليتو': 4283, 'دييغو': 4284, 'ارغ': 4285, 'نو': 4286, 'خيب': 4287, 'نهز': 4288, 'جره': 4289, 'جدة': 4290, 'صبر': 4291, 'نستيلروي': 4292, 'كاتالوني': 4293, 'تذل': 4294, 'خمناستيك': 4295, 'رغو': 4296, 'بث': 4297, 'سمم': 4298, 'مايوركية': 4299, 'كامبيونس': 4300, 'وضل': 4301, 'لاستقبال': 4302, 'شيرمار': 4303, 'كسل': 4304, 'تفرج': 4305, 'بلينينسيش': 4306, 'استيعابية': 4307, 'كبيرحتى': 4308, 'قلص': 4309, 'استعابية': 4310, 'واستبدال': 4311, 'لاستضافة': 4312, 'أحرف': 4313, 'ريميس': 4314, 'كإعاد': 4315, 'كاسانو': 4316, 'ددو': 4317, 'خورادو': 4318, 'فالديبابيس': 4319, 'يعب': 4320, 'مايقارب': 4321, 'هونتييولو': 4322, 'ثان': 4323, 'كاسياس': 4324, 'صمد': 4325, 'كأكثر': 4326, 'تخط': 4327, 'أقرب': 4328, 'رلي': 4329, 'بصم': 4330, 'مارس1953': 4331, 'نبه': 4332, 'ذتي': 4333, 'قمس': 4334, 'هكر': 4335, 'ماساتشوستس': 4336, 'حبة': 4337, 'طهي': 4338, 'رمجة؛': 4339, 'أتقاضى': 4340, 'هوي': 4341, 'زلن': 4342, 'كامبريدج': 4343, 'اثو': 4344, 'يكر': 4345, 'كإنس': 4346, 'كمبرمج': 4347, 'وبالتحديد': 4348, 'شيفر': 4349, 'واستخدام': 4350, 'ديجيتال': 4351, 'وائ': 4352, 'تطلب': 4353, 'سيمبولكس': 4354, 'جرك': 4355, 'تسل': 4356, 'نقم': 4357, 'تنف': 4358, 'فحر': 4359, 'إتح': 4360, 'صيع': 4361, 'ورأ': 4362, 'سلو': 4363, 'قرف': 4364, 'وبأ': 4365, 'أقض': 4366, 'خجل': 4367, 'سأك': 4368, 'ؤيدو': 4369, 'وضة': 4370, 'هنل': 4371, 'بهي': 4372, 'فشر': 4373, 'روج': 4374, 'لثر': 4375, 'تورفالدس': 4376, 'مجل': 4377, 'بعي': 4378, 'نجي': 4379, 'وانطلاقا': 4380, 'كشيفر': 4381, 'أدي': 4382, 'برمجياته': 4383, 'أتح': 4384, 'شوه': 4385, 'ومجاني—وهو': 4386, 'وذت': 4387, 'مغر': 4388, 'وخم': 4389, 'غلل': 4390, 'تفد': 4391, 'بشء': 4392, 'يغط': 4393, 'كومبيوتر': 4394, 'يأس': 4395, 'تأكد': 4396, 'بحم': 4397, 'فمذ': 4398, 'علت؟': 4399, 'أحم': 4400, 'معر': 4401, 'ندا': 4402, 'حري': 4403, 'دستور': 4404, 'هلع': 4405, 'سدت': 4406, 'جوء': 4407, 'أسو': 4408, 'وكي': 4409, 'اصب': 4410, 'ثانوية—أي': 4411, 'حترس': 4412, 'ميت': 4413, 'كونغرس': 4414, 'عدى': 4415, 'جسس': 4416, 'يند': 4417, 'فحص': 4418, 'تحمس': 4419, 'استخبارية': 4420, 'ثغر': 4421, 'واستهداف': 4422, 'ورط': 4423, 'تنم': 4424, 'ضحة': 4425, 'تالية—لا': 4426, 'عامابسبب': 4427, 'اوروجواي': 4428, 'اذا': 4429, 'لنل': 4430, 'لذك': 4431, 'عندمافازت': 4432, 'زوتحقق': 4433, 'أوقف': 4434, 'لحس': 4435, 'حظهم': 4436, 'مارادو': 4437, 'رازايل': 4438, 'استضافته': 4439, 'وحة': 4440, 'اذ': 4441, 'يشر': 4442, 'حزر': 4443, 'حظى': 4444, 'وأيرلندا': 4445, 'استعراضية': 4446, 'اولمبياد': 4447, 'يمب': 4448, 'هاي': 4449, 'ليب': 4450, 'حوت': 4451, 'هاو': 4452, 'دورام': 4453, 'ابد': 4454, 'اوليمبية': 4455, 'اوروغواي': 4456, 'ذكرى': 4457, 'لاستقلال': 4458, 'دشن': 4459, 'كمك': 4460, 'أوروب': 4461, 'ويوغسلاف': 4462, 'فزا': 4463, 'لوش': 4464, 'مونتيفديو': 4465, 'تفز': 4466, 'بإستثناء': 4467, 'تقدم': 4468, 'كوستاريكا': 4469, 'نغل': 4470, 'غنا': 4471, 'اقى': 4472, 'سنح': 4473, 'لصص': 4474, 'لفو': 4475, 'غازانيغا': 4476, 'سم': 4477, 'قيراط': 4478, 'ستة': 4479, 'لجء': 4480, 'الق': 4481, 'ذيت': 4482, 'لإستضافة': 4483, 'تضف': 4484, 'لسر': 4485, 'لرف': 4486, 'انفصلتbell': 4487, 'هانيويل': 4488, 'زاح': 4489, 'ريتش': 4490, 'هال': 4491, 'ريكل': 4492, 'يفر': 4493, 'نصي': 4494, 'سكل': 4495, 'ستف': 4496, 'جونس': 4497, 'نعد': 4498, 'باصداراته': 4499, 'منهاtcp': 4500, 'بعت': 4501, 'زعج': 4502, 'خطو': 4503, 'رد': 4504, 'ضده': 4505, 'ميكروسوفت': 4506, 'شرت': 4507, 'فدة': 4508, 'بيئةopen': 4509, 'ظلة': 4510, 'كهذ': 4511, 'صدد': 4512, 'نافس': 4513, 'نسي': 4514, 'ستوكهولم': 4515, 'تون': 4516, 'اثي': 4517, 'لإستظافة': 4518, 'يفس': 4519, 'ميم': 4520, 'وأخ': 4521, 'عنة': 4522, 'نطد': 4523, 'جو\\u200f': 4524, 'مبكر\\u200f\\u200f': 4525, 'نن\\u200f': 4526, 'نح\\u200f': 4527, 'فاق': 4528, 'ساه': 4529, 'استرالية': 4530, 'يلى': 4531, 'هلة': 4532, 'ران': 4533, 'مستكاوى': 4534, 'فيل': 4535, 'مصم': 4536, 'يحئ': 4537, 'ديمترس': 4538, 'بابايوانو': 4539, 'كوستاس': 4540, 'ستيفانوبولوس': 4541, 'معل': 4542, 'طبل': 4543, 'عد': 4544, 'مؤد': 4545, 'بصت': 4546, 'خفق': 4547, 'كبرب': 4548, 'حلق': 4549, 'عئم': 4550, 'وحى': 4551, 'لبث': 4552, 'عيم': 4553, 'عري': 4554, 'درل': 4555, 'وحا': 4556, 'هجئ': 4557, 'فلب': 4558, 'وبمشاركة': 4559, 'حبب': 4560, 'قولاس': 4561, 'كاكلاماناكيس': 4562, 'حئز': 4563, 'طلء': 4564, 'شاة': 4565, 'يبس': 4566, 'لسع': 4567, 'زعماء': 4568, 'شطئ': 4569, 'عاقد': 4570, 'دمة': 4571, 'كشعار': 4572, 'مكسيكو': 4573, 'نمر': 4574, 'رقط': 4575, 'وسكو': 4576, 'لدب': 4577, 'يشا': 4578, 'نقب': 4579, 'لأث': 4580, 'يوس': 4581, 'شقق': 4582, 'الز': 4583, 'قتم': 4584, 'أرجل': 4585, 'عله': 4586, 'اخة': 4587, 'ساا': 4588, 'أصدقاء': 4589, 'ترف': 4590, 'وأفتتاحة': 4591, 'ردت': 4592, 'تخف': 4593, 'كعد': 4594, 'جئت': 4595, 'كرج': 4596, 'سفت': 4597, 'ببه': 4598, 'بافورنورمي': 4599, 'رونز': 4600, 'سابق': 4601, 'حسر': 4602, 'جودو': 4603, 'غطس': 4604, 'جيبو': 4605, 'انن': 4606, 'بقه': 4607, 'فضح': 4608, 'مانراش': 4609, 'كتم': 4610, 'جاك': 4611, 'قضه': 4612, 'منتافس': 4613, 'تلا': 4614, 'عزف': 4615, 'طرب': 4616, 'ننب': 4617, 'روسوم': 4618, 'فصر': 4619, 'منم': 4620, 'وقب': 4621, 'نسر': 4622, 'قبب': 4623, 'محاريب': 4624, 'أضرح': 4625, 'لفي': 4626, 'أقدس': 4627, 'ربي': 4628, 'للم': 4629, 'فخم': 4630, 'كورنث': 4631, 'ودس': 4632, 'ستع': 4633, 'أفخم': 4634, 'أنشئ': 4635, 'أعطى': 4636, 'لسك': 4637, 'إثر': 4638, 'هيكل': 4639, 'نوس': 4640, 'بحا': 4641, 'صخر': 4642, 'راكم': 4643, 'صومع': 4644, 'عيض': 4645, 'صمع': 4646, 'آذن': 4647, 'وحس': 4648, 'وإشبيلية': 4649, 'زفس': 4650, 'صال': 4651, 'مقر': 4652, 'دلع': 4653, 'أثرياء': 4654, 'بقب': 4655, 'مآذ': 4656, 'تتش': 4657, 'وشت': 4658, 'تيج': 4659, 'ابه': 4660, 'لايوازيه': 4661, 'وملاحقاته': 4662, 'زلزل': 4663, 'جهء': 4664, 'بزن': 4665, 'قيل': 4666, 'مغش': 4667, 'بقو': 4668, 'وظل': 4669, 'ناب': 4670, 'غسل': 4671, 'أبواب': 4672, 'وسد': 4673, 'أدى': 4674, 'إزل': 4675, 'قاض': 4676, 'بشا': 4677, 'إشراف': 4678, 'ظره': 4679, 'أحجار': 4680, 'اضف': 4681, 'وبفخامته': 4682, 'وبب': 4683, 'راكب': 4684, 'سنم': 4685, 'فسيفسائية': 4686, 'ؤخر': 4687, 'يضم': 4688, 'خزف': 4689, 'وبروتوكول': 4690, 'لبئ': 4691, 'فالبرامج': 4692, 'كبير؛': 4693, 'أساليب': 4694, 'زبن': 4695, 'كبرنامج': 4696, 'أشرط': 4697, 'ديرو': 4698, 'ثلي': 4699, 'دى': 4700, 'ميتاسيتى': 4701, 'وكى': 4702, 'نجى': 4703, 'رجعى': 4704, 'يضف': 4705, 'كنقل': 4706, 'لس': 4707, 'قنى': 4708, 'سسى': 4709, 'مستخدمى': 4710, 'هيل': 4711, 'كسطح': 4712, 'تعت': 4713, 'كنفذ': 4714, 'كعميل': 4715, 'ثلى': 4716, 'يصف': 4717, 'توص': 4718, 'وذجى': 4719, 'احتكارية': 4720, 'عتبرو': 4721, 'سيء': 4722, 'لجه': 4723, 'لوق': 4724, 'ولآ': 4725, 'مبرمجى': 4726, 'افتراضية': 4727, 'استقلالية': 4728, 'غرس': 4729, 'كوارتز': 4730, 'بمك': 4731, 'رعى': 4732, 'واستبداله': 4733, 'dri': 4734, 'زيروكس': 4735, 'ليز': 4736, 'دبليو': 4737, 'ماستشوشتش': 4738, 'كتع': 4739, 'غيتيس': 4740, 'شيفلر': 4741, 'ناغر': 4742, 'كارنيج': 4743, 'تزم': 4744, 'ببرتوكول': 4745, 'نيم': 4746, 'كمنتج': 4747, 'ديسيمبر': 4748, 'ككتل': 4749, 'كمشروع': 4750}\n",
            "Embedding Matrix shape: (4751, 300)\n"
          ]
        }
      ]
    },
    {
      "cell_type": "code",
      "source": [
        "# load embedding layer and set it's weights\n",
        "embedding_layer = Embedding(vocab_size, TOTAL_EMBEDDING_DIM, weights=[embedding_matrix], input_length=10, trainable=False)"
      ],
      "metadata": {
        "id": "O3UVeK58zsXj"
      },
      "execution_count": null,
      "outputs": []
    },
    {
      "cell_type": "code",
      "source": [
        "# define model\n",
        "input_placeholder = Input(shape=(10,))\n",
        "input_embedding = embedding_layer(input_placeholder)\n",
        "hidden_layer = Dense(100, activation='relu', name = 'layer1')(input_embedding)\n",
        "lstm = LSTM(units=50, activation='tanh', name='lstm1')(hidden_layer)\n",
        "output = Dense(output_length, activation='sigmoid', name = 'activation')(lstm)\n",
        "model = Model(inputs=input_placeholder, outputs=output)"
      ],
      "metadata": {
        "id": "qP8rqe7H0Ghq"
      },
      "execution_count": null,
      "outputs": []
    },
    {
      "cell_type": "code",
      "source": [
        "# compile the model\n",
        "model.compile(loss='binary_crossentropy', optimizer=tf.keras.optimizers.Adamax(lr=0.001), metrics=['accuracy'])\n",
        "# summarize the model\n",
        "print(model.summary())"
      ],
      "metadata": {
        "colab": {
          "base_uri": "https://localhost:8080/"
        },
        "id": "myEIJFllRREY",
        "outputId": "f2dddde0-7c0a-4790-dfdb-5a9cf4382c1e"
      },
      "execution_count": null,
      "outputs": [
        {
          "output_type": "stream",
          "name": "stdout",
          "text": [
            "Model: \"model_2\"\n",
            "_________________________________________________________________\n",
            " Layer (type)                Output Shape              Param #   \n",
            "=================================================================\n",
            " input_3 (InputLayer)        [(None, 10)]              0         \n",
            "                                                                 \n",
            " embedding_2 (Embedding)     (None, 10, 300)           1425300   \n",
            "                                                                 \n",
            " layer1 (Dense)              (None, 10, 100)           30100     \n",
            "                                                                 \n",
            " lstm1 (LSTM)                (None, 50)                30200     \n",
            "                                                                 \n",
            " activation (Dense)          (None, 15)                765       \n",
            "                                                                 \n",
            "=================================================================\n",
            "Total params: 1,486,365\n",
            "Trainable params: 61,065\n",
            "Non-trainable params: 1,425,300\n",
            "_________________________________________________________________\n",
            "None\n"
          ]
        },
        {
          "output_type": "stream",
          "name": "stderr",
          "text": [
            "/usr/local/lib/python3.7/dist-packages/keras/optimizer_v2/adamax.py:90: UserWarning: The `lr` argument is deprecated, use `learning_rate` instead.\n",
            "  super(Adamax, self).__init__(name, **kwargs)\n"
          ]
        }
      ]
    },
    {
      "cell_type": "code",
      "source": [
        "history = model.fit(x_train, y_train, validation_data=(x_valid, y_valid), epochs=50, verbose=1)"
      ],
      "metadata": {
        "colab": {
          "base_uri": "https://localhost:8080/"
        },
        "id": "a4Ud6YHg0OPU",
        "outputId": "42b94c16-1457-4f1a-d4d2-9c27568c5cfb"
      },
      "execution_count": null,
      "outputs": [
        {
          "output_type": "stream",
          "name": "stdout",
          "text": [
            "Epoch 1/50\n",
            "95/95 [==============================] - 5s 19ms/step - loss: 0.4174 - accuracy: 0.7642 - val_loss: 0.1195 - val_accuracy: 0.7737\n",
            "Epoch 2/50\n",
            "95/95 [==============================] - 1s 13ms/step - loss: 0.1120 - accuracy: 0.7718 - val_loss: 0.1069 - val_accuracy: 0.7737\n",
            "Epoch 3/50\n",
            "95/95 [==============================] - 1s 14ms/step - loss: 0.1071 - accuracy: 0.7718 - val_loss: 0.1053 - val_accuracy: 0.7737\n",
            "Epoch 4/50\n",
            "95/95 [==============================] - 1s 13ms/step - loss: 0.1062 - accuracy: 0.7718 - val_loss: 0.1050 - val_accuracy: 0.7737\n",
            "Epoch 5/50\n",
            "95/95 [==============================] - 1s 14ms/step - loss: 0.1060 - accuracy: 0.7718 - val_loss: 0.1048 - val_accuracy: 0.7737\n",
            "Epoch 6/50\n",
            "95/95 [==============================] - 1s 15ms/step - loss: 0.1059 - accuracy: 0.7718 - val_loss: 0.1049 - val_accuracy: 0.7737\n",
            "Epoch 7/50\n",
            "95/95 [==============================] - 1s 14ms/step - loss: 0.1059 - accuracy: 0.7718 - val_loss: 0.1048 - val_accuracy: 0.7737\n",
            "Epoch 8/50\n",
            "95/95 [==============================] - 1s 13ms/step - loss: 0.1058 - accuracy: 0.7718 - val_loss: 0.1047 - val_accuracy: 0.7737\n",
            "Epoch 9/50\n",
            "95/95 [==============================] - 1s 13ms/step - loss: 0.1059 - accuracy: 0.7718 - val_loss: 0.1048 - val_accuracy: 0.7737\n",
            "Epoch 10/50\n",
            "95/95 [==============================] - 1s 13ms/step - loss: 0.1059 - accuracy: 0.7718 - val_loss: 0.1048 - val_accuracy: 0.7737\n",
            "Epoch 11/50\n",
            "95/95 [==============================] - 1s 13ms/step - loss: 0.1058 - accuracy: 0.7718 - val_loss: 0.1048 - val_accuracy: 0.7737\n",
            "Epoch 12/50\n",
            "95/95 [==============================] - 1s 14ms/step - loss: 0.1058 - accuracy: 0.7718 - val_loss: 0.1048 - val_accuracy: 0.7737\n",
            "Epoch 13/50\n",
            "95/95 [==============================] - 1s 13ms/step - loss: 0.1058 - accuracy: 0.7718 - val_loss: 0.1047 - val_accuracy: 0.7737\n",
            "Epoch 14/50\n",
            "95/95 [==============================] - 1s 12ms/step - loss: 0.1058 - accuracy: 0.7718 - val_loss: 0.1048 - val_accuracy: 0.7737\n",
            "Epoch 15/50\n",
            "95/95 [==============================] - 1s 13ms/step - loss: 0.1059 - accuracy: 0.7718 - val_loss: 0.1048 - val_accuracy: 0.7737\n",
            "Epoch 16/50\n",
            "95/95 [==============================] - 1s 13ms/step - loss: 0.1058 - accuracy: 0.7718 - val_loss: 0.1048 - val_accuracy: 0.7737\n",
            "Epoch 17/50\n",
            "95/95 [==============================] - 1s 13ms/step - loss: 0.1058 - accuracy: 0.7718 - val_loss: 0.1047 - val_accuracy: 0.7737\n",
            "Epoch 18/50\n",
            "95/95 [==============================] - 1s 13ms/step - loss: 0.1058 - accuracy: 0.7718 - val_loss: 0.1047 - val_accuracy: 0.7737\n",
            "Epoch 19/50\n",
            "95/95 [==============================] - 1s 13ms/step - loss: 0.1058 - accuracy: 0.7718 - val_loss: 0.1048 - val_accuracy: 0.7737\n",
            "Epoch 20/50\n",
            "95/95 [==============================] - 1s 12ms/step - loss: 0.1059 - accuracy: 0.7718 - val_loss: 0.1047 - val_accuracy: 0.7737\n",
            "Epoch 21/50\n",
            "95/95 [==============================] - 1s 12ms/step - loss: 0.1058 - accuracy: 0.7718 - val_loss: 0.1048 - val_accuracy: 0.7737\n",
            "Epoch 22/50\n",
            "95/95 [==============================] - 1s 13ms/step - loss: 0.1059 - accuracy: 0.7718 - val_loss: 0.1048 - val_accuracy: 0.7737\n",
            "Epoch 23/50\n",
            "95/95 [==============================] - 1s 13ms/step - loss: 0.1059 - accuracy: 0.7718 - val_loss: 0.1047 - val_accuracy: 0.7737\n",
            "Epoch 24/50\n",
            "95/95 [==============================] - 1s 13ms/step - loss: 0.1059 - accuracy: 0.7718 - val_loss: 0.1048 - val_accuracy: 0.7737\n",
            "Epoch 25/50\n",
            "95/95 [==============================] - 1s 13ms/step - loss: 0.1058 - accuracy: 0.7718 - val_loss: 0.1048 - val_accuracy: 0.7737\n",
            "Epoch 26/50\n",
            "95/95 [==============================] - 1s 13ms/step - loss: 0.1059 - accuracy: 0.7718 - val_loss: 0.1047 - val_accuracy: 0.7737\n",
            "Epoch 27/50\n",
            "95/95 [==============================] - 1s 13ms/step - loss: 0.1059 - accuracy: 0.7718 - val_loss: 0.1048 - val_accuracy: 0.7737\n",
            "Epoch 28/50\n",
            "95/95 [==============================] - 1s 12ms/step - loss: 0.1058 - accuracy: 0.7718 - val_loss: 0.1048 - val_accuracy: 0.7737\n",
            "Epoch 29/50\n",
            "95/95 [==============================] - 1s 12ms/step - loss: 0.1058 - accuracy: 0.7718 - val_loss: 0.1048 - val_accuracy: 0.7737\n",
            "Epoch 30/50\n",
            "95/95 [==============================] - 1s 13ms/step - loss: 0.1058 - accuracy: 0.7718 - val_loss: 0.1048 - val_accuracy: 0.7737\n",
            "Epoch 31/50\n",
            "95/95 [==============================] - 1s 12ms/step - loss: 0.1058 - accuracy: 0.7718 - val_loss: 0.1048 - val_accuracy: 0.7737\n",
            "Epoch 32/50\n",
            "95/95 [==============================] - 1s 13ms/step - loss: 0.1058 - accuracy: 0.7718 - val_loss: 0.1048 - val_accuracy: 0.7737\n",
            "Epoch 33/50\n",
            "95/95 [==============================] - 1s 13ms/step - loss: 0.1058 - accuracy: 0.7718 - val_loss: 0.1048 - val_accuracy: 0.7737\n",
            "Epoch 34/50\n",
            "95/95 [==============================] - 1s 13ms/step - loss: 0.1059 - accuracy: 0.7718 - val_loss: 0.1048 - val_accuracy: 0.7737\n",
            "Epoch 35/50\n",
            "95/95 [==============================] - 1s 14ms/step - loss: 0.1059 - accuracy: 0.7718 - val_loss: 0.1048 - val_accuracy: 0.7737\n",
            "Epoch 36/50\n",
            "95/95 [==============================] - 1s 13ms/step - loss: 0.1058 - accuracy: 0.7718 - val_loss: 0.1049 - val_accuracy: 0.7737\n",
            "Epoch 37/50\n",
            "95/95 [==============================] - 1s 13ms/step - loss: 0.1058 - accuracy: 0.7718 - val_loss: 0.1049 - val_accuracy: 0.7737\n",
            "Epoch 38/50\n",
            "95/95 [==============================] - 1s 13ms/step - loss: 0.1059 - accuracy: 0.7718 - val_loss: 0.1047 - val_accuracy: 0.7737\n",
            "Epoch 39/50\n",
            "95/95 [==============================] - 1s 12ms/step - loss: 0.1058 - accuracy: 0.7718 - val_loss: 0.1048 - val_accuracy: 0.7737\n",
            "Epoch 40/50\n",
            "95/95 [==============================] - 1s 13ms/step - loss: 0.1059 - accuracy: 0.7718 - val_loss: 0.1047 - val_accuracy: 0.7737\n",
            "Epoch 41/50\n",
            "95/95 [==============================] - 1s 13ms/step - loss: 0.1058 - accuracy: 0.7718 - val_loss: 0.1047 - val_accuracy: 0.7737\n",
            "Epoch 42/50\n",
            "95/95 [==============================] - 1s 13ms/step - loss: 0.1059 - accuracy: 0.7718 - val_loss: 0.1048 - val_accuracy: 0.7737\n",
            "Epoch 43/50\n",
            "95/95 [==============================] - 1s 13ms/step - loss: 0.1058 - accuracy: 0.7718 - val_loss: 0.1048 - val_accuracy: 0.7737\n",
            "Epoch 44/50\n",
            "95/95 [==============================] - 1s 13ms/step - loss: 0.1059 - accuracy: 0.7718 - val_loss: 0.1047 - val_accuracy: 0.7737\n",
            "Epoch 45/50\n",
            "95/95 [==============================] - 1s 12ms/step - loss: 0.1058 - accuracy: 0.7718 - val_loss: 0.1048 - val_accuracy: 0.7737\n",
            "Epoch 46/50\n",
            "95/95 [==============================] - 1s 13ms/step - loss: 0.1059 - accuracy: 0.7718 - val_loss: 0.1049 - val_accuracy: 0.7737\n",
            "Epoch 47/50\n",
            "95/95 [==============================] - 1s 14ms/step - loss: 0.1058 - accuracy: 0.7718 - val_loss: 0.1048 - val_accuracy: 0.7737\n",
            "Epoch 48/50\n",
            "95/95 [==============================] - 1s 13ms/step - loss: 0.1058 - accuracy: 0.7718 - val_loss: 0.1048 - val_accuracy: 0.7737\n",
            "Epoch 49/50\n",
            "95/95 [==============================] - 1s 14ms/step - loss: 0.1059 - accuracy: 0.7718 - val_loss: 0.1048 - val_accuracy: 0.7737\n",
            "Epoch 50/50\n",
            "95/95 [==============================] - 1s 13ms/step - loss: 0.1058 - accuracy: 0.7718 - val_loss: 0.1048 - val_accuracy: 0.7737\n"
          ]
        }
      ]
    },
    {
      "cell_type": "code",
      "source": [
        "loss, accuracy = model.evaluate(x_test, y_test, verbose=0)\n",
        "prediction = model.predict(x_test)\n",
        "print('Accuracy: %f' % (accuracy*100), loss)"
      ],
      "metadata": {
        "colab": {
          "base_uri": "https://localhost:8080/"
        },
        "id": "6eadmiFk0kAX",
        "outputId": "54cac6fb-5737-4d00-800b-a28739f61699"
      },
      "execution_count": null,
      "outputs": [
        {
          "output_type": "stream",
          "name": "stdout",
          "text": [
            "Accuracy: 76.736844 0.10739338397979736\n"
          ]
        }
      ]
    },
    {
      "cell_type": "code",
      "source": [
        "x, y = [], []\n",
        "for i, j in zip(prediction, y_test):\n",
        "  x.append(np.argmax(i))\n",
        "  y.append(np.argmax(j))"
      ],
      "metadata": {
        "id": "U1lNPc-Mbzrf"
      },
      "execution_count": null,
      "outputs": []
    },
    {
      "cell_type": "code",
      "source": [
        "from sklearn.metrics import accuracy_score, confusion_matrix\n",
        "cf_matrix = confusion_matrix(x, y)"
      ],
      "metadata": {
        "id": "Fdq-6X1Ra5bj"
      },
      "execution_count": null,
      "outputs": []
    },
    {
      "cell_type": "code",
      "source": [
        "ax = sns.heatmap(cf_matrix, annot=True, cmap='Blues')\n",
        "\n",
        "ax.set_title(f'Seaborn Confusion Matrix with labels\\n\\n')\n",
        "ax.set_xlabel('\\nPredicted Entity')\n",
        "ax.set_ylabel('Actual Entity')\n",
        "# Ticket labels - List must be in alphabetical order\n",
        "ax.xaxis.set_ticklabels(['B-MIS0', 'B-MIS1', 'B-MIS3', 'B-PER', 'I-MIS0', 'I-MIS2', 'O'])\n",
        "ax.yaxis.set_ticklabels(['B-MIS0', 'B-MIS1', 'B-MIS3', 'B-PER', 'I-MIS0', 'I-MIS2', 'O'])\n",
        "# Display the visualization of the Confusion Matrix.\n",
        "plt.show()"
      ],
      "metadata": {
        "colab": {
          "base_uri": "https://localhost:8080/",
          "height": 337
        },
        "id": "9G_NlG-vcFag",
        "outputId": "2a642658-d697-40b6-992f-1b634a87cad6"
      },
      "execution_count": null,
      "outputs": [
        {
          "output_type": "display_data",
          "data": {
            "text/plain": [
              "<Figure size 432x288 with 2 Axes>"
            ],
            "image/png": "[encoded data removed]"
          },
          "metadata": {
            "needs_background": "light"
          }
        }
      ]
    },
    {
      "cell_type": "markdown",
      "source": [
        "# Plot Fitting"
      ],
      "metadata": {
        "id": "pIqJVRBtRbKQ"
      }
    },
    {
      "cell_type": "code",
      "source": [
        "plt.plot(history.history['accuracy'])\n",
        "plt.plot(history.history['val_accuracy'])\n",
        "plt.title('model accuracy')\n",
        "plt.ylabel('accuracy')\n",
        "plt.xlabel('epoch')\n",
        "plt.legend(['train', 'validation'], loc='lower right')\n",
        "plt.show()"
      ],
      "metadata": {
        "colab": {
          "base_uri": "https://localhost:8080/",
          "height": 295
        },
        "id": "y-ZiQ8tUAQOe",
        "outputId": "24d75f3f-a3fb-4b84-8198-48803e5eacc0"
      },
      "execution_count": null,
      "outputs": [
        {
          "output_type": "display_data",
          "data": {
            "text/plain": [
              "<Figure size 432x288 with 1 Axes>"
            ],
            "image/png": "[encoded data removed]"
          },
          "metadata": {
            "needs_background": "light"
          }
        }
      ]
    },
    {
      "cell_type": "code",
      "source": [
        "plt.plot(history.history['loss'])\n",
        "plt.plot(history.history['val_loss'])\n",
        "plt.title('model loss')\n",
        "plt.ylabel('loss')\n",
        "plt.xlabel('epoch')\n",
        "plt.legend(['train', 'validation'], loc='upper right')\n",
        "plt.show()"
      ],
      "metadata": {
        "colab": {
          "base_uri": "https://localhost:8080/",
          "height": 295
        },
        "id": "zF43SOZKBErC",
        "outputId": "7990b0c0-4359-4c39-d48f-1c57ddc3bd5b"
      },
      "execution_count": null,
      "outputs": [
        {
          "output_type": "display_data",
          "data": {
            "text/plain": [
              "<Figure size 432x288 with 1 Axes>"
            ],
            "image/png": "[encoded data removed]"
          },
          "metadata": {
            "needs_background": "light"
          }
        }
      ]
    },
    {
      "cell_type": "code",
      "source": [
        "labels = ['B-LOC',\n",
        " 'B-MIS0',\n",
        " 'B-MIS1',\n",
        " 'B-MIS2',\n",
        " 'B-MIS3',\n",
        " 'B-ORG',\n",
        " 'B-PER',\n",
        " 'I-LOC',\n",
        " 'I-MIS0',\n",
        " 'I-MIS1',\n",
        " 'I-MIS2',\n",
        " 'I-MIS3',\n",
        " 'I-ORG',\n",
        " 'I-PER',\n",
        " 'O']"
      ],
      "metadata": {
        "id": "-CvywjfhTm5a"
      },
      "execution_count": null,
      "outputs": []
    },
    {
      "cell_type": "code",
      "source": [
        "word = 'أتوموس'\n",
        "word, _ = token_preprocessing(word)\n",
        "word = encode_text(word)\n",
        "word = pad_sequences(word, maxlen=10, padding='post')\n",
        "prediction = model.predict(word)\n",
        "index = prediction.argmax()\n",
        "labels[index]"
      ],
      "metadata": {
        "colab": {
          "base_uri": "https://localhost:8080/",
          "height": 36
        },
        "id": "meKuMuqUD4Nm",
        "outputId": "63732bdc-092a-4f23-cf05-2a56ef94197e"
      },
      "execution_count": null,
      "outputs": [
        {
          "output_type": "execute_result",
          "data": {
            "text/plain": [
              "'O'"
            ],
            "application/vnd.google.colaboratory.intrinsic+json": {
              "type": "string"
            }
          },
          "metadata": {},
          "execution_count": 203
        }
      ]
    },
    {
      "cell_type": "markdown",
      "source": [
        "# Conculsion\n",
        "After plotting the confusion matrix we can conclude that:\n",
        "  The data is unbalance 'O' label has very large number of points is 403 from   405 so the model is biased to this label so the model calssify all entity as 'O' one of ways to resolve this problem increasing data by collecting new data or make copy of it to increase small classes by using below code but it not work well with this model gives 15% for validation\n",
        "\n"
      ],
      "metadata": {
        "id": "cLT0AhMvarP4"
      }
    },
    {
      "cell_type": "code",
      "source": [
        "# from imblearn.over_sampling import RandomOverSampler\n",
        "\n",
        "# ros = RandomOverSampler()\n",
        "# tokens, labels = ros.fit_resample(np.array(tokens).reshape(-1, 1), labels)\n",
        "\n",
        "# # check distribution after applying over sampling \n",
        "# word = pd.DataFrame(labels)\n",
        "# tokens = tokens.tolist()\n",
        "# word.value_counts()"
      ],
      "metadata": {
        "id": "hBq0xMtWmdN4"
      },
      "execution_count": null,
      "outputs": []
    }
  ],
  "metadata": {
    "colab": {
      "name": "Arabic Entity Recognition.ipynb",
      "provenance": [],
      "collapsed_sections": [],
      "include_colab_link": true
    },
    "kernelspec": {
      "display_name": "Python 3",
      "name": "python3"
    },
    "language_info": {
      "name": "python"
    }
  },
  "nbformat": 4,
  "nbformat_minor": 0
}