{
  "cells": [
    {
      "cell_type": "markdown",
      "metadata": {
        "id": "view-in-github",
        "colab_type": "text"
      },
      "source": [
        "<a href=\"https://colab.research.google.com/github/youssef893/Arabic-Entity-Recognition/blob/main/Arabic_Entity_Recognition.ipynb\" target=\"_parent\"><img src=\"https://colab.research.google.com/assets/colab-badge.svg\" alt=\"Open In Colab\"/></a>"
      ]
    },
    {
      "cell_type": "markdown",
      "metadata": {
        "id": "JC__rv0wR1hh"
      },
      "source": [
        "# Import all needed libraries"
      ]
    },
    {
      "cell_type": "code",
      "execution_count": null,
      "metadata": {
        "id": "ySwDuQzCoSub"
      },
      "outputs": [],
      "source": [
        "import os\n",
        "import numpy as np\n",
        "import matplotlib.pyplot as plt\n",
        "import seaborn as sns\n",
        "import pandas as pd"
      ]
    },
    {
      "cell_type": "code",
      "execution_count": null,
      "metadata": {
        "id": "sczWd4zmMwh6"
      },
      "outputs": [],
      "source": [
        "import re\n",
        "from nltk.corpus import stopwords\n",
        "from nltk.stem.isri import ISRIStemmer"
      ]
    },
    {
      "cell_type": "code",
      "execution_count": null,
      "metadata": {
        "id": "O5VrTYV9MqE3"
      },
      "outputs": [],
      "source": [
        "import gensim\n",
        "from gensim.models import KeyedVectors\n",
        "from gensim.models import word2vec"
      ]
    },
    {
      "cell_type": "code",
      "execution_count": null,
      "metadata": {
        "id": "i77UVQZQMhu-"
      },
      "outputs": [],
      "source": [
        "from sklearn.model_selection import train_test_split\n",
        "from sklearn.preprocessing import LabelEncoder, OneHotEncoder, MultiLabelBinarizer\n",
        "from keras.preprocessing.text import Tokenizer\n",
        "from keras.preprocessing.sequence import pad_sequences"
      ]
    },
    {
      "cell_type": "code",
      "execution_count": null,
      "metadata": {
        "id": "6W_jm4KKMdy2"
      },
      "outputs": [],
      "source": [
        "from keras.layers import Dense, LSTM, Embedding, Bidirectional, Flatten, Reshape\n",
        "from keras import Input\n",
        "from keras.models import Model"
      ]
    },
    {
      "cell_type": "code",
      "execution_count": null,
      "metadata": {
        "colab": {
          "base_uri": "https://localhost:8080/"
        },
        "id": "ANcth6NXyRd5",
        "outputId": "84947056-6033-416b-a156-5207f4da3b66"
      },
      "outputs": [
        {
          "output_type": "stream",
          "name": "stdout",
          "text": [
            "[nltk_data] Downloading package stopwords to /root/nltk_data...\n",
            "[nltk_data]   Package stopwords is already up-to-date!\n"
          ]
        }
      ],
      "source": [
        "import nltk\n",
        "nltk.download('stopwords')\n",
        "import tensorflow as tf"
      ]
    },
    {
      "cell_type": "code",
      "execution_count": null,
      "metadata": {
        "id": "fz5XRFTw4q8U"
      },
      "outputs": [],
      "source": [
        "arabic_stop_word = stopwords.words('arabic')\n",
        "stemmer = ISRIStemmer()"
      ]
    },
    {
      "cell_type": "markdown",
      "metadata": {
        "id": "nVVQIxH13-3V"
      },
      "source": [
        "# Utilz"
      ]
    },
    {
      "cell_type": "code",
      "execution_count": null,
      "metadata": {
        "id": "ynwIAeVq5SaN"
      },
      "outputs": [],
      "source": [
        "def token_preprocessing(token):\n",
        "  \"\"\"\n",
        "  parameter: \n",
        "    token: string contain word\n",
        "\n",
        "    return: \n",
        "      token: the word after removing preffix and suffix (get the original word)\n",
        "      true: if it is not a stop word\n",
        "  \"\"\"\n",
        "  is_arabic = bool(re.match('^[أ-ي]', token))\n",
        "  if token not in arabic_stop_word and is_arabic:\n",
        "    token = stemmer.stem(token)\n",
        "    return token, False\n",
        "  \n",
        "  return token, True\n",
        "  "
      ]
    },
    {
      "cell_type": "code",
      "execution_count": null,
      "metadata": {
        "id": "VsUmWGMJ3-ao"
      },
      "outputs": [],
      "source": [
        "def is_txt(file):\n",
        "  \"\"\"\n",
        "    return true if this file extention\n",
        "\n",
        "    parameters:\n",
        "      file: string contains the full name of this file \n",
        "  \"\"\"\n",
        "  return file.split('.')[-1] == \"txt\""
      ]
    },
    {
      "cell_type": "code",
      "execution_count": null,
      "metadata": {
        "id": "q3NVwpv54Imd"
      },
      "outputs": [],
      "source": [
        "def get_sentences(file):\n",
        "    \"\"\"\n",
        "    Parameters:\n",
        "      file: string contains the full name of this file \n",
        "\n",
        "\n",
        "    Returns:\n",
        "      sentences: array contains all sentences exist in this txt file\n",
        "    \"\"\"\n",
        "  \n",
        "\n",
        "    sentences = []\n",
        "\n",
        "    with open(file) as f:\n",
        "      lines = f.readlines()\n",
        "\n",
        "    sentence = \"\"\n",
        "    for line in lines:\n",
        "      line = line.replace('.', '').split()\n",
        "      if len(line) == 0: # then current line contains '.' or ','\n",
        "        sentences.append(sentence)\n",
        "        sentence = \"\" \n",
        "      else :\n",
        "        sentence += f'{line[0]} '\n",
        "\n",
        "    return sentences\n",
        "\n",
        "    \n"
      ]
    },
    {
      "cell_type": "code",
      "execution_count": null,
      "metadata": {
        "id": "y9KX8GhN1Kqo"
      },
      "outputs": [],
      "source": [
        "def get_tokens_labels_dict(file ):\n",
        "\n",
        "    \"\"\"\n",
        "    adds new tokens and its labels to current train dictionary \n",
        "\n",
        "    Parameters:\n",
        "      file: string contains the full name of this file \n",
        "\n",
        "\n",
        "    Returns:\n",
        "      tokens: string of all sentences in the file\n",
        "      labels: string of all labels\n",
        "    \"\"\"\n",
        "\n",
        "    tokens = ''\n",
        "    labels = ''\n",
        "\n",
        "    with open(file) as f:\n",
        "      lines = f.readlines()\n",
        "\n",
        "    for line in lines:\n",
        "\n",
        "      if len( line.split() ) == 0: # then current line is \\n\n",
        "        continue\n",
        "      \n",
        "      token , label = line.split()\n",
        "      \n",
        "\n",
        "      if token != '.':\n",
        "        token, is_stopword = token_preprocessing(token)\n",
        "\n",
        "        if is_stopword:\n",
        "          continue\n",
        "        \n",
        "        tokens += token + ' '\n",
        "        labels += label + ' '\n",
        "      \n",
        "    return tokens, labels\n"
      ]
    },
    {
      "cell_type": "markdown",
      "metadata": {
        "id": "60SSTtZd3uHC"
      },
      "source": [
        "## Loading Data"
      ]
    },
    {
      "cell_type": "code",
      "execution_count": null,
      "metadata": {
        "colab": {
          "base_uri": "https://localhost:8080/"
        },
        "id": "nFpbJ6HW2yFH",
        "outputId": "9d87fd25-2edc-4e41-bcf7-aa2b68ca298d"
      },
      "outputs": [
        {
          "output_type": "stream",
          "name": "stdout",
          "text": [
            "File is unzipped in AQMAR folder\n"
          ]
        }
      ],
      "source": [
        "from zipfile import ZipFile\n",
        "\n",
        "with ZipFile('/content/AQMAR_Arabic_NER_corpus-1.0.zip', 'r') as zipObj:\n",
        "   # Extract all the contents of zip file in different directory\n",
        "   zipObj.extractall('AQMAR')\n",
        "   print('File is unzipped in AQMAR folder') "
      ]
    },
    {
      "cell_type": "code",
      "execution_count": null,
      "metadata": {
        "id": "LLzraYd23mDA"
      },
      "outputs": [],
      "source": [
        "data_folder = \"/content/AQMAR\"\n",
        "files = sorted(os.listdir(data_folder))"
      ]
    },
    {
      "cell_type": "code",
      "execution_count": null,
      "metadata": {
        "colab": {
          "base_uri": "https://localhost:8080/"
        },
        "id": "OXLPIbFm3r3G",
        "outputId": "d5947fc6-83ff-4cf9-de35-949fab692c8b"
      },
      "outputs": [
        {
          "output_type": "stream",
          "name": "stdout",
          "text": [
            "i = 1 | File = Atom.txt\n",
            "i = 2 | File = Christiano_Ronaldo.txt\n",
            "i = 3 | File = Computer.txt\n",
            "i = 4 | File = Computer_Software.txt\n",
            "i = 5 | File = Crusades.txt\n",
            "i = 6 | File = Damascus.txt\n",
            "i = 7 | File = Enrico_Fermi.txt\n",
            "i = 8 | File = Football.txt\n",
            "i = 9 | File = Ibn_Tolun_Mosque.txt\n",
            "i = 10 | File = Imam_Hussein_Shrine.txt\n",
            "i = 11 | File = Internet.txt\n",
            "i = 12 | File = Islamic_Golden_Age.txt\n",
            "i = 13 | File = Islamic_History.txt\n",
            "i = 14 | File = LICENSE\n",
            "i = 15 | File = Light.txt\n",
            "i = 16 | File = Linux.txt\n",
            "i = 17 | File = Nuclear_Power.txt\n",
            "i = 18 | File = Periodic_Table.txt\n",
            "i = 19 | File = Physics.txt\n",
            "i = 20 | File = Portugal_football_team.txt\n",
            "i = 21 | File = README\n",
            "i = 22 | File = Raul_Gonzales.txt\n",
            "i = 23 | File = Razi.txt\n",
            "i = 24 | File = Real_Madrid.txt\n",
            "i = 25 | File = Richard_Stallman.txt\n",
            "i = 26 | File = Soccer_Worldcup.txt\n",
            "i = 27 | File = Solaris.txt\n",
            "i = 28 | File = Summer_Olympics2004.txt\n",
            "i = 29 | File = Ummaya_Mosque.txt\n",
            "i = 30 | File = VERSION\n",
            "i = 31 | File = X_window_system.txt\n",
            "i = 32 | File = featureFiles\n",
            "\n",
            "Example For A Full Path /content/AQMAR/featureFiles\n"
          ]
        }
      ],
      "source": [
        "for i , file in enumerate(files):\n",
        "    print(f'i = {i+1} | File = {file}')\n",
        "    \n",
        "print(f'\\nExample For A Full Path {data_folder}/{file}')"
      ]
    },
    {
      "cell_type": "code",
      "execution_count": null,
      "metadata": {
        "id": "0WxpQ7Ea4YTc"
      },
      "outputs": [],
      "source": [
        "txt_files = []\n",
        "for i , file in enumerate(files):\n",
        "    if is_txt(file):\n",
        "      txt_files.append(f'{data_folder}/{file}')"
      ]
    },
    {
      "cell_type": "code",
      "execution_count": null,
      "metadata": {
        "colab": {
          "base_uri": "https://localhost:8080/"
        },
        "id": "-jdOkLV539ih",
        "outputId": "26a325e1-886d-49ab-e992-838ca5c86afc"
      },
      "outputs": [
        {
          "output_type": "execute_result",
          "data": {
            "text/plain": [
              "['/content/AQMAR/Atom.txt',\n",
              " '/content/AQMAR/Christiano_Ronaldo.txt',\n",
              " '/content/AQMAR/Computer.txt',\n",
              " '/content/AQMAR/Computer_Software.txt',\n",
              " '/content/AQMAR/Crusades.txt',\n",
              " '/content/AQMAR/Damascus.txt',\n",
              " '/content/AQMAR/Enrico_Fermi.txt',\n",
              " '/content/AQMAR/Football.txt',\n",
              " '/content/AQMAR/Ibn_Tolun_Mosque.txt',\n",
              " '/content/AQMAR/Imam_Hussein_Shrine.txt',\n",
              " '/content/AQMAR/Internet.txt',\n",
              " '/content/AQMAR/Islamic_Golden_Age.txt',\n",
              " '/content/AQMAR/Islamic_History.txt',\n",
              " '/content/AQMAR/Light.txt',\n",
              " '/content/AQMAR/Linux.txt',\n",
              " '/content/AQMAR/Nuclear_Power.txt',\n",
              " '/content/AQMAR/Periodic_Table.txt',\n",
              " '/content/AQMAR/Physics.txt',\n",
              " '/content/AQMAR/Portugal_football_team.txt',\n",
              " '/content/AQMAR/Raul_Gonzales.txt',\n",
              " '/content/AQMAR/Razi.txt',\n",
              " '/content/AQMAR/Real_Madrid.txt',\n",
              " '/content/AQMAR/Richard_Stallman.txt',\n",
              " '/content/AQMAR/Soccer_Worldcup.txt',\n",
              " '/content/AQMAR/Solaris.txt',\n",
              " '/content/AQMAR/Summer_Olympics2004.txt',\n",
              " '/content/AQMAR/Ummaya_Mosque.txt',\n",
              " '/content/AQMAR/X_window_system.txt']"
            ]
          },
          "metadata": {},
          "execution_count": 1508
        }
      ],
      "source": [
        "txt_files"
      ]
    },
    {
      "cell_type": "code",
      "execution_count": null,
      "metadata": {
        "id": "m94lV0CkOl7l"
      },
      "outputs": [],
      "source": [
        "\"\"\" loop over all files to get their sentences and labels then store them in 2 strings \"\"\"\n",
        "tokens = ''\n",
        "labels = ''\n",
        "for txt_file in txt_files:\n",
        "  data, data_labels = get_tokens_labels_dict(txt_file)\n",
        "  \n",
        "  tokens += data\n",
        "  labels += data_labels\n"
      ]
    },
    {
      "cell_type": "code",
      "execution_count": null,
      "metadata": {
        "colab": {
          "base_uri": "https://localhost:8080/"
        },
        "id": "JzrsLBSqHeMH",
        "outputId": "9801ba9e-c79b-4d2b-b365-edd946d4a8e5"
      },
      "outputs": [
        {
          "output_type": "stream",
          "name": "stdout",
          "text": [
            "128941\n"
          ]
        },
        {
          "output_type": "execute_result",
          "data": {
            "text/plain": [
              "47540"
            ]
          },
          "metadata": {},
          "execution_count": 1512
        }
      ],
      "source": [
        "\"\"\" split strings into lists of words and labels \"\"\"\n",
        "tokens = tokens.split(' ')\n",
        "labels = labels.split(' ')"
      ]
    },
    {
      "cell_type": "code",
      "execution_count": null,
      "metadata": {
        "id": "z2ZeseEShibA"
      },
      "outputs": [],
      "source": [
        "\"\"\" get all words and length of labels \"\"\"\n",
        "tokenizer = Tokenizer()\n",
        "tokenizer.fit_on_texts(tokens)\n",
        "output_length = len(set(labels))"
      ]
    },
    {
      "cell_type": "code",
      "source": [
        "tokens[1]"
      ],
      "metadata": {
        "colab": {
          "base_uri": "https://localhost:8080/",
          "height": 36
        },
        "id": "GyRW8SCygBgX",
        "outputId": "284b9751-dd12-45eb-96bd-85ae58a3ffcf"
      },
      "execution_count": null,
      "outputs": [
        {
          "output_type": "execute_result",
          "data": {
            "text/plain": [
              "'صغر'"
            ],
            "application/vnd.google.colaboratory.intrinsic+json": {
              "type": "string"
            }
          },
          "metadata": {},
          "execution_count": 1514
        }
      ]
    },
    {
      "cell_type": "code",
      "execution_count": null,
      "metadata": {
        "id": "3xUgQG9y2UFo"
      },
      "outputs": [],
      "source": [
        "\"\"\" reshape data into sentences of 10 words and list of each word label \"\"\"\n",
        "tokens = np.array(tokens)\n",
        "tokens = tokens.reshape(4754, 10)\n",
        "labels = np.array(labels).reshape(4754, 10)"
      ]
    },
    {
      "cell_type": "code",
      "execution_count": null,
      "metadata": {
        "colab": {
          "base_uri": "https://localhost:8080/"
        },
        "id": "H3muZm3PG6Qk",
        "outputId": "c6cfa1db-ce11-4df2-a015-9b7f79f861d9"
      },
      "outputs": [
        {
          "output_type": "stream",
          "name": "stdout",
          "text": [
            "4754 4754\n"
          ]
        }
      ],
      "source": [
        "print(len(tokens), len(labels))"
      ]
    },
    {
      "cell_type": "code",
      "source": [
        "tokens.shape"
      ],
      "metadata": {
        "colab": {
          "base_uri": "https://localhost:8080/"
        },
        "id": "dGxIYmjjk3aq",
        "outputId": "1443f416-b118-488c-de56-67322505cadd"
      },
      "execution_count": null,
      "outputs": [
        {
          "output_type": "execute_result",
          "data": {
            "text/plain": [
              "(4754, 10)"
            ]
          },
          "metadata": {},
          "execution_count": 1518
        }
      ]
    },
    {
      "cell_type": "code",
      "execution_count": null,
      "metadata": {
        "id": "4CNbMy282lPr",
        "colab": {
          "base_uri": "https://localhost:8080/"
        },
        "outputId": "4deaf373-33af-4070-f094-87b52664ca34"
      },
      "outputs": [
        {
          "output_type": "stream",
          "name": "stdout",
          "text": [
            "First Token is ['ذرة' 'صغر' 'جزء' 'عنصر' 'كيميائ' 'حفظ' 'خصص' 'كيميائية' 'لذلك' 'عنصر'] And Its label is ['O' 'O' 'O' 'O' 'O' 'O' 'O' 'O' 'O' 'O']\n"
          ]
        },
        {
          "output_type": "execute_result",
          "data": {
            "text/plain": [
              "True"
            ]
          },
          "metadata": {},
          "execution_count": 1519
        }
      ],
      "source": [
        "print(f'First Token is {tokens[0]} And Its label is {labels[0]}')\n",
        "len(tokens) == len(labels)"
      ]
    },
    {
      "cell_type": "markdown",
      "metadata": {
        "id": "BYuCZxBqbON6"
      },
      "source": [
        ""
      ]
    },
    {
      "cell_type": "markdown",
      "metadata": {
        "id": "tpUNdueEPrw3"
      },
      "source": [
        "# **PREPARING DATA**"
      ]
    },
    {
      "cell_type": "code",
      "source": [
        "def check_duplicate(token):\n",
        "  \"\"\" \n",
        "    parameters:\n",
        "      token: sentence to check words in it is unique or not\n",
        "      \n",
        "    return:\n",
        "      is_unique: return if all words all unique and there is no duplicates\n",
        "      length_difference: return difference between them to get number of duplicates\n",
        "  \"\"\"\n",
        "  token_set = set(token)\n",
        "  is_unique = len(token_set) != len(token) \n",
        "  length_difference = len(token) - len(token_set)\n",
        "  return is_unique, length_difference "
      ],
      "metadata": {
        "id": "lz2-Nx-xU8H2"
      },
      "execution_count": null,
      "outputs": []
    },
    {
      "cell_type": "markdown",
      "metadata": {
        "id": "mF5m7_sBPZCv"
      },
      "source": [
        "Prepare data to model by encoding it into integers and one hot encoding then makes sequence from text \n"
      ]
    },
    {
      "cell_type": "code",
      "execution_count": null,
      "metadata": {
        "id": "3mSbLbxRIKYx"
      },
      "outputs": [],
      "source": [
        "from keras.utils.control_flow_util import constant_value\n",
        "def encode_text(tokens):\n",
        "  \"\"\"\n",
        "    Parameters:\n",
        "      tokens: it is the all word\n",
        "\n",
        "    Return:\n",
        "      tokens: after encoding it using one hot encoder\n",
        "    \"\"\"\n",
        "  encoded_tokens = []\n",
        "  for token, i in zip(tokens, range(len(tokens))):\n",
        "    is_duplicated, length_difference =  check_duplicate(token)\n",
        "    token = np.array(token)\n",
        "    onehot_encoder = OneHotEncoder(sparse=False)\n",
        "    token = token.reshape(-1, 1)\n",
        "    token = onehot_encoder.fit_transform(token)\n",
        "\n",
        "    if is_duplicated:\n",
        "      # add zeros to token to make all shapes equal (10, 10)\n",
        "      # because one hot encoding did not calculate duplicates \n",
        "      # l = ['a', 'b', 'a'] ==> encoded_l = ['01', '10', '01']\n",
        "      # not encode it by its length\n",
        "      token = np.concatenate((token , np.zeros((10,length_difference), dtype=int)), axis=1)\n",
        "\n",
        "    encoded_tokens.append(token)\n",
        "  return np.array(encoded_tokens)"
      ]
    },
    {
      "cell_type": "code",
      "execution_count": null,
      "metadata": {
        "id": "_PAzWxR87I9D"
      },
      "outputs": [],
      "source": [
        "tokens = encode_text(tokens)"
      ]
    },
    {
      "cell_type": "code",
      "source": [
        "tokens[0]"
      ],
      "metadata": {
        "colab": {
          "base_uri": "https://localhost:8080/"
        },
        "id": "7PavMZypHKNg",
        "outputId": "050e8d67-4c0a-4ebc-bda9-3c7fed0ab5ac"
      },
      "execution_count": null,
      "outputs": [
        {
          "output_type": "execute_result",
          "data": {
            "text/plain": [
              "array([[0., 0., 0., 1., 0., 0., 0., 0., 0., 0.],\n",
              "       [0., 0., 0., 0., 1., 0., 0., 0., 0., 0.],\n",
              "       [1., 0., 0., 0., 0., 0., 0., 0., 0., 0.],\n",
              "       [0., 0., 0., 0., 0., 1., 0., 0., 0., 0.],\n",
              "       [0., 0., 0., 0., 0., 0., 1., 0., 0., 0.],\n",
              "       [0., 1., 0., 0., 0., 0., 0., 0., 0., 0.],\n",
              "       [0., 0., 1., 0., 0., 0., 0., 0., 0., 0.],\n",
              "       [0., 0., 0., 0., 0., 0., 0., 1., 0., 0.],\n",
              "       [0., 0., 0., 0., 0., 0., 0., 0., 1., 0.],\n",
              "       [0., 0., 0., 0., 0., 1., 0., 0., 0., 0.]])"
            ]
          },
          "metadata": {},
          "execution_count": 1523
        }
      ]
    },
    {
      "cell_type": "code",
      "source": [
        "\"\"\" one hot encoder for labels \"\"\"\n",
        "labels = np.array(labels)\n",
        "onehot_encoder = OneHotEncoder(sparse=False)\n",
        "labels = labels.reshape(-1, 1)\n",
        "labels = onehot_encoder.fit_transform(labels)"
      ],
      "metadata": {
        "id": "c5Jnb43EmnZJ"
      },
      "execution_count": null,
      "outputs": []
    },
    {
      "cell_type": "code",
      "source": [
        "labels.shape"
      ],
      "metadata": {
        "colab": {
          "base_uri": "https://localhost:8080/"
        },
        "id": "1x6SLR_oij0I",
        "outputId": "4992c572-2407-4a4a-ae32-107deebc60f2"
      },
      "execution_count": null,
      "outputs": [
        {
          "output_type": "execute_result",
          "data": {
            "text/plain": [
              "(47540, 23)"
            ]
          },
          "metadata": {},
          "execution_count": 1525
        }
      ]
    },
    {
      "cell_type": "code",
      "execution_count": null,
      "metadata": {
        "id": "FeG3IAtB18Kn"
      },
      "outputs": [],
      "source": [
        "\"\"\" reshape to tokens shape \"\"\"\n",
        "labels = labels.reshape(4754, 10, 23)"
      ]
    },
    {
      "cell_type": "markdown",
      "metadata": {
        "id": "ITsQ-fqXQARb"
      },
      "source": [
        "Splite data into train, validation and test"
      ]
    },
    {
      "cell_type": "code",
      "execution_count": null,
      "metadata": {
        "id": "44C20gGK1W_N"
      },
      "outputs": [],
      "source": [
        "x_train, x_test, y_train, y_test = train_test_split(tokens, labels, test_size=0.2, random_state=42)\n",
        "x_train, x_valid, y_train, y_valid = train_test_split(x_train, y_train, test_size=0.2, random_state=42)"
      ]
    },
    {
      "cell_type": "markdown",
      "metadata": {
        "id": "MoWaJ8DHQZ0U"
      },
      "source": [
        "# Recognition Model"
      ]
    },
    {
      "cell_type": "markdown",
      "metadata": {
        "id": "-PXzyHPYQGvW"
      },
      "source": [
        "Download pretrained word2vec model for arabic ===> aravec model"
      ]
    },
    {
      "cell_type": "code",
      "execution_count": null,
      "metadata": {
        "id": "NPFmZmo-rRaJ",
        "colab": {
          "base_uri": "https://localhost:8080/",
          "height": 36
        },
        "outputId": "5967c53f-61e4-4981-e9ce-51d84fcd072f"
      },
      "outputs": [
        {
          "output_type": "execute_result",
          "data": {
            "text/plain": [
              "' Both of them give same accuracy '"
            ],
            "application/vnd.google.colaboratory.intrinsic+json": {
              "type": "string"
            }
          },
          "metadata": {},
          "execution_count": 1530
        }
      ],
      "source": [
        "\"\"\" Both of them give same accuracy \"\"\"\n",
        "# !wget https://archive.org/download/aravec2.0/tweet_cbow_300.zip  # This is model which train on 132,750,000 documents\n",
        "# !wget https://archive.org/download/aravec2.0/www_cbow_300.zip  # This is model which train on 66,900,000 documents "
      ]
    },
    {
      "cell_type": "code",
      "execution_count": null,
      "metadata": {
        "id": "yyFPwrzXVxJR"
      },
      "outputs": [],
      "source": [
        "# !unzip -q tweet_cbow_300  \n",
        "\n",
        "# !unzip -q www_cbow_300   ==> model was used\n"
      ]
    },
    {
      "cell_type": "code",
      "execution_count": null,
      "metadata": {
        "id": "0LVg00wwijGP",
        "colab": {
          "base_uri": "https://localhost:8080/"
        },
        "outputId": "c0700579-df8a-45fb-cd20-8f5875810225"
      },
      "outputs": [
        {
          "output_type": "stream",
          "name": "stderr",
          "text": [
            "/usr/local/lib/python3.7/dist-packages/ipykernel_launcher.py:8: DeprecationWarning: Call to deprecated `__getitem__` (Method will be removed in 4.0.0, use self.wv.__getitem__() instead).\n",
            "  \n"
          ]
        },
        {
          "output_type": "stream",
          "name": "stdout",
          "text": [
            "Loaded 234961 word vectors.\n"
          ]
        }
      ],
      "source": [
        "aravec_embeddings_index = {}\n",
        "TOTAL_EMBEDDING_DIM = 300\n",
        "embeddings_model_path = '/content/www_cbow_300'\n",
        "\n",
        "aravec_model = KeyedVectors.load(embeddings_model_path)  # load word2vec model\n",
        "# loop to getting values of words\n",
        "for word in aravec_model.wv.vocab:\n",
        "   aravec_embeddings_index[word] = aravec_model[word]\n",
        "\n",
        "print('Loaded %s word vectors.'% len(aravec_embeddings_index))"
      ]
    },
    {
      "cell_type": "code",
      "execution_count": null,
      "metadata": {
        "id": "WM4k6kliltxq"
      },
      "outputs": [],
      "source": [
        "# create a weight matrix for words in training docs\n",
        "vocab_size = len(tokenizer.word_index) + 1\n",
        "embedding_matrix = np.zeros((vocab_size, TOTAL_EMBEDDING_DIM))\n",
        "print(tokenizer.word_index.items(), tokenizer.word_index)\n",
        "for word, i in tokenizer.word_index.items():\n",
        "    embedding_vector = aravec_embeddings_index.get(word)\n",
        "    if embedding_vector is not None:\n",
        "        embedding_matrix[i] = embedding_vector\n",
        "\n",
        "print('Embedding Matrix shape:', embedding_matrix.shape)"
      ]
    },
    {
      "cell_type": "code",
      "execution_count": null,
      "metadata": {
        "id": "O3UVeK58zsXj"
      },
      "outputs": [],
      "source": [
        "# load embedding layer and set it's weights\n",
        "embedding_layer = Embedding(vocab_size, TOTAL_EMBEDDING_DIM, weights=[embedding_matrix], input_length=10, trainable=False)"
      ]
    },
    {
      "cell_type": "code",
      "execution_count": null,
      "metadata": {
        "id": "qP8rqe7H0Ghq"
      },
      "outputs": [],
      "source": [
        "# define model\n",
        "input_placeholder = Input(shape=(10, 10))\n",
        "input_embedding = embedding_layer(input_placeholder)\n",
        "# reshape data to make many to many model and setting lstm to get multiple inputs\n",
        "inner = Reshape(target_shape=((10, 3000)), name='reshape1')(input_embedding)\n",
        "lstm = LSTM(units=10, input_shape=(10, 3000), return_sequences=True, activation='tanh', name='lstm1')(inner)\n",
        "output = Dense(23, activation='sigmoid', name = 'activation')(lstm)\n",
        "\n",
        "model = Model(inputs=input_placeholder, outputs=output)"
      ]
    },
    {
      "cell_type": "code",
      "execution_count": null,
      "metadata": {
        "id": "myEIJFllRREY",
        "colab": {
          "base_uri": "https://localhost:8080/"
        },
        "outputId": "c59210d9-1356-4a3a-f34d-8f9351beb398"
      },
      "outputs": [
        {
          "output_type": "stream",
          "name": "stdout",
          "text": [
            "Model: \"model_17\"\n",
            "_________________________________________________________________\n",
            " Layer (type)                Output Shape              Param #   \n",
            "=================================================================\n",
            " input_24 (InputLayer)       [(None, 10, 10)]          0         \n",
            "                                                                 \n",
            " embedding_16 (Embedding)    (None, 10, 10, 300)       1538700   \n",
            "                                                                 \n",
            " reshape1 (Reshape)          (None, 10, 3000)          0         \n",
            "                                                                 \n",
            " lstm1 (LSTM)                (None, 10, 10)            120440    \n",
            "                                                                 \n",
            " activation (Dense)          (None, 10, 23)            253       \n",
            "                                                                 \n",
            "=================================================================\n",
            "Total params: 1,659,393\n",
            "Trainable params: 120,693\n",
            "Non-trainable params: 1,538,700\n",
            "_________________________________________________________________\n",
            "None\n"
          ]
        },
        {
          "output_type": "stream",
          "name": "stderr",
          "text": [
            "/usr/local/lib/python3.7/dist-packages/keras/optimizer_v2/adamax.py:90: UserWarning: The `lr` argument is deprecated, use `learning_rate` instead.\n",
            "  super(Adamax, self).__init__(name, **kwargs)\n"
          ]
        }
      ],
      "source": [
        "# compile the model\n",
        "model.compile(loss='binary_crossentropy', optimizer=tf.keras.optimizers.Adamax(lr=0.001), metrics=['accuracy'])\n",
        "# summarize the model\n",
        "print(model.summary())"
      ]
    },
    {
      "cell_type": "code",
      "execution_count": null,
      "metadata": {
        "colab": {
          "base_uri": "https://localhost:8080/"
        },
        "id": "a4Ud6YHg0OPU",
        "outputId": "411a1f8b-7eec-4053-9006-2a4ed8bc52cc"
      },
      "outputs": [
        {
          "output_type": "stream",
          "name": "stdout",
          "text": [
            "Epoch 1/20\n",
            "96/96 [==============================] - 5s 28ms/step - loss: 0.5149 - accuracy: 0.7327 - val_loss: 0.3754 - val_accuracy: 0.8338\n",
            "Epoch 2/20\n",
            "96/96 [==============================] - 2s 22ms/step - loss: 0.2958 - accuracy: 0.8335 - val_loss: 0.2301 - val_accuracy: 0.8338\n",
            "Epoch 3/20\n",
            "96/96 [==============================] - 2s 21ms/step - loss: 0.1916 - accuracy: 0.8335 - val_loss: 0.1605 - val_accuracy: 0.8338\n",
            "Epoch 4/20\n",
            "96/96 [==============================] - 2s 22ms/step - loss: 0.1421 - accuracy: 0.8335 - val_loss: 0.1262 - val_accuracy: 0.8338\n",
            "Epoch 5/20\n",
            "96/96 [==============================] - 2s 21ms/step - loss: 0.1159 - accuracy: 0.8335 - val_loss: 0.1065 - val_accuracy: 0.8338\n",
            "Epoch 6/20\n",
            "96/96 [==============================] - 2s 22ms/step - loss: 0.1001 - accuracy: 0.8335 - val_loss: 0.0940 - val_accuracy: 0.8338\n",
            "Epoch 7/20\n",
            "96/96 [==============================] - 2s 22ms/step - loss: 0.0898 - accuracy: 0.8335 - val_loss: 0.0856 - val_accuracy: 0.8338\n",
            "Epoch 8/20\n",
            "96/96 [==============================] - 2s 21ms/step - loss: 0.0827 - accuracy: 0.8335 - val_loss: 0.0796 - val_accuracy: 0.8338\n",
            "Epoch 9/20\n",
            "96/96 [==============================] - 2s 21ms/step - loss: 0.0775 - accuracy: 0.8335 - val_loss: 0.0752 - val_accuracy: 0.8338\n",
            "Epoch 10/20\n",
            "96/96 [==============================] - 2s 21ms/step - loss: 0.0736 - accuracy: 0.8335 - val_loss: 0.0718 - val_accuracy: 0.8338\n",
            "Epoch 11/20\n",
            "96/96 [==============================] - 2s 21ms/step - loss: 0.0707 - accuracy: 0.8335 - val_loss: 0.0692 - val_accuracy: 0.8338\n",
            "Epoch 12/20\n",
            "96/96 [==============================] - 2s 21ms/step - loss: 0.0683 - accuracy: 0.8335 - val_loss: 0.0671 - val_accuracy: 0.8338\n",
            "Epoch 13/20\n",
            "96/96 [==============================] - 2s 21ms/step - loss: 0.0665 - accuracy: 0.8335 - val_loss: 0.0655 - val_accuracy: 0.8338\n",
            "Epoch 14/20\n",
            "96/96 [==============================] - 2s 21ms/step - loss: 0.0650 - accuracy: 0.8335 - val_loss: 0.0641 - val_accuracy: 0.8338\n",
            "Epoch 15/20\n",
            "96/96 [==============================] - 2s 21ms/step - loss: 0.0638 - accuracy: 0.8335 - val_loss: 0.0630 - val_accuracy: 0.8338\n",
            "Epoch 16/20\n",
            "96/96 [==============================] - 2s 22ms/step - loss: 0.0628 - accuracy: 0.8335 - val_loss: 0.0621 - val_accuracy: 0.8338\n",
            "Epoch 17/20\n",
            "96/96 [==============================] - 2s 21ms/step - loss: 0.0619 - accuracy: 0.8335 - val_loss: 0.0614 - val_accuracy: 0.8338\n",
            "Epoch 18/20\n",
            "96/96 [==============================] - 2s 21ms/step - loss: 0.0612 - accuracy: 0.8335 - val_loss: 0.0607 - val_accuracy: 0.8338\n",
            "Epoch 19/20\n",
            "96/96 [==============================] - 2s 21ms/step - loss: 0.0606 - accuracy: 0.8335 - val_loss: 0.0602 - val_accuracy: 0.8338\n",
            "Epoch 20/20\n",
            "96/96 [==============================] - 2s 21ms/step - loss: 0.0601 - accuracy: 0.8335 - val_loss: 0.0597 - val_accuracy: 0.8338\n"
          ]
        }
      ],
      "source": [
        "history = model.fit(x_train, y_train, validation_data=(x_valid, y_valid), epochs=20, verbose=1)"
      ]
    },
    {
      "cell_type": "code",
      "execution_count": null,
      "metadata": {
        "colab": {
          "base_uri": "https://localhost:8080/"
        },
        "id": "6eadmiFk0kAX",
        "outputId": "8bb7ef36-0c4c-4bff-a6ff-cd740b5ac8af"
      },
      "outputs": [
        {
          "output_type": "stream",
          "name": "stdout",
          "text": [
            "Accuracy: 84.258676 0.057846784591674805\n"
          ]
        }
      ],
      "source": [
        "loss, accuracy = model.evaluate(x_test, y_test, verbose=0)\n",
        "prediction = model.predict(x_test)\n",
        "print('Accuracy: %f' % (accuracy*100), loss)"
      ]
    },
    {
      "cell_type": "code",
      "execution_count": null,
      "metadata": {
        "id": "U1lNPc-Mbzrf"
      },
      "outputs": [],
      "source": [
        "predicted_indixes, true_indcies = [], []\n",
        "for i, j in zip(prediction, y_test):\n",
        "  predicted_indixes.append(np.argmax(i))\n",
        "  true_indcies.append(np.argmax(j))"
      ]
    },
    {
      "cell_type": "markdown",
      "metadata": {
        "id": "JVppVt9IQby6"
      },
      "source": [
        "# Plot Confusion Matrix"
      ]
    },
    {
      "cell_type": "code",
      "execution_count": null,
      "metadata": {
        "id": "Fdq-6X1Ra5bj"
      },
      "outputs": [],
      "source": [
        "from sklearn.metrics import accuracy_score, confusion_matrix\n",
        "cf_matrix = confusion_matrix(predicted_indixes, true_indcies)"
      ]
    },
    {
      "cell_type": "code",
      "execution_count": null,
      "metadata": {
        "colab": {
          "base_uri": "https://localhost:8080/",
          "height": 672
        },
        "id": "9G_NlG-vcFag",
        "outputId": "155c0948-1c7f-40d3-d72b-8916fc102c1f"
      },
      "outputs": [
        {
          "output_type": "display_data",
          "data": {
            "text/plain": [
              "<Figure size 1440x720 with 2 Axes>"
            ],
            "image/png": "[encoded data removed]"
          },
          "metadata": {}
        }
      ],
      "source": [
        "sns.set(rc = {'figure.figsize':(20, 10)})\n",
        "ax = sns.heatmap(cf_matrix, annot=True, cmap='Blues')\n",
        "ax.set_title(f'Seaborn Confusion Matrix with labels\\n\\n')\n",
        "ax.set_xlabel('\\nPredicted Entity')\n",
        "ax.set_ylabel('Actual Entity')\n",
        "# Ticket labels - List must be in alphabetical order\n",
        "ax.xaxis.set_ticklabels(['',\n",
        " 'B-LOC',\n",
        " 'B-MIS',\n",
        " 'B-MIS-1',\n",
        " 'B-MIS0',\n",
        " 'B-MIS1',\n",
        " 'B-MIS1`',\n",
        " 'B-MIS2',\n",
        " 'B-MIS3',\n",
        " 'B-MISS1',\n",
        " 'B-ORG',\n",
        " 'B-PER',\n",
        " 'I--ORG',\n",
        " 'I-LOC',\n",
        " 'I-MIS',\n",
        " 'I-MIS0',\n",
        " 'I-MIS1',\n",
        " 'I-MIS2',\n",
        " 'I-MIS3',\n",
        " 'I-ORG',\n",
        " 'I-PER',\n",
        " 'IO',\n",
        " 'O'])\n",
        "ax.yaxis.set_ticklabels(['',\n",
        " 'B-LOC',\n",
        " 'B-MIS',\n",
        " 'B-MIS-1',\n",
        " 'B-MIS0',\n",
        " 'B-MIS1',\n",
        " 'B-MIS1`',\n",
        " 'B-MIS2',\n",
        " 'B-MIS3',\n",
        " 'B-MISS1',\n",
        " 'B-ORG',\n",
        " 'B-PER',\n",
        " 'I--ORG',\n",
        " 'I-LOC',\n",
        " 'I-MIS',\n",
        " 'I-MIS0',\n",
        " 'I-MIS1',\n",
        " 'I-MIS2',\n",
        " 'I-MIS3',\n",
        " 'I-ORG',\n",
        " 'I-PER',\n",
        " 'IO',\n",
        " 'O'])\n",
        "# Display the visualization of the Confusion Matrix.\n",
        "plt.show()"
      ]
    },
    {
      "cell_type": "markdown",
      "metadata": {
        "id": "pIqJVRBtRbKQ"
      },
      "source": [
        "# Plot Fitting"
      ]
    },
    {
      "cell_type": "code",
      "execution_count": null,
      "metadata": {
        "colab": {
          "base_uri": "https://localhost:8080/",
          "height": 627
        },
        "id": "y-ZiQ8tUAQOe",
        "outputId": "8a872425-1c45-4d6e-e427-54d3b08bb8da"
      },
      "outputs": [
        {
          "output_type": "display_data",
          "data": {
            "text/plain": [
              "<Figure size 1440x720 with 1 Axes>"
            ],
            "image/png": "[encoded data removed]"
          },
          "metadata": {}
        }
      ],
      "source": [
        "plt.plot(history.history['accuracy'])\n",
        "plt.plot(history.history['val_accuracy'])\n",
        "plt.title('model accuracy')\n",
        "plt.ylabel('accuracy')\n",
        "plt.xlabel('epoch')\n",
        "plt.legend(['train', 'validation'], loc='lower right')\n",
        "plt.show()"
      ]
    },
    {
      "cell_type": "code",
      "execution_count": null,
      "metadata": {
        "colab": {
          "base_uri": "https://localhost:8080/",
          "height": 627
        },
        "id": "zF43SOZKBErC",
        "outputId": "001191c4-947a-4141-bdf6-82973e7a2d6d"
      },
      "outputs": [
        {
          "output_type": "display_data",
          "data": {
            "text/plain": [
              "<Figure size 1440x720 with 1 Axes>"
            ],
            "image/png": "[encoded data removed]"
          },
          "metadata": {}
        }
      ],
      "source": [
        "plt.plot(history.history['loss'])\n",
        "plt.plot(history.history['val_loss'])\n",
        "plt.title('model loss')\n",
        "plt.ylabel('loss')\n",
        "plt.xlabel('epoch')\n",
        "plt.legend(['train', 'validation'], loc='upper right')\n",
        "plt.show()"
      ]
    },
    {
      "cell_type": "code",
      "execution_count": null,
      "metadata": {
        "id": "-CvywjfhTm5a"
      },
      "outputs": [],
      "source": [
        "labels = ['',\n",
        " 'B-LOC',\n",
        " 'B-MIS',\n",
        " 'B-MIS-1',\n",
        " 'B-MIS0',\n",
        " 'B-MIS1',\n",
        " 'B-MIS1`',\n",
        " 'B-MIS2',\n",
        " 'B-MIS3',\n",
        " 'B-MISS1',\n",
        " 'B-ORG',\n",
        " 'B-PER',\n",
        " 'I--ORG',\n",
        " 'I-LOC',\n",
        " 'I-MIS',\n",
        " 'I-MIS0',\n",
        " 'I-MIS1',\n",
        " 'I-MIS2',\n",
        " 'I-MIS3',\n",
        " 'I-ORG',\n",
        " 'I-PER',\n",
        " 'IO',\n",
        " 'O']"
      ]
    },
    {
      "cell_type": "code",
      "source": [
        "def encode(token):\n",
        "  \"\"\" encode test text \"\"\"\n",
        "  is_duplicated, length_difference =  check_duplicate(token)\n",
        "  token = np.array(token)\n",
        "  onehot_encoder = OneHotEncoder(sparse=False)\n",
        "  token = token.reshape(-1, 1)\n",
        "  token = onehot_encoder.fit_transform(token)\n",
        "  \n",
        "  return token"
      ],
      "metadata": {
        "id": "Ys9IwBMCrmeJ"
      },
      "execution_count": null,
      "outputs": []
    },
    {
      "cell_type": "code",
      "execution_count": null,
      "metadata": {
        "colab": {
          "base_uri": "https://localhost:8080/"
        },
        "id": "meKuMuqUD4Nm",
        "outputId": "cb1acee5-4682-4cfd-801c-d52f2bffa398"
      },
      "outputs": [
        {
          "output_type": "stream",
          "name": "stdout",
          "text": [
            "نخب\n",
            "مصر\n",
            "كثر\n",
            "توج\n",
            "فى\n",
            "قرة\n",
            "فرق\n",
            "قيد\n",
            "حسن\n",
            "شحت\n",
            "O\n",
            "O\n",
            "O\n",
            "O\n",
            "O\n",
            "O\n",
            "O\n",
            "O\n",
            "O\n",
            "O\n"
          ]
        }
      ],
      "source": [
        "text = 'منتخب مصر الأكثر تتويجا فى قارة افريقيا بقيادة حسن شحاتة'\n",
        "text = text.split()\n",
        "test_text = []\n",
        "\n",
        "for word in text:\n",
        "  word, is_stop_word = token_preprocessing(word)\n",
        "  \n",
        "  if not is_stop_word:\n",
        "    test_text.append(word)\n",
        "# prepate test text to model\n",
        "test_text = encode(test_text)\n",
        "test_text = test_text.reshape(1, 10, 10)\n",
        "prediction = model.predict(test_text)\n",
        "for i in range(len(prediction[0])):\n",
        "  index = prediction[0][i].argmax()\n",
        "  print(labels[index])"
      ]
    }
  ],
  "metadata": {
    "colab": {
      "collapsed_sections": [],
      "name": "Arabic Entity Recognition.ipynb",
      "provenance": [],
      "include_colab_link": true
    },
    "kernelspec": {
      "display_name": "Python 3",
      "name": "python3"
    },
    "language_info": {
      "name": "python"
    }
  },
  "nbformat": 4,
  "nbformat_minor": 0
}